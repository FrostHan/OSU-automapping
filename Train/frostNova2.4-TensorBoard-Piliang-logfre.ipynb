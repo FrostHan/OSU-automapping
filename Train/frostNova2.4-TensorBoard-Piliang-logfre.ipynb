{
 "cells": [
  {
   "cell_type": "code",
   "execution_count": 1,
   "metadata": {
    "collapsed": true
   },
   "outputs": [],
   "source": [
    "import tensorflow as tf\n",
    "import scipy.io as sio\n",
    "import matplotlib.pyplot as plt\n",
    "import os\n",
    "import numpy as np\n",
    "import shutil\n",
    "tf.summary.FileWriterCache.clear()\n",
    "shutil.rmtree('D:/MATLAB/OSU/OSU-automapping/Train/log/', ignore_errors=True)\n",
    "\n",
    "sess = tf.InteractiveSession()"
   ]
  },
  {
   "cell_type": "code",
   "execution_count": 2,
   "metadata": {
    "collapsed": true
   },
   "outputs": [],
   "source": [
    "# Define functions\n",
    "\n",
    "def conv2d(x, W, dy ,dx):\n",
    "  return tf.nn.conv2d(x, W, strides=[1, dx, dy, 1], padding='SAME')\n",
    "\n",
    "def max_pool_axb(x,a,b):\n",
    "  return tf.nn.max_pool(x, ksize=[1, a, b, 1],\n",
    "                        strides=[1, a, b, 1], padding='SAME')\n",
    "\n",
    "def weight_variable(shape):\n",
    "  initial = tf.truncated_normal(shape, stddev=0.1)\n",
    "  return tf.Variable(initial)\n",
    "\n",
    "def bias_variable(shape):\n",
    "  initial = tf.constant(0.1, shape=shape)\n",
    "  return tf.Variable(initial)\n",
    "\n",
    "# def variable_summaries(var):\n",
    "#   \"\"\"Attach a lot of summaries to a Tensor (for TensorBoard visualization).\"\"\"\n",
    "#   with tf.name_scope('summaries'):\n",
    "#     mean = tf.reduce_mean(var)\n",
    "#     tf.summary.scalar('mean', mean)\n",
    "#     with tf.name_scope('stddev'):\n",
    "#       stddev = tf.sqrt(tf.reduce_mean(tf.square(var - mean)))\n",
    "#     tf.summary.scalar('stddev', stddev)\n",
    "#     tf.summary.scalar('max', tf.reduce_max(var))\n",
    "#     tf.summary.scalar('min', tf.reduce_min(var))\n",
    "#     tf.summary.histogram('histogram', var)"
   ]
  },
  {
   "cell_type": "markdown",
   "metadata": {
    "collapsed": true
   },
   "source": [
    "# Number of neurons , filters and layers"
   ]
  },
  {
   "cell_type": "code",
   "execution_count": 3,
   "metadata": {},
   "outputs": [
    {
     "name": "stdout",
     "output_type": "stream",
     "text": [
      "2048\n"
     ]
    }
   ],
   "source": [
    "# Define the parameters of the network\n",
    "\n",
    "#-----------ACC 0.774 *** score 81----------------\n",
    "nx_conv1=16      # filter_width (frequency)\n",
    "my_conv1=4   # filter_height (time)\n",
    "dnx_conv1=4    # stride_width\n",
    "dmy_conv1=1    # stride_height\n",
    "\n",
    "nx_pool1=4      # pooling width\n",
    "my_pool1=1      # pooling height\n",
    "\n",
    "channels_conv1=64    # channels num\n",
    "\n",
    "nx_conv2=2\n",
    "my_conv2=16\n",
    "dnx_conv2=1\n",
    "dmy_conv2=8\n",
    "\n",
    "nx_pool2=2\n",
    "my_pool2=1\n",
    "\n",
    "\n",
    "channels_conv2=32\n",
    "\n",
    "size_input_fc1=int(128*128*channels_conv2/dnx_conv1/dmy_conv1/dnx_conv2/dmy_conv2/nx_pool1/my_pool1/nx_pool2/my_pool2)\n",
    "num_neurons_fc1=128\n",
    "\n",
    "print(size_input_fc1)\n",
    "\n",
    "\n",
    "\n",
    "\n",
    "# nx_conv1=16      # filter_width (frequency)\n",
    "# my_conv1=4   # filter_height (time)\n",
    "# dnx_conv1=1    # stride_width\n",
    "# dmy_conv1=2    # stride_height\n",
    "\n",
    "# nx_pool1=4      # pooling width\n",
    "# my_pool1=2      # pooling height\n",
    "\n",
    "# channels_conv1=32    # channels num\n",
    "\n",
    "# nx_conv2=2\n",
    "# my_conv2=16\n",
    "# dnx_conv2=1\n",
    "# dmy_conv2=8\n",
    "\n",
    "# nx_pool2=2\n",
    "# my_pool2=1\n",
    "\n",
    "\n",
    "# channels_conv2=8\n",
    "\n",
    "# size_input_fc1=int(128*128*channels_conv2/dnx_conv1/dmy_conv1/dnx_conv2/dmy_conv2/nx_pool1/my_pool1/nx_pool2/my_pool2)\n",
    "# num_neurons_fc1=64\n",
    "\n",
    "# print(size_input_fc1)"
   ]
  },
  {
   "cell_type": "code",
   "execution_count": null,
   "metadata": {
    "collapsed": true
   },
   "outputs": [],
   "source": []
  },
  {
   "cell_type": "code",
   "execution_count": null,
   "metadata": {
    "collapsed": true
   },
   "outputs": [],
   "source": []
  },
  {
   "cell_type": "code",
   "execution_count": null,
   "metadata": {
    "collapsed": true,
    "scrolled": true
   },
   "outputs": [],
   "source": []
  },
  {
   "cell_type": "code",
   "execution_count": null,
   "metadata": {
    "collapsed": true
   },
   "outputs": [],
   "source": []
  },
  {
   "cell_type": "markdown",
   "metadata": {
    "collapsed": true
   },
   "source": [
    "# Network Structure"
   ]
  },
  {
   "cell_type": "code",
   "execution_count": 4,
   "metadata": {
    "collapsed": true
   },
   "outputs": [],
   "source": [
    "x = tf.placeholder(\"float\", shape=[None, 128*128])\n",
    "y_ = tf.placeholder(\"float\", shape=[None, 4])\n",
    "\n",
    "\n",
    "x_image = tf.reshape(x, [-1,128,128,1])\n",
    "\n",
    "W_conv1 = weight_variable([nx_conv1,my_conv1,1,channels_conv1])\n",
    "b_conv1 = bias_variable([channels_conv1])\n",
    "\n",
    "\n",
    "h_conv1 = tf.nn.relu(conv2d(x_image, W_conv1, dnx_conv1, dmy_conv1 ) + b_conv1)\n",
    "h_pool1 = max_pool_axb(h_conv1, nx_pool1, my_pool1)\n",
    "\n",
    "\n",
    "W_conv2 = weight_variable([nx_conv2, my_conv2, channels_conv1, channels_conv2])\n",
    "b_conv2 = bias_variable([channels_conv2])\n",
    "\n",
    "h_conv2 = tf.nn.relu(conv2d(h_pool1, W_conv2, dnx_conv2, dmy_conv2 ) + b_conv2)\n",
    "h_pool2 = max_pool_axb(h_conv2, nx_pool2, my_pool2)\n",
    "\n",
    "\n",
    "\n",
    "W_fc1 = weight_variable([size_input_fc1, num_neurons_fc1])\n",
    "b_fc1 = bias_variable([num_neurons_fc1])\n",
    "\n",
    "h_pool2_flat = tf.reshape(h_pool2, [-1, size_input_fc1])\n",
    "h_fc1 = tf.nn.relu(tf.matmul(h_pool2_flat, W_fc1) + b_fc1)\n",
    "\n",
    "\n",
    "W_fc2 = weight_variable([num_neurons_fc1, 4])\n",
    "b_fc2 = bias_variable([4])\n",
    "\n",
    "\n",
    "\n",
    "keep_prob = tf.placeholder(\"float\")\n",
    "h_fc1_drop = tf.nn.dropout(h_fc1, keep_prob)\n",
    "\n",
    "y_conv=tf.nn.softmax(tf.matmul(h_fc1_drop, W_fc2) + b_fc2)\n",
    "\n",
    "\n",
    "\n",
    "cross_entropy = -tf.reduce_sum(y_*tf.log(y_conv))\n",
    "train_step = tf.train.AdamOptimizer(1e-4).minimize(cross_entropy)\n",
    "correct_prediction = tf.equal(tf.argmax(y_conv,1), tf.argmax(y_,1))\n",
    "accuracy = tf.reduce_mean(tf.cast(correct_prediction, \"float\"))\n"
   ]
  },
  {
   "cell_type": "code",
   "execution_count": null,
   "metadata": {
    "collapsed": true
   },
   "outputs": [],
   "source": []
  },
  {
   "cell_type": "code",
   "execution_count": null,
   "metadata": {
    "collapsed": true
   },
   "outputs": [],
   "source": []
  },
  {
   "cell_type": "code",
   "execution_count": null,
   "metadata": {
    "collapsed": true
   },
   "outputs": [],
   "source": []
  },
  {
   "cell_type": "code",
   "execution_count": null,
   "metadata": {
    "collapsed": true
   },
   "outputs": [],
   "source": []
  },
  {
   "cell_type": "code",
   "execution_count": null,
   "metadata": {
    "collapsed": true
   },
   "outputs": [],
   "source": []
  },
  {
   "cell_type": "markdown",
   "metadata": {
    "collapsed": true
   },
   "source": [
    "# Read test data and initialize the session"
   ]
  },
  {
   "cell_type": "code",
   "execution_count": 5,
   "metadata": {
    "collapsed": true
   },
   "outputs": [],
   "source": [
    "testData=sio.loadmat('C:/OSU/SongMat/Test/532522 SakiZ - osu!memories.mat')\n",
    "inputTest=testData['input'].reshape(-1,128*128)\n",
    "targetTest=testData['target'].reshape(-1,4)\n",
    "\n",
    "NTest=targetTest.shape[0]"
   ]
  },
  {
   "cell_type": "code",
   "execution_count": 6,
   "metadata": {
    "collapsed": true
   },
   "outputs": [],
   "source": [
    "sess.run(tf.global_variables_initializer())"
   ]
  },
  {
   "cell_type": "code",
   "execution_count": 7,
   "metadata": {
    "collapsed": true,
    "scrolled": false
   },
   "outputs": [],
   "source": [
    "saver = tf.train.Saver()\n"
   ]
  },
  {
   "cell_type": "code",
   "execution_count": 8,
   "metadata": {
    "scrolled": false
   },
   "outputs": [
    {
     "name": "stdout",
     "output_type": "stream",
     "text": [
      "18000\n",
      "test accuracy 0.583333\n",
      "[[ 0.15981978  0.06132326  0.17136712  0.60748982]\n",
      " [ 0.15079373  0.0623415   0.13543428  0.65143043]\n",
      " [ 0.04101622  0.01253377  0.03536366  0.91108632]\n",
      " [ 0.20511925  0.07980452  0.1321266   0.58294958]\n",
      " [ 0.24709551  0.12209065  0.15563384  0.47517994]\n",
      " [ 0.13744105  0.0551135   0.15856458  0.6488809 ]\n",
      " [ 0.21747279  0.10516161  0.22265232  0.45471323]\n",
      " [ 0.25246125  0.13775998  0.20255002  0.40722877]\n",
      " [ 0.2309622   0.09292988  0.18898357  0.48712438]\n",
      " [ 0.29307935  0.16463862  0.19339055  0.34889156]]\n",
      "1\n",
      "17019\n",
      "test accuracy 0.563333\n",
      "[[ 0.27540052  0.19266242  0.11782102  0.414116  ]\n",
      " [ 0.16846536  0.0642752   0.14371403  0.62354547]\n",
      " [ 0.04472848  0.0060489   0.03939522  0.90982741]\n",
      " [ 0.14834395  0.03298911  0.07149056  0.74717635]\n",
      " [ 0.3810975   0.42190894  0.14682326  0.05017033]\n",
      " [ 0.38118812  0.26363373  0.14273824  0.21243988]\n",
      " [ 0.42760658  0.26823932  0.16007988  0.14407422]\n",
      " [ 0.39126787  0.21738817  0.2197272   0.17161673]\n",
      " [ 0.31485683  0.1923454   0.15414299  0.33865476]\n",
      " [ 0.21407956  0.10637628  0.12910348  0.55044067]]\n",
      "3\n",
      "16906\n",
      "test accuracy 0.623333\n",
      "[[ 0.32759655  0.12887508  0.34278908  0.20073931]\n",
      " [ 0.46036732  0.18669327  0.16133526  0.19160412]\n",
      " [ 0.25421077  0.11287568  0.25352252  0.37939098]\n",
      " [ 0.27340451  0.10437933  0.1954982   0.42671788]\n",
      " [ 0.27491957  0.1312781   0.15713605  0.43666622]\n",
      " [ 0.41098639  0.15404895  0.21082719  0.22413741]\n",
      " [ 0.48069492  0.25208244  0.15979019  0.10743246]\n",
      " [ 0.38024139  0.17406741  0.20225321  0.24343801]\n",
      " [ 0.17997909  0.03227302  0.09254739  0.6952005 ]\n",
      " [ 0.1524718   0.03029407  0.08074614  0.73648798]]\n",
      "5\n",
      "17923\n",
      "test accuracy 0.646667\n",
      "[[  7.13884532e-02   1.29488185e-02   4.23081145e-02   8.73354614e-01]\n",
      " [  3.52582127e-01   6.54546320e-02   1.36947706e-01   4.45015490e-01]\n",
      " [  2.08579749e-01   4.12482284e-02   1.57277420e-01   5.92894673e-01]\n",
      " [  4.06118840e-01   1.59750193e-01   1.40153423e-01   2.93977529e-01]\n",
      " [  1.93514116e-02   1.54295878e-03   1.77662075e-02   9.61339355e-01]\n",
      " [  3.94663781e-01   1.58880174e-01   2.25409865e-01   2.21046135e-01]\n",
      " [  2.56260782e-01   4.91103865e-02   1.51584208e-01   5.43044627e-01]\n",
      " [  1.70254901e-01   7.20288083e-02   1.45954117e-01   6.11762166e-01]\n",
      " [  1.09786745e-02   5.84246067e-04   5.32247545e-03   9.83114600e-01]\n",
      " [  2.95190483e-01   1.18300065e-01   1.83357894e-01   4.03151631e-01]]\n",
      "7\n",
      "16079\n",
      "test accuracy 0.636667\n",
      "[[ 0.19720939  0.02932354  0.06168721  0.71177989]\n",
      " [ 0.42885107  0.23088963  0.18861607  0.15164332]\n",
      " [ 0.22198929  0.06379165  0.17487748  0.53934157]\n",
      " [ 0.26078448  0.02895549  0.09302247  0.61723757]\n",
      " [ 0.04902483  0.00601063  0.02786309  0.9171015 ]\n",
      " [ 0.32919198  0.12220696  0.25628132  0.29231986]\n",
      " [ 0.31290549  0.08151107  0.21469414  0.39088935]\n",
      " [ 0.05222384  0.00609923  0.02706559  0.91461128]\n",
      " [ 0.1258136   0.03894474  0.10134879  0.73389286]\n",
      " [ 0.13266465  0.01629162  0.09068714  0.76035655]]\n",
      "9\n",
      "17316\n",
      "test accuracy 0.67\n",
      "[[ 0.33959243  0.13558595  0.16757669  0.35724497]\n",
      " [ 0.37222427  0.07500748  0.11890436  0.43386385]\n",
      " [ 0.16045186  0.02335581  0.09800709  0.71818531]\n",
      " [ 0.36938661  0.19512399  0.13255827  0.30293116]\n",
      " [ 0.12265307  0.01878759  0.07016717  0.78839219]\n",
      " [ 0.4293038   0.20223139  0.27694669  0.09151822]\n",
      " [ 0.521222    0.2719723   0.14287323  0.06393253]\n",
      " [ 0.10965092  0.02291643  0.07351816  0.79391444]\n",
      " [ 0.18753675  0.02751282  0.08141481  0.70353568]\n",
      " [ 0.1793616   0.04853086  0.04832543  0.72378206]]\n",
      "11\n",
      "14253\n",
      "test accuracy 0.623333\n",
      "[[ 0.28951463  0.04760011  0.13015708  0.5327282 ]\n",
      " [ 0.41620567  0.18560688  0.24458106  0.15360636]\n",
      " [ 0.06810976  0.0360794   0.06301498  0.83279586]\n",
      " [ 0.03480652  0.00334592  0.01323434  0.94861329]\n",
      " [ 0.17213419  0.01965359  0.0433723   0.76483989]\n",
      " [ 0.20731954  0.02716279  0.13478826  0.63072944]\n",
      " [ 0.41393301  0.15110414  0.28643179  0.14853109]\n",
      " [ 0.230629    0.03522912  0.07881682  0.65532506]\n",
      " [ 0.36118576  0.14396001  0.15558293  0.33927128]\n",
      " [ 0.1757727   0.01662894  0.09216089  0.71543747]]\n",
      "13\n",
      "14052\n",
      "test accuracy 0.62\n",
      "[[ 0.37944892  0.27670914  0.17791754  0.1659244 ]\n",
      " [ 0.60315037  0.21627991  0.1539408   0.02662895]\n",
      " [ 0.08813379  0.00361828  0.02186054  0.88638741]\n",
      " [ 0.23024881  0.03528237  0.0585893   0.67587948]\n",
      " [ 0.4049359   0.14340945  0.14002399  0.31163076]\n",
      " [ 0.39240751  0.15828016  0.30036929  0.14894308]\n",
      " [ 0.34415784  0.04916143  0.11390317  0.49277747]\n",
      " [ 0.48827061  0.17411646  0.19049385  0.14711913]\n",
      " [ 0.07140295  0.00470717  0.02189505  0.90199482]\n",
      " [ 0.21076913  0.01212998  0.04933202  0.7277689 ]]\n",
      "15\n",
      "17782\n",
      "test accuracy 0.653333\n",
      "[[  4.75773543e-01   2.62068599e-01   1.52184412e-01   1.09973378e-01]\n",
      " [  5.27278781e-01   2.83581674e-01   1.51066408e-01   3.80731784e-02]\n",
      " [  1.38263162e-02   2.72966834e-04   9.79173556e-03   9.76108968e-01]\n",
      " [  2.70936370e-01   1.63589612e-01   2.30117783e-01   3.35356206e-01]\n",
      " [  2.59491473e-01   5.89988790e-02   1.72063768e-01   5.09445846e-01]\n",
      " [  2.01195553e-01   5.89955524e-02   1.29090145e-01   6.10718727e-01]\n",
      " [  8.41474980e-02   1.68756619e-02   8.70463699e-02   8.11930537e-01]\n",
      " [  7.82811418e-02   9.84432828e-03   4.28628549e-02   8.69011700e-01]\n",
      " [  4.95799601e-01   1.69138014e-01   2.49122128e-01   8.59402791e-02]\n",
      " [  2.78498620e-01   4.80014011e-02   2.02756852e-01   4.70743209e-01]]\n",
      "17\n",
      "14950\n",
      "test accuracy 0.68\n",
      "[[  5.79487346e-03   1.94004111e-04   2.70204875e-03   9.91309047e-01]\n",
      " [  5.03639996e-01   2.54706919e-01   1.57624662e-01   8.40284005e-02]\n",
      " [  2.04560250e-01   2.35458657e-01   1.32873729e-01   4.27107394e-01]\n",
      " [  3.69530767e-01   2.83091426e-01   1.36279479e-01   2.11098298e-01]\n",
      " [  1.63859487e-01   5.67663312e-02   9.76641402e-02   6.81710064e-01]\n",
      " [  1.62111565e-01   3.11188288e-02   9.22815204e-02   7.14488149e-01]\n",
      " [  1.40406847e-01   3.30681540e-02   6.21788688e-02   7.64346123e-01]\n",
      " [  4.46144372e-01   1.14041202e-01   1.99467674e-01   2.40346774e-01]\n",
      " [  8.80757347e-02   2.54971236e-02   5.62913418e-02   8.30135822e-01]\n",
      " [  4.02104169e-01   5.05852520e-01   7.07282797e-02   2.13149916e-02]]\n",
      "19\n",
      "16210\n",
      "test accuracy 0.643333\n",
      "[[ 0.19015902  0.04361195  0.17004834  0.59618068]\n",
      " [ 0.37358138  0.16656455  0.25469619  0.2051578 ]\n",
      " [ 0.4136638   0.27856359  0.16674793  0.14102471]\n",
      " [ 0.38018242  0.08667129  0.13993379  0.39321253]\n",
      " [ 0.467089    0.16484483  0.21387759  0.15418856]\n",
      " [ 0.47862267  0.38983777  0.09803277  0.03350686]\n",
      " [ 0.19187395  0.03618837  0.09689825  0.67503947]\n",
      " [ 0.26826337  0.07996989  0.29734412  0.35442263]\n",
      " [ 0.21773362  0.04248811  0.07535085  0.6644274 ]\n",
      " [ 0.20718589  0.06760953  0.12097678  0.60422778]]\n",
      "21\n",
      "17314\n",
      "test accuracy 0.676667\n",
      "[[  1.96930692e-01   5.31103946e-02   2.03773722e-01   5.46185195e-01]\n",
      " [  4.55337882e-01   1.09499171e-01   1.92274824e-01   2.42888108e-01]\n",
      " [  7.69907758e-02   1.57474261e-02   4.20037135e-02   8.65258098e-01]\n",
      " [  1.10724919e-01   1.71006601e-02   8.09114575e-02   7.91262925e-01]\n",
      " [  3.95845383e-01   1.13461837e-01   2.49565378e-01   2.41127446e-01]\n",
      " [  1.71003476e-01   2.92510297e-02   9.49681327e-02   7.04777420e-01]\n",
      " [  3.37974429e-02   1.26912408e-02   5.26546985e-02   9.00856555e-01]\n",
      " [  2.64325133e-03   4.45796250e-05   2.14827410e-03   9.95163918e-01]\n",
      " [  5.06207466e-01   1.88522801e-01   1.75029367e-01   1.30240396e-01]\n",
      " [  1.11395016e-01   2.97920760e-02   1.17994152e-01   7.40818799e-01]]\n",
      "23\n",
      "17424\n",
      "test accuracy 0.636667\n",
      "[[  9.63585675e-02   4.64578643e-02   9.84603092e-02   7.58723259e-01]\n",
      " [  3.03194940e-01   1.87951818e-01   2.33517423e-01   2.75335759e-01]\n",
      " [  1.52366385e-01   4.16129194e-02   8.78054723e-02   7.18215227e-01]\n",
      " [  7.32872076e-03   2.43310205e-04   9.13602766e-03   9.83291924e-01]\n",
      " [  2.11416513e-01   7.70546272e-02   1.01864383e-01   6.09664500e-01]\n",
      " [  2.33125180e-01   2.35437378e-01   1.81117401e-01   3.50320071e-01]\n",
      " [  6.79925978e-02   6.96590822e-03   5.09524979e-02   8.74089062e-01]\n",
      " [  2.54403278e-02   4.58568754e-03   2.17725392e-02   9.48201418e-01]\n",
      " [  1.66639592e-02   1.76882662e-03   1.33753940e-02   9.68191862e-01]\n",
      " [  2.79339463e-01   6.63567781e-02   1.52616575e-01   5.01687169e-01]]\n",
      "25\n",
      "18835\n",
      "test accuracy 0.66\n",
      "[[ 0.09426353  0.01322573  0.06000448  0.8325063 ]\n",
      " [ 0.52101964  0.16001467  0.19167253  0.12729321]\n",
      " [ 0.60683292  0.2817376   0.10212628  0.00930324]\n",
      " [ 0.20142585  0.21686681  0.10955829  0.47214898]\n",
      " [ 0.0915639   0.01379615  0.08861168  0.80602831]\n",
      " [ 0.08880816  0.01145731  0.08033567  0.81939882]\n",
      " [ 0.05803808  0.01328022  0.05561442  0.8730672 ]\n",
      " [ 0.04426061  0.00116835  0.0249476   0.92962348]\n",
      " [ 0.06949575  0.02183712  0.09472866  0.8139385 ]\n",
      " [ 0.20278423  0.03197891  0.16929939  0.59593749]]\n",
      "27\n"
     ]
    },
    {
     "name": "stdout",
     "output_type": "stream",
     "text": [
      "24654\n",
      "test accuracy 0.676667\n",
      "[[ 0.4960596   0.27394316  0.14088142  0.08911574]\n",
      " [ 0.31229064  0.04830289  0.27474764  0.36465883]\n",
      " [ 0.30548304  0.07297985  0.21269315  0.4088439 ]\n",
      " [ 0.63215667  0.20691316  0.14596803  0.0149622 ]\n",
      " [ 0.47722214  0.30816787  0.13617112  0.07843886]\n",
      " [ 0.18600434  0.05750968  0.13173987  0.62474614]\n",
      " [ 0.42096502  0.08169335  0.28073153  0.21661007]\n",
      " [ 0.0831892   0.00660923  0.028045    0.88215661]\n",
      " [ 0.58555216  0.14985761  0.19592234  0.06866792]\n",
      " [ 0.40963247  0.07163986  0.17016241  0.34856522]]\n",
      "29\n",
      "22131\n",
      "test accuracy 0.61\n",
      "[[ 0.12176897  0.00866994  0.07503379  0.79452729]\n",
      " [ 0.22424011  0.06790307  0.26821825  0.43963861]\n",
      " [ 0.3429763   0.08993907  0.22593026  0.34115437]\n",
      " [ 0.46385273  0.38222161  0.13399291  0.01993268]\n",
      " [ 0.04268776  0.00144441  0.02060008  0.93526775]\n",
      " [ 0.16560972  0.01177231  0.06022498  0.76239294]\n",
      " [ 0.13501765  0.01937293  0.05481937  0.79079008]\n",
      " [ 0.05736954  0.00881661  0.05306205  0.88075185]\n",
      " [ 0.04243447  0.00194786  0.01680338  0.93881428]\n",
      " [ 0.0193955   0.00243271  0.02027948  0.95789236]]\n",
      "31\n",
      "23868\n",
      "test accuracy 0.653333\n",
      "[[ 0.39468032  0.20431314  0.27662757  0.12437895]\n",
      " [ 0.21936786  0.08233951  0.15757783  0.5407148 ]\n",
      " [ 0.63021088  0.20183353  0.16096884  0.00698677]\n",
      " [ 0.03888056  0.00254831  0.01786125  0.94070983]\n",
      " [ 0.08738635  0.01207261  0.05911588  0.84142524]\n",
      " [ 0.06961204  0.0134948   0.05306168  0.86383152]\n",
      " [ 0.43853909  0.07725015  0.30728149  0.17692924]\n",
      " [ 0.47503635  0.24856539  0.18784948  0.08854882]\n",
      " [ 0.17751485  0.04463734  0.12443082  0.65341699]\n",
      " [ 0.40229422  0.09281376  0.08688527  0.41800675]]\n",
      "33\n",
      "25764\n",
      "test accuracy 0.673333\n",
      "[[  1.43728340e-02   5.83563757e-04   3.55356210e-03   9.81490076e-01]\n",
      " [  1.43800840e-01   1.89897642e-02   8.52796957e-02   7.51929760e-01]\n",
      " [  6.99251771e-01   1.46528602e-01   1.43460363e-01   1.07592978e-02]\n",
      " [  2.84710914e-01   1.15744121e-01   2.79463798e-01   3.20081204e-01]\n",
      " [  2.62386322e-01   1.12967849e-01   2.27641478e-01   3.97004366e-01]\n",
      " [  1.35749787e-01   1.36726089e-02   5.79754859e-02   7.92602181e-01]\n",
      " [  9.20992494e-02   5.83809614e-03   3.81252207e-02   8.63937438e-01]\n",
      " [  1.44949928e-02   2.00075912e-04   5.70705160e-03   9.79597867e-01]\n",
      " [  3.80864918e-01   2.06143022e-01   2.23107487e-01   1.89884499e-01]\n",
      " [  1.66074499e-01   1.10960472e-02   5.90272211e-02   7.63802230e-01]]\n",
      "35\n",
      "26258\n",
      "test accuracy 0.643333\n",
      "[[  6.40499368e-02   1.95210986e-03   1.41634550e-02   9.19834495e-01]\n",
      " [  2.19926238e-01   1.77467003e-01   2.59540558e-01   3.43066156e-01]\n",
      " [  3.81439298e-01   5.09512305e-01   8.75634253e-02   2.14849468e-02]\n",
      " [  1.60545200e-01   1.49183292e-02   4.99839298e-02   7.74552524e-01]\n",
      " [  1.75238758e-01   6.01332784e-02   1.71349183e-01   5.93278825e-01]\n",
      " [  5.12701213e-01   1.11587532e-01   2.62742639e-01   1.12968609e-01]\n",
      " [  2.32557639e-01   3.85104492e-02   7.98196495e-02   6.49112284e-01]\n",
      " [  4.01472999e-03   2.82692727e-05   4.56935319e-04   9.95500028e-01]\n",
      " [  4.13443893e-01   8.25774595e-02   3.07992846e-01   1.95985809e-01]\n",
      " [  1.28783509e-01   4.62833159e-02   1.13217935e-01   7.11715281e-01]]\n",
      "37\n",
      "24002\n",
      "test accuracy 0.663333\n",
      "[[  3.60633582e-01   3.81360620e-01   7.85312653e-02   1.79474518e-01]\n",
      " [  5.18305480e-01   2.02740118e-01   2.12532148e-01   6.64222315e-02]\n",
      " [  2.66142070e-01   6.25863969e-01   8.37755874e-02   2.42183544e-02]\n",
      " [  5.20585597e-01   2.64481068e-01   1.84309378e-01   3.06239519e-02]\n",
      " [  4.11124602e-02   9.20816977e-03   4.35160659e-02   9.06163394e-01]\n",
      " [  3.15470219e-01   3.92421037e-02   3.22093725e-01   3.23193967e-01]\n",
      " [  3.78022939e-01   4.80691157e-02   4.06149596e-01   1.67758286e-01]\n",
      " [  1.49423489e-02   1.28293483e-04   5.75868227e-03   9.79170680e-01]\n",
      " [  3.90668474e-02   1.42020092e-03   1.24064852e-02   9.47106421e-01]\n",
      " [  1.38179604e-02   6.39753300e-04   1.28612872e-02   9.72680986e-01]]\n",
      "39\n"
     ]
    }
   ],
   "source": [
    "step_size=100\n",
    " \n",
    "dataList=os.listdir('C:/OSU/SongMat/Train/')\n",
    "acc=np.zeros([1000,1])\n",
    "\n",
    "\n",
    "tf.summary.scalar('accuracy', accuracy)\n",
    "tf.summary.scalar('cross_entropy',cross_entropy)\n",
    "\n",
    "merged = tf.summary.merge_all()\n",
    "train_writer = tf.summary.FileWriter('D:/MATLAB/OSU/OSU-automapping/Train/log/train',sess.graph)\n",
    "test_writer = tf.summary.FileWriter('D:/MATLAB/OSU/OSU-automapping/Train/log/test')\n",
    "\n",
    "\n",
    "n = 1\n",
    "total_steps = 0\n",
    "\n",
    "while n < np.size(dataList)-15:\n",
    "    inputOsu=np.empty([0,128*128])\n",
    "    targetOsu=np.empty([0,4])\n",
    "    for k in range(n,n+15):\n",
    "        \n",
    "        data=sio.loadmat('C:/OSU/SongMat/Train/'+dataList[k])\n",
    "        inputOsu=np.append(inputOsu,data['input1'].reshape(-1,128*128),axis=0)\n",
    "        targetOsu=np.append(targetOsu,data['target1'].reshape(-1,4),axis=0)\n",
    "               \n",
    "    N=targetOsu.shape[0]\n",
    "    print(N)\n",
    "    \n",
    "    #shuffle the order\n",
    "    order = np.arange(N-step_size)\n",
    "    np.random.shuffle(order)\n",
    "    \n",
    "    for i in range(N-step_size):\n",
    "        if i%step_size == 0:\n",
    "            train_accuracy = accuracy.eval(feed_dict={x: inputOsu[order[i:i+step_size],:], y_: targetOsu[order[i:i+step_size],:], keep_prob: 1.0})\n",
    "#             print(\"step %d, training accuracy %g\" %(i, train_accuracy))\n",
    "#             train_step.run(feed_dict={x: inputOsu[order[i:i+step_size],:], y_: targetOsu2[order[i:i+step_size],:], keep_prob: 0.5})\n",
    "            [summary,accTrain,_]=sess.run([merged,accuracy,train_step],feed_dict={x: inputOsu[order[i:i+step_size],:], y_: targetOsu[order[i:i+step_size],:], keep_prob: 0.5})\n",
    "            test_writer.add_summary(summary, i + total_steps)\n",
    "#         else:\n",
    "#             train_writer.add_summary(summary, i + total_steps)\n",
    "                \n",
    "    total_steps += i\n",
    "    \n",
    "    \n",
    "    \n",
    "    # Test accuracy\n",
    "    orderAcc = np.arange(NTest)\n",
    "    np.random.shuffle(orderAcc)\n",
    "    accTest=accuracy.eval(feed_dict={x: inputTest[orderAcc[0:300],:], y_: targetTest[orderAcc[0:300],:], keep_prob: 1.0});\n",
    "#     print(\"train accuracy %g\"%accTrain)\n",
    "    print(\"test accuracy %g\"%accTest)\n",
    "    \n",
    "    print(y_conv.eval(feed_dict={x: inputTest[orderAcc[0:10],:], keep_prob: 1.0}))\n",
    "    acc[n]=accTest\n",
    "    print(n)\n",
    "    if acc[n]>0.8:\n",
    "        break\n",
    "    n=n+2\n",
    "        "
   ]
  },
  {
   "cell_type": "code",
   "execution_count": 9,
   "metadata": {
    "collapsed": true
   },
   "outputs": [],
   "source": [
    "save_path = saver.save(sess, \"D:/OSU/results/save/\",global_step=n)"
   ]
  },
  {
   "cell_type": "code",
   "execution_count": null,
   "metadata": {
    "collapsed": true,
    "scrolled": false
   },
   "outputs": [],
   "source": []
  },
  {
   "cell_type": "code",
   "execution_count": 10,
   "metadata": {
    "scrolled": false
   },
   "outputs": [
    {
     "name": "stdout",
     "output_type": "stream",
     "text": [
      "[[  2.38590147e-02   1.08548941e-03   1.45507138e-02   9.60504770e-01]\n",
      " [  3.35697353e-01   5.82750261e-01   7.29547665e-02   8.59767664e-03]\n",
      " [  8.35176650e-03   1.00400811e-03   5.99811086e-03   9.84646142e-01]\n",
      " [  2.02232823e-01   9.91686434e-02   3.66752595e-01   3.31845939e-01]\n",
      " [  4.53046530e-01   3.70025694e-01   1.53637826e-01   2.32898965e-02]\n",
      " [  2.09164922e-03   6.22757580e-05   1.60723145e-03   9.96238828e-01]\n",
      " [  3.57324630e-01   2.48157114e-01   2.85969973e-01   1.08548328e-01]\n",
      " [  1.89202856e-02   8.65620561e-04   9.61411372e-03   9.70599949e-01]\n",
      " [  3.03301036e-01   5.34801543e-01   1.28238738e-01   3.36586870e-02]\n",
      " [  1.28005771e-02   4.18091018e-04   6.89289952e-03   9.79888380e-01]]\n",
      "test accuracy 0.343333\n"
     ]
    }
   ],
   "source": [
    "print(y_conv.eval(feed_dict={x: inputOsu[200:210:1,:], keep_prob: 1.0}))\n",
    "print (\"test accuracy %f\"%accuracy.eval(feed_dict={\n",
    "  x: inputTest[orderAcc[0:300],:], y_: targetOsu[orderAcc[0:300],:], keep_prob: 1.0}))"
   ]
  },
  {
   "cell_type": "code",
   "execution_count": 11,
   "metadata": {
    "scrolled": false
   },
   "outputs": [
    {
     "name": "stdout",
     "output_type": "stream",
     "text": [
      "[ 'D:\\\\Program Files (x86)\\\\osu!\\\\Songs\\\\450315 Sayuri - Sore wa Chiisana Hikari no Youna\\\\']\n",
      "test accuracy 0.56\n",
      "[ 'D:\\\\Program Files (x86)\\\\osu!\\\\Songs\\\\450406 Triad Primus - Trancing Pulse\\\\']\n",
      "test accuracy 0.51\n",
      "[ 'D:\\\\Program Files (x86)\\\\osu!\\\\Songs\\\\450767 Enjoykin - Lampovaya Nyasha\\\\']\n",
      "test accuracy 0.715\n",
      "[ 'D:\\\\Program Files (x86)\\\\osu!\\\\Songs\\\\451070 Pierce The Veil - Texas Is Forever\\\\']\n",
      "test accuracy 0.635\n",
      "[ 'D:\\\\Program Files (x86)\\\\osu!\\\\Songs\\\\451311 Tonight Alive - Little Lion Man\\\\']\n",
      "test accuracy 0.79\n",
      "[ 'D:\\\\Program Files (x86)\\\\osu!\\\\Songs\\\\451316 FLOW - GO!!! ~NARUTO OPENING MIX~\\\\']\n",
      "test accuracy 0.64\n",
      "[ 'D:\\\\Program Files (x86)\\\\osu!\\\\Songs\\\\451560 WALKUERE - Ichido dake no Koi nara\\\\']\n",
      "test accuracy 0.495\n",
      "[ 'D:\\\\Program Files (x86)\\\\osu!\\\\Songs\\\\451830 Nanamori-chu_Gorakubu - Acchu~ma Seishun!\\\\']\n",
      "test accuracy 0.78\n",
      "[ 'D:\\\\Program Files (x86)\\\\osu!\\\\Songs\\\\452310 Wagakki Band - Valkyrie-Ikusa Otome-\\\\']\n",
      "test accuracy 0.57\n",
      "[ 'D:\\\\Program Files (x86)\\\\osu!\\\\Songs\\\\452409 ryo (supercell) featchelly - Great Distance\\\\']\n",
      "test accuracy 0.635\n",
      "['D:\\\\Program Files (x86)\\\\osu!\\\\Songs\\\\452412 Duca - 1_5 Short ver\\\\']\n",
      "test accuracy 0.785\n",
      "['D:\\\\Program Files (x86)\\\\osu!\\\\Songs\\\\452693 LEFT BOY - DANGEROUS\\\\']\n",
      "test accuracy 0.265\n",
      "['D:\\\\Program Files (x86)\\\\osu!\\\\Songs\\\\532522 SakiZ - osu!memories\\\\']\n",
      "test accuracy 0.52\n"
     ]
    }
   ],
   "source": [
    "# Save the output of new maps \n",
    "\n",
    "dataList=os.listdir('C:/OSU/SongMat/Create/')\n",
    "# inputOsuNew=np.empty([0,128*128]);\n",
    "for i in range(np.size(dataList)):\n",
    "    if not dataList[i][0]=='y':\n",
    "        data=sio.loadmat('C:/OSU/SongMat/Create/'+dataList[i])\n",
    "        print(data['osuFolder'])\n",
    "        \n",
    "        inputOsuNew=data['input'].reshape(-1,128*128)\n",
    "        outputOsuNew=data['target']\n",
    "        \n",
    "        y_result=np.empty([0,4])\n",
    "        \n",
    "        step_size=200\n",
    "        cursor=0\n",
    "        print (\"test accuracy %g\"%accuracy.eval(feed_dict={x: inputOsuNew[-200:,:], y_: outputOsuNew[-200:,:], keep_prob: 1.0}))\n",
    "        while cursor<inputOsuNew.shape[0]:\n",
    "            if inputOsuNew[cursor:,:].shape[0]>step_size:\n",
    "                y_result1=y_conv.eval(feed_dict={x: inputOsuNew[cursor:(cursor+step_size):1,:], keep_prob: 1.0})\n",
    "                y_result=np.append(y_result,y_result1,axis=0)\n",
    "            else:\n",
    "                y_result1=y_conv.eval(feed_dict={x: inputOsuNew[cursor:(cursor+step_size):1,:], keep_prob: 1.0})\n",
    "                y_result=np.append(y_result,y_result1,axis=0)\n",
    "            cursor+=step_size\n",
    "            \n",
    "        data_save={'y':y_result}\n",
    "        sio.savemat('C:/OSU/SongMat/Create/y_'+dataList[i],data_save)\n"
   ]
  },
  {
   "cell_type": "code",
   "execution_count": null,
   "metadata": {
    "collapsed": true
   },
   "outputs": [],
   "source": []
  },
  {
   "cell_type": "code",
   "execution_count": null,
   "metadata": {
    "collapsed": true
   },
   "outputs": [],
   "source": []
  },
  {
   "cell_type": "markdown",
   "metadata": {
    "collapsed": true,
    "scrolled": false
   },
   "source": []
  },
  {
   "cell_type": "code",
   "execution_count": null,
   "metadata": {
    "collapsed": true
   },
   "outputs": [],
   "source": [
    "data_save={'y':y_result}\n",
    "sio.savemat('D:/OSU/results/innocence/y_innocence.mat',data_save)"
   ]
  },
  {
   "cell_type": "code",
   "execution_count": null,
   "metadata": {
    "collapsed": true
   },
   "outputs": [],
   "source": []
  },
  {
   "cell_type": "code",
   "execution_count": null,
   "metadata": {
    "collapsed": true
   },
   "outputs": [],
   "source": []
  },
  {
   "cell_type": "code",
   "execution_count": null,
   "metadata": {
    "collapsed": true
   },
   "outputs": [],
   "source": []
  },
  {
   "cell_type": "code",
   "execution_count": null,
   "metadata": {
    "collapsed": true
   },
   "outputs": [],
   "source": [
    "checkpoint_dir='D:/OSU/results/innocence/save/'\n",
    "ckpt = tf.train.get_checkpoint_state(checkpoint_dir)  \n",
    "saver.restore(sess, ckpt.model_checkpoint_path)  "
   ]
  },
  {
   "cell_type": "code",
   "execution_count": null,
   "metadata": {
    "collapsed": true
   },
   "outputs": [],
   "source": [
    "saver2 = tf.train.Saver()"
   ]
  },
  {
   "cell_type": "code",
   "execution_count": null,
   "metadata": {
    "collapsed": true
   },
   "outputs": [],
   "source": [
    "checkpoint_dir='/Users/dongqihan/Desktop/FrOstNova/save/'\n",
    "ckpt = tf.train.get_checkpoint_state(checkpoint_dir)  \n",
    "saver2.restore(sess, ckpt.model_checkpoint_path)  "
   ]
  },
  {
   "cell_type": "code",
   "execution_count": null,
   "metadata": {
    "collapsed": true
   },
   "outputs": [],
   "source": []
  },
  {
   "cell_type": "code",
   "execution_count": null,
   "metadata": {
    "collapsed": true
   },
   "outputs": [],
   "source": [
    "a = tf.constant([1.0, 2.0, 3.0, 4.0, 5.0, 6.0], shape=[2, 3], name='a')\n",
    "b = tf.constant([1.0, 2.0, 3.0, 4.0, 5.0, 6.0], shape=[3, 2], name='b')\n",
    "c = tf.matmul(a, b)\n",
    "# Creates a session with log_device_placement set to True.\n",
    "sess_tmp = tf.Session(config=tf.ConfigProto(log_device_placement=True))\n",
    "# Runs the op.\n",
    "print(sess_tmp.run(c))"
   ]
  },
  {
   "cell_type": "code",
   "execution_count": null,
   "metadata": {
    "collapsed": true
   },
   "outputs": [],
   "source": [
    "data_test=sio.loadmat('/Users/dongqihan/Desktop/FrOstNova/granat.mat')\n",
    "inputOsu_test=data_test['input'].reshape(-1,128*128)\n",
    "y_result_test=y_conv.eval(feed_dict={x: inputOsu_test, keep_prob: 1.0})\n",
    "data={'y':y_result_test}\n",
    "sio.savemat('/Users/dongqihan/Desktop/FrOstNova/y_memory2granat.mat',data)"
   ]
  }
 ],
 "metadata": {
  "kernelspec": {
   "display_name": "Python 3",
   "language": "python",
   "name": "python3"
  },
  "language_info": {
   "codemirror_mode": {
    "name": "ipython",
    "version": 3
   },
   "file_extension": ".py",
   "mimetype": "text/x-python",
   "name": "python",
   "nbconvert_exporter": "python",
   "pygments_lexer": "ipython3",
   "version": "3.5.4"
  }
 },
 "nbformat": 4,
 "nbformat_minor": 2
}
