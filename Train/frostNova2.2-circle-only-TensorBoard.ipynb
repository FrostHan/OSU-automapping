{
 "cells": [
  {
   "cell_type": "code",
   "execution_count": 1,
   "metadata": {
    "collapsed": true
   },
   "outputs": [],
   "source": [
    "import tensorflow as tf\n",
    "import scipy.io as sio\n",
    "import matplotlib.pyplot as plt\n",
    "sess = tf.InteractiveSession()\n",
    "import os\n",
    "import numpy as np"
   ]
  },
  {
   "cell_type": "code",
   "execution_count": 2,
   "metadata": {
    "collapsed": true
   },
   "outputs": [],
   "source": [
    "# Define functions\n",
    "\n",
    "def conv2d(x, W, dy ,dx):\n",
    "  return tf.nn.conv2d(x, W, strides=[1, dx, dy, 1], padding='SAME')\n",
    "\n",
    "def max_pool_axb(x,a,b):\n",
    "  return tf.nn.max_pool(x, ksize=[1, a, b, 1],\n",
    "                        strides=[1, a, b, 1], padding='SAME')\n",
    "\n",
    "def weight_variable(shape):\n",
    "  initial = tf.truncated_normal(shape, stddev=0.1)\n",
    "  return tf.Variable(initial)\n",
    "\n",
    "def bias_variable(shape):\n",
    "  initial = tf.constant(0.1, shape=shape)\n",
    "  return tf.Variable(initial)"
   ]
  },
  {
   "cell_type": "code",
   "execution_count": null,
   "metadata": {
    "collapsed": true
   },
   "outputs": [],
   "source": []
  },
  {
   "cell_type": "code",
   "execution_count": 3,
   "metadata": {},
   "outputs": [
    {
     "name": "stdout",
     "output_type": "stream",
     "text": [
      "1024\n"
     ]
    }
   ],
   "source": [
    "# Define the parameters of the network\n",
    "\n",
    "#-----------ACC 0.774 *** score 81----------------\n",
    "nx_conv1=16      # filter_width (frequency)\n",
    "my_conv1=4   # filter_height (time)\n",
    "dnx_conv1=4    # stride_width\n",
    "dmy_conv1=1    # stride_height\n",
    "\n",
    "nx_pool1=4      # pooling width\n",
    "my_pool1=1      # pooling height\n",
    "\n",
    "channels_conv1=32    # channels num\n",
    "\n",
    "nx_conv2=2\n",
    "my_conv2=16\n",
    "dnx_conv2=1\n",
    "dmy_conv2=8\n",
    "\n",
    "nx_pool2=2\n",
    "my_pool2=1\n",
    "\n",
    "\n",
    "channels_conv2=16\n",
    "\n",
    "size_input_fc1=int(128*128*channels_conv2/dnx_conv1/dmy_conv1/dnx_conv2/dmy_conv2/nx_pool1/my_pool1/nx_pool2/my_pool2)\n",
    "num_neurons_fc1=64\n",
    "\n",
    "print(size_input_fc1)"
   ]
  },
  {
   "cell_type": "code",
   "execution_count": 19,
   "metadata": {
    "collapsed": true
   },
   "outputs": [],
   "source": [
    "# Define the parameters of the network\n",
    "\n",
    "\n",
    "\n",
    "#-----------ACC 0.774 *** score 81----------------\n",
    "# nx_conv1=16      # filter_width (frequency)\n",
    "# my_conv1=4   # filter_height (time)\n",
    "# dnx_conv1=4    # stride_width\n",
    "# dmy_conv1=1    # stride_height\n",
    "\n",
    "# nx_pool1=4      # pooling width\n",
    "# my_pool1=1      # pooling height\n",
    "\n",
    "# channels_conv1=32    # channels num\n",
    "\n",
    "# nx_conv2=2\n",
    "# my_conv2=16\n",
    "# dnx_conv2=1\n",
    "# dmy_conv2=8\n",
    "\n",
    "# nx_pool2=2\n",
    "# my_pool2=1\n",
    "\n",
    "\n",
    "# channels_conv2=16\n",
    "\n",
    "# size_input_fc1=int(128*128*channels_conv2/dnx_conv1/dmy_conv1/dnx_conv2/dmy_conv2/nx_pool1/my_pool1/nx_pool2/my_pool2)\n",
    "# num_neurons_fc1=64\n",
    "\n",
    "# print(size_input_fc1)\n",
    "\n",
    "#-----------ACC 0.65 *** score 74----------------\n",
    "# nx_conv1=16      # filter_width\n",
    "# my_conv1=4   # filter_height\n",
    "# dnx_conv1=4    # stride_width\n",
    "# dmy_conv1=1    # stride_height\n",
    "\n",
    "# nx_pool1=4      # pooling width\n",
    "# my_pool1=4      # pooling height\n",
    "\n",
    "# channels_conv1=32    # channels num\n",
    "\n",
    "# nx_conv2=2\n",
    "# my_conv2=16\n",
    "# dnx_conv2=1\n",
    "# dmy_conv2=8\n",
    "\n",
    "# nx_pool2=2\n",
    "# my_pool2=2\n",
    "\n",
    "\n",
    "# channels_conv2=4\n",
    "\n",
    "# size_input_fc1=int(128*128*channels_conv2/dnx_conv1/dmy_conv1/dnx_conv2/dmy_conv2/nx_pool1/my_pool1/nx_pool2/my_pool2)\n",
    "# num_neurons_fc1=32\n",
    "\n",
    "# print(size_input_fc1)\n",
    "\n",
    "#--------------ACC 0.64  acore 69--------------\n",
    "# nx_conv1=8      # filter_width\n",
    "# my_conv1=8  # filter_height\n",
    "# dnx_conv1=2    # stride_width\n",
    "# dmy_conv1=2    # stride_height\n",
    "\n",
    "# nx_pool1=2      # pooling width\n",
    "# my_pool1=2      # pooling height\n",
    "\n",
    "# channels_conv1=32    # channels num\n",
    "\n",
    "# nx_conv2=4\n",
    "# my_conv2=4\n",
    "# dnx_conv2=2\n",
    "# dmy_conv2=2\n",
    "\n",
    "# nx_pool2=2\n",
    "# my_pool2=2\n",
    "\n",
    "\n",
    "# channels_conv2=4\n",
    "\n",
    "# size_input_fc1=int(128*128*channels_conv2/dnx_conv1/dmy_conv1/dnx_conv2/dmy_conv2/nx_pool1/my_pool1/nx_pool2/my_pool2)\n",
    "# num_neurons_fc1=32\n",
    "\n",
    "# print(size_input_fc1)\n",
    "\n"
   ]
  },
  {
   "cell_type": "code",
   "execution_count": 13,
   "metadata": {
    "collapsed": true
   },
   "outputs": [],
   "source": [
    "# Read osu! data\n",
    "\n",
    "dataList=os.listdir('D:/OSU/SongMat/Train/')\n",
    "inputOsu=np.empty([0,128*128]);\n",
    "outputOsu=np.empty([0,4]);\n",
    "for i in range(np.size(dataList)):\n",
    "    data=sio.loadmat('D:/OSU/SongMat/Train/'+dataList[i])\n",
    "    inputOsu=np.append(inputOsu,data['input1'].reshape(-1,128*128),axis=0)\n",
    "    outputOsu=np.append(outputOsu,data['target1'].reshape(-1,4),axis=0)\n",
    "\n"
   ]
  },
  {
   "cell_type": "code",
   "execution_count": 14,
   "metadata": {
    "collapsed": true,
    "scrolled": true
   },
   "outputs": [],
   "source": [
    "outputOsu2=np.zeros([outputOsu.shape[0],2]);\n",
    "outputOsu2[:,0]=outputOsu[:,0]+outputOsu[:,1]+outputOsu[:,2]\n",
    "outputOsu2[:,1]=outputOsu[:,3]"
   ]
  },
  {
   "cell_type": "code",
   "execution_count": null,
   "metadata": {
    "collapsed": true
   },
   "outputs": [],
   "source": []
  },
  {
   "cell_type": "code",
   "execution_count": null,
   "metadata": {
    "collapsed": true
   },
   "outputs": [],
   "source": []
  },
  {
   "cell_type": "code",
   "execution_count": 15,
   "metadata": {
    "collapsed": true
   },
   "outputs": [],
   "source": [
    "x = tf.placeholder(\"float\", shape=[None, 128*128])\n",
    "y_ = tf.placeholder(\"float\", shape=[None, 2])\n",
    "\n",
    "\n",
    "x_image = tf.reshape(x, [-1,128,128,1])\n",
    "\n",
    "W_conv1 = weight_variable([nx_conv1,my_conv1,1,channels_conv1])\n",
    "b_conv1 = bias_variable([channels_conv1])\n",
    "\n",
    "\n",
    "h_conv1 = tf.nn.relu(conv2d(x_image, W_conv1, dnx_conv1, dmy_conv1 ) + b_conv1)\n",
    "h_pool1 = max_pool_axb(h_conv1, nx_pool1, my_pool1)\n",
    "\n",
    "\n",
    "W_conv2 = weight_variable([nx_conv2, my_conv2, channels_conv1, channels_conv2])\n",
    "b_conv2 = bias_variable([channels_conv2])\n",
    "\n",
    "h_conv2 = tf.nn.relu(conv2d(h_pool1, W_conv2, dnx_conv2, dmy_conv2 ) + b_conv2)\n",
    "h_pool2 = max_pool_axb(h_conv2, nx_pool2, my_pool2)\n",
    "\n",
    "\n",
    "\n",
    "W_fc1 = weight_variable([size_input_fc1, num_neurons_fc1])\n",
    "b_fc1 = bias_variable([num_neurons_fc1])\n",
    "\n",
    "h_pool2_flat = tf.reshape(h_pool2, [-1, size_input_fc1])\n",
    "h_fc1 = tf.nn.relu(tf.matmul(h_pool2_flat, W_fc1) + b_fc1)\n",
    "\n",
    "\n",
    "W_fc2 = weight_variable([num_neurons_fc1, 2])\n",
    "b_fc2 = bias_variable([2])\n",
    "\n",
    "\n",
    "\n",
    "keep_prob = tf.placeholder(\"float\")\n",
    "h_fc1_drop = tf.nn.dropout(h_fc1, keep_prob)\n",
    "\n",
    "y_conv=tf.nn.softmax(tf.matmul(h_fc1_drop, W_fc2) + b_fc2)\n",
    "\n",
    "\n",
    "\n",
    "cross_entropy = -tf.reduce_sum(y_*tf.log(y_conv))\n",
    "train_step = tf.train.AdamOptimizer(1e-4).minimize(cross_entropy)\n",
    "correct_prediction = tf.equal(tf.argmax(y_conv,1), tf.argmax(y_,1))\n",
    "accuracy = tf.reduce_mean(tf.cast(correct_prediction, \"float\"))\n"
   ]
  },
  {
   "cell_type": "code",
   "execution_count": null,
   "metadata": {
    "collapsed": true
   },
   "outputs": [],
   "source": []
  },
  {
   "cell_type": "code",
   "execution_count": null,
   "metadata": {
    "collapsed": true
   },
   "outputs": [],
   "source": []
  },
  {
   "cell_type": "code",
   "execution_count": null,
   "metadata": {
    "collapsed": true
   },
   "outputs": [],
   "source": []
  },
  {
   "cell_type": "code",
   "execution_count": null,
   "metadata": {
    "collapsed": true
   },
   "outputs": [],
   "source": []
  },
  {
   "cell_type": "code",
   "execution_count": null,
   "metadata": {
    "collapsed": true
   },
   "outputs": [],
   "source": []
  },
  {
   "cell_type": "code",
   "execution_count": null,
   "metadata": {
    "collapsed": true
   },
   "outputs": [],
   "source": []
  },
  {
   "cell_type": "code",
   "execution_count": 106,
   "metadata": {
    "collapsed": true
   },
   "outputs": [],
   "source": [
    "#sess.run(tf.initialize_all_variables())  \n"
   ]
  },
  {
   "cell_type": "code",
   "execution_count": 16,
   "metadata": {
    "collapsed": true
   },
   "outputs": [],
   "source": [
    "\n",
    "\n",
    "# merged = tf.summary.merge_all()\n",
    "# train_writer = tf.summary.FileWriter('/train',sess.graph)\n",
    "# test_writer = tf.summary.FileWriter('/test')\n",
    "# tf.global_variables_initializer().run()\n",
    "\n",
    "sess.run(tf.global_variables_initializer())\n"
   ]
  },
  {
   "cell_type": "code",
   "execution_count": 17,
   "metadata": {
    "collapsed": true,
    "scrolled": false
   },
   "outputs": [],
   "source": [
    "saver = tf.train.Saver()\n"
   ]
  },
  {
   "cell_type": "code",
   "execution_count": 18,
   "metadata": {
    "scrolled": false
   },
   "outputs": [
    {
     "name": "stdout",
     "output_type": "stream",
     "text": [
      "21944\n",
      "test accuracy 0.652\n",
      "test accuracy 0.652\n",
      "test accuracy 0.652\n",
      "test accuracy 0.652\n",
      "test accuracy 0.652\n",
      "test accuracy 0.652\n",
      "test accuracy 0.652\n",
      "test accuracy 0.652\n",
      "test accuracy 0.652\n",
      "test accuracy 0.652\n"
     ]
    }
   ],
   "source": [
    "step_size=200\n",
    "N=inputOsu.shape[0]\n",
    "print(N)\n",
    "#shuffle the order\n",
    "order = np.arange(N-3000)\n",
    "np.random.shuffle(order)\n",
    "\n",
    "for n in range(10):\n",
    "    for i in range(N-3000):\n",
    "        if i%step_size == 0:\n",
    "            train_accuracy = accuracy.eval(feed_dict={x: inputOsu[order[i:i+step_size],:], y_: outputOsu2[order[i:i+step_size],:], keep_prob: 1.0})\n",
    "#             print(\"step %d, training accuracy %g\" %(i, train_accuracy))\n",
    "            train_step.run(feed_dict={x: inputOsu[order[i:i+step_size],:], y_: outputOsu2[order[i:i+step_size],:], keep_prob: 0.5})\n",
    "\n",
    "    print(\"test accuracy %g\"%accuracy.eval(feed_dict={x: inputOsu[-500:,:], y_: outputOsu2[-500:,:], keep_prob: 1.0}))\n",
    "    \n"
   ]
  },
  {
   "cell_type": "code",
   "execution_count": 110,
   "metadata": {
    "collapsed": true
   },
   "outputs": [],
   "source": [
    "save_path = saver.save(sess, \"D:/OSU/results/save/\",global_step=n)"
   ]
  },
  {
   "cell_type": "code",
   "execution_count": null,
   "metadata": {
    "collapsed": true
   },
   "outputs": [],
   "source": []
  },
  {
   "cell_type": "code",
   "execution_count": 111,
   "metadata": {
    "scrolled": false
   },
   "outputs": [
    {
     "name": "stdout",
     "output_type": "stream",
     "text": [
      "[[ 0.37698266  0.62301731]\n",
      " [ 0.35583156  0.6441685 ]\n",
      " [ 0.40810573  0.59189427]\n",
      " [ 0.38423052  0.61576951]\n",
      " [ 0.34308535  0.65691465]\n",
      " [ 0.32245824  0.67754179]\n",
      " [ 0.38818049  0.61181951]\n",
      " [ 0.45136857  0.54863143]\n",
      " [ 0.23114154  0.76885849]\n",
      " [ 0.43091747  0.5690825 ]]\n",
      "test accuracy 0.79\n"
     ]
    }
   ],
   "source": [
    "print(y_conv.eval(feed_dict={x: inputOsu[200:210:1,:], keep_prob: 1.0}))\n",
    "print (\"test accuracy %g\"%accuracy.eval(feed_dict={\n",
    "  x: inputOsu[-500:,:], y_: outputOsu2[-500:,:], keep_prob: 1.0}))"
   ]
  },
  {
   "cell_type": "code",
   "execution_count": 112,
   "metadata": {
    "scrolled": false
   },
   "outputs": [
    {
     "name": "stdout",
     "output_type": "stream",
     "text": [
      "[ 'D:\\\\Program Files (x86)\\\\osu!\\\\Songs\\\\342826 Maon Kurosaki - Setsuna no Kajitsu\\\\']\n",
      "test accuracy 0.51\n",
      "[ 'D:\\\\Program Files (x86)\\\\osu!\\\\Songs\\\\342884 Kajiura Yuki - Sis puella magica!\\\\']\n",
      "test accuracy 0.620098\n",
      "['D:\\\\Program Files (x86)\\\\osu!\\\\Songs\\\\342893 SisterS - Hidamari Days\\\\']\n",
      "test accuracy 0.776\n",
      "[ 'D:\\\\Program Files (x86)\\\\osu!\\\\Songs\\\\342896 supercell - Kimi no Shiranai Monogatari -TV Edit-\\\\']\n",
      "test accuracy 0.722\n",
      "['D:\\\\Program Files (x86)\\\\osu!\\\\Songs\\\\342899 SisterS - Hidamari Days\\\\']\n",
      "test accuracy 0.9\n",
      "['D:\\\\Program Files (x86)\\\\osu!\\\\Songs\\\\343020 fhana - Wonder Stella\\\\']\n",
      "test accuracy 0.88\n",
      "['D:\\\\Program Files (x86)\\\\osu!\\\\Songs\\\\343258 KOTOKO - INFINITE SKY\\\\']\n",
      "test accuracy 0.768\n",
      "['D:\\\\Program Files (x86)\\\\osu!\\\\Songs\\\\343365 Hanatan - Ai no Scenario\\\\']\n",
      "test accuracy 0.684\n",
      "['D:\\\\Program Files (x86)\\\\osu!\\\\Songs\\\\343440 Gain - Bloom\\\\']\n",
      "test accuracy 0.706\n",
      "[ 'D:\\\\Program Files (x86)\\\\osu!\\\\Songs\\\\343454 Trevor Something - Summer Love\\\\']\n",
      "test accuracy 0.736\n",
      "[ 'D:\\\\Program Files (x86)\\\\osu!\\\\Songs\\\\343628 Naru Sekiya - Shining glow\\\\']\n",
      "test accuracy 0.816\n",
      "['D:\\\\Program Files (x86)\\\\osu!\\\\Songs\\\\343672 Reol - No title\\\\']\n",
      "test accuracy 0.412\n",
      "[ 'D:\\\\Program Files (x86)\\\\osu!\\\\Songs\\\\343728 Various Artists - Anime Songs Compilation\\\\']\n",
      "test accuracy 0.688\n",
      "[ 'D:\\\\Program Files (x86)\\\\osu!\\\\Songs\\\\540631 Kanon Wakeshima - Sakura Meikyuu\\\\']\n",
      "test accuracy 0.596\n",
      "[ 'D:\\\\Program Files (x86)\\\\osu!\\\\Songs\\\\540674 Suara - Fuantei na Kamisama\\\\']\n",
      "test accuracy 0.802\n",
      "[ 'D:\\\\Program Files (x86)\\\\osu!\\\\Songs\\\\540793 Yukinoshita Yukino (CVHayami Saori) & Yuigahama Yui (CVTouyama Nao) - Everyday World\\\\']\n",
      "test accuracy 0.492\n",
      "[ 'D:\\\\Program Files (x86)\\\\osu!\\\\Songs\\\\540867 Noriko Mitose - EXEC_SPHILIA_\\\\']\n",
      "test accuracy 0.83\n",
      "['D:\\\\Program Files (x86)\\\\osu!\\\\Songs\\\\541619 3R2 - Get On With It\\\\']\n",
      "test accuracy 0.798\n",
      "[ 'D:\\\\Program Files (x86)\\\\osu!\\\\Songs\\\\541856 SawanoHiroyuki[nZk]_mizuki - e of s (game edit)\\\\']\n",
      "test accuracy 0.589958\n",
      "[ \"D:\\\\Program Files (x86)\\\\osu!\\\\Songs\\\\541880 Kana Nishino - Distance (TANUKI's Christmas Remix)\\\\\"]\n",
      "test accuracy 0.886\n",
      "[ 'D:\\\\Program Files (x86)\\\\osu!\\\\Songs\\\\542186 Chata - Precious Wing (Movie ver)\\\\']\n",
      "test accuracy 0.686\n",
      "['D:\\\\Program Files (x86)\\\\osu!\\\\Songs\\\\542755 soraru - Yurayura\\\\']\n",
      "test accuracy 0.796\n",
      "[ 'D:\\\\Program Files (x86)\\\\osu!\\\\Songs\\\\542759 Hirokazu Ando, Tadashi Ikegami, Shogo Sakai, Takuto Kitsuta - Target o Kowase!\\\\']\n",
      "test accuracy 0.644342\n",
      "[ 'D:\\\\Program Files (x86)\\\\osu!\\\\Songs\\\\542934 Laura Shigihara - Grasswalk IN-GAME\\\\']\n",
      "test accuracy 0.802\n",
      "['D:\\\\Program Files (x86)\\\\osu!\\\\Songs\\\\544324 Yasuda Rei - Let It Snow\\\\']\n",
      "test accuracy 0.898\n",
      "[ 'D:\\\\Program Files (x86)\\\\osu!\\\\Songs\\\\544724 Tsuji Ayano - Kaze ni Naru\\\\']\n",
      "test accuracy 0.892\n",
      "[ 'D:\\\\Program Files (x86)\\\\osu!\\\\Songs\\\\545331 ChouCho - Yasashisa no Riyuu\\\\']\n",
      "test accuracy 0.7\n",
      "[ 'D:\\\\Program Files (x86)\\\\osu!\\\\Songs\\\\545404 Akiyama Uni - Niiru Renka Chou ~ Ancients\\\\']\n",
      "test accuracy 0.872\n"
     ]
    }
   ],
   "source": [
    "# Save the output of new maps \n",
    "\n",
    "dataList=os.listdir('D:/OSU/SongMat/Create/')\n",
    "# inputOsuNew=np.empty([0,128*128]);\n",
    "for i in range(np.size(dataList)):\n",
    "    if not dataList[i][0]=='y':\n",
    "        data=sio.loadmat('D:/OSU/SongMat/Create/'+dataList[i])\n",
    "        print(data['osuFolder'])\n",
    "        \n",
    "        inputOsuNew=data['input'].reshape(-1,128*128)\n",
    "        outputOsuNew=data['target']\n",
    "        outputOsu2New=np.zeros([outputOsuNew.shape[0],2]);\n",
    "        outputOsu2New[:,0]=outputOsuNew[:,0]+outputOsuNew[:,1]+outputOsuNew[:,2]\n",
    "        outputOsu2New[:,1]=outputOsuNew[:,3]\n",
    "        \n",
    "        y_result=np.empty([0,2])\n",
    "        \n",
    "        step_size=500\n",
    "        cursor=0\n",
    "        print (\"test accuracy %g\"%accuracy.eval(feed_dict={x: inputOsuNew[-500:,:], y_: outputOsu2New[-500:,:], keep_prob: 1.0}))\n",
    "        while cursor<inputOsuNew.shape[0]:\n",
    "            if inputOsuNew[cursor:,:].shape[0]>step_size:\n",
    "                y_result1=y_conv.eval(feed_dict={x: inputOsuNew[cursor:(cursor+step_size):1,:], keep_prob: 1.0})\n",
    "                y_result=np.append(y_result,y_result1,axis=0)\n",
    "            else:\n",
    "                y_result1=y_conv.eval(feed_dict={x: inputOsuNew[cursor:(cursor+step_size):1,:], keep_prob: 1.0})\n",
    "                y_result=np.append(y_result,y_result1,axis=0)\n",
    "            cursor+=step_size\n",
    "            \n",
    "        data_save={'y2':y_result}\n",
    "        sio.savemat('D:/OSU/SongMat/Create/y2_'+dataList[i],data_save)\n"
   ]
  },
  {
   "cell_type": "code",
   "execution_count": null,
   "metadata": {
    "collapsed": true
   },
   "outputs": [],
   "source": []
  },
  {
   "cell_type": "code",
   "execution_count": null,
   "metadata": {
    "collapsed": true
   },
   "outputs": [],
   "source": []
  },
  {
   "cell_type": "code",
   "execution_count": null,
   "metadata": {
    "collapsed": true,
    "scrolled": false
   },
   "outputs": [],
   "source": []
  },
  {
   "cell_type": "code",
   "execution_count": null,
   "metadata": {
    "collapsed": true
   },
   "outputs": [],
   "source": [
    "data_save={'y':y_result}\n",
    "sio.savemat('D:/OSU/results/innocence/y_innocence.mat',data_save)"
   ]
  },
  {
   "cell_type": "code",
   "execution_count": null,
   "metadata": {
    "collapsed": true
   },
   "outputs": [],
   "source": []
  },
  {
   "cell_type": "code",
   "execution_count": null,
   "metadata": {
    "collapsed": true
   },
   "outputs": [],
   "source": []
  },
  {
   "cell_type": "code",
   "execution_count": null,
   "metadata": {
    "collapsed": true
   },
   "outputs": [],
   "source": []
  },
  {
   "cell_type": "code",
   "execution_count": null,
   "metadata": {
    "collapsed": true
   },
   "outputs": [],
   "source": [
    "checkpoint_dir='D:/OSU/results/innocence/save/'\n",
    "ckpt = tf.train.get_checkpoint_state(checkpoint_dir)  \n",
    "saver.restore(sess, ckpt.model_checkpoint_path)  "
   ]
  },
  {
   "cell_type": "code",
   "execution_count": null,
   "metadata": {
    "collapsed": true
   },
   "outputs": [],
   "source": [
    "saver2 = tf.train.Saver()"
   ]
  },
  {
   "cell_type": "code",
   "execution_count": null,
   "metadata": {
    "collapsed": true
   },
   "outputs": [],
   "source": [
    "checkpoint_dir='/Users/dongqihan/Desktop/FrOstNova/save/'\n",
    "ckpt = tf.train.get_checkpoint_state(checkpoint_dir)  \n",
    "saver2.restore(sess, ckpt.model_checkpoint_path)  "
   ]
  },
  {
   "cell_type": "code",
   "execution_count": null,
   "metadata": {
    "collapsed": true
   },
   "outputs": [],
   "source": []
  },
  {
   "cell_type": "code",
   "execution_count": null,
   "metadata": {
    "collapsed": true
   },
   "outputs": [],
   "source": [
    "a = tf.constant([1.0, 2.0, 3.0, 4.0, 5.0, 6.0], shape=[2, 3], name='a')\n",
    "b = tf.constant([1.0, 2.0, 3.0, 4.0, 5.0, 6.0], shape=[3, 2], name='b')\n",
    "c = tf.matmul(a, b)\n",
    "# Creates a session with log_device_placement set to True.\n",
    "sess_tmp = tf.Session(config=tf.ConfigProto(log_device_placement=True))\n",
    "# Runs the op.\n",
    "print(sess_tmp.run(c))"
   ]
  },
  {
   "cell_type": "code",
   "execution_count": null,
   "metadata": {
    "collapsed": true
   },
   "outputs": [],
   "source": [
    "data_test=sio.loadmat('/Users/dongqihan/Desktop/FrOstNova/granat.mat')\n",
    "inputOsu_test=data_test['input'].reshape(-1,128*128)\n",
    "y_result_test=y_conv.eval(feed_dict={x: inputOsu_test, keep_prob: 1.0})\n",
    "data={'y':y_result_test}\n",
    "sio.savemat('/Users/dongqihan/Desktop/FrOstNova/y_memory2granat.mat',data)"
   ]
  }
 ],
 "metadata": {
  "kernelspec": {
   "display_name": "Python 3",
   "language": "python",
   "name": "python3"
  },
  "language_info": {
   "codemirror_mode": {
    "name": "ipython",
    "version": 3
   },
   "file_extension": ".py",
   "mimetype": "text/x-python",
   "name": "python",
   "nbconvert_exporter": "python",
   "pygments_lexer": "ipython3",
   "version": "3.5.4"
  }
 },
 "nbformat": 4,
 "nbformat_minor": 2
}
