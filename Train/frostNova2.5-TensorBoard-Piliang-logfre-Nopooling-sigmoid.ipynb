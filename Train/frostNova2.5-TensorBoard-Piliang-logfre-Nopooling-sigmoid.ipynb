{
 "cells": [
  {
   "cell_type": "code",
   "execution_count": 3,
   "metadata": {
    "collapsed": true
   },
   "outputs": [],
   "source": [
    "import tensorflow as tf\n",
    "import scipy.io as sio\n",
    "import matplotlib.pyplot as plt\n",
    "import os\n",
    "import numpy as np\n",
    "import shutil\n",
    "from datetime import datetime\n",
    "now = datetime.now()\n",
    "\n",
    "shutil.rmtree('D:/MATLAB/OSU/OSU-automapping/Train/log/', ignore_errors=True)\n",
    "\n",
    "sess = tf.InteractiveSession()"
   ]
  },
  {
   "cell_type": "code",
   "execution_count": 4,
   "metadata": {
    "collapsed": true
   },
   "outputs": [],
   "source": [
    "# Define functions\n",
    "\n",
    "def conv2d(x, W, dy ,dx):\n",
    "  return tf.nn.conv2d(x, W, strides=[1, dx, dy, 1], padding='SAME')\n",
    "\n",
    "def max_pool_axb(x,a,b):\n",
    "  return tf.nn.max_pool(x, ksize=[1, a, b, 1],\n",
    "                        strides=[1, a, b, 1], padding='SAME')\n",
    "\n",
    "def weight_variable(shape):\n",
    "  initial = tf.truncated_normal(shape, stddev=0.1)\n",
    "  return tf.Variable(initial)\n",
    "\n",
    "def bias_variable(shape):\n",
    "  initial = tf.constant(0.1, shape=shape)\n",
    "  return tf.Variable(initial)\n",
    "\n",
    "def variable_summaries(name, var):\n",
    "  \"\"\"Attach a lot of summaries to a Tensor (for TensorBoard visualization).\"\"\"\n",
    "  with tf.name_scope(name):\n",
    "    mean = tf.reduce_mean(var)\n",
    "    tf.summary.scalar('mean', mean)\n",
    "    with tf.name_scope('stddev'):\n",
    "      stddev = tf.sqrt(tf.reduce_mean(tf.square(var - mean)))\n",
    "    tf.summary.scalar('stddev', stddev)\n",
    "    tf.summary.scalar('max', tf.reduce_max(var))\n",
    "    tf.summary.scalar('min', tf.reduce_min(var))\n",
    "    tf.summary.histogram('histogram', var)"
   ]
  },
  {
   "cell_type": "markdown",
   "metadata": {
    "collapsed": true
   },
   "source": [
    "# Number of neurons , filters and layers"
   ]
  },
  {
   "cell_type": "code",
   "execution_count": 5,
   "metadata": {},
   "outputs": [
    {
     "name": "stdout",
     "output_type": "stream",
     "text": [
      "1024\n"
     ]
    }
   ],
   "source": [
    "nx_conv1=32    # filter_width (frequency)\n",
    "my_conv1=8   # filter_height (time)\n",
    "dnx_conv1=2    # stride_width\n",
    "dmy_conv1=8   # stride_height\n",
    "\n",
    "channels_conv1=128    # channels num\n",
    "\n",
    "nx_conv2=4\n",
    "my_conv2=8\n",
    "dnx_conv2=2\n",
    "dmy_conv2=2\n",
    "\n",
    "channels_conv2=128\n",
    "\n",
    "\n",
    "nx_conv3=4\n",
    "my_conv3=8\n",
    "dnx_conv3=4\n",
    "dmy_conv3=8\n",
    "\n",
    "channels_conv3=128\n",
    "\n",
    "size_input_fc1=int(128*128*channels_conv3/dnx_conv1/dmy_conv1/dnx_conv2/dmy_conv2/dnx_conv3/dmy_conv3)\n",
    "# size_input_fc1=int(128*128*channels_conv2/dnx_conv1/dmy_conv1/dnx_conv2/dmy_conv2)\n",
    "\n",
    "num_neurons_fc1=256\n",
    "\n",
    "print(size_input_fc1)"
   ]
  },
  {
   "cell_type": "code",
   "execution_count": null,
   "metadata": {
    "collapsed": true
   },
   "outputs": [],
   "source": []
  },
  {
   "cell_type": "markdown",
   "metadata": {
    "collapsed": true
   },
   "source": [
    "# Network Structure"
   ]
  },
  {
   "cell_type": "code",
   "execution_count": 8,
   "metadata": {
    "collapsed": true
   },
   "outputs": [],
   "source": [
    "x = tf.placeholder(\"float\", shape=[None, 128*128] , name='flat_input')\n",
    "y_ = tf.placeholder(\"float\", shape=[None, 4] , name='target')\n",
    "\n",
    "x_image = tf.reshape(x, [-1,128,128,1] , name='2D_input')\n",
    "\n",
    "\n",
    "W_conv1 = weight_variable([nx_conv1,my_conv1,1,channels_conv1])\n",
    "b_conv1 = bias_variable([channels_conv1])\n",
    "\n",
    "h_conv1 = tf.nn.relu(conv2d(x_image, W_conv1, dnx_conv1, dmy_conv1 ) + b_conv1)\n",
    "\n",
    "\n",
    "W_conv2 = weight_variable([nx_conv2, my_conv2, channels_conv1, channels_conv2])\n",
    "b_conv2 = bias_variable([channels_conv2])\n",
    "\n",
    "h_conv2 = tf.nn.relu(conv2d(h_conv1, W_conv2, dnx_conv2, dmy_conv2 ) + b_conv2)\n",
    "\n",
    "\n",
    "W_conv3 = weight_variable([nx_conv3, my_conv3, channels_conv2, channels_conv3])\n",
    "b_conv3 = bias_variable([channels_conv3])\n",
    "\n",
    "h_conv3 = tf.nn.relu(conv2d(h_conv2, W_conv3, dnx_conv3, dmy_conv3 ) + b_conv3)\n",
    "\n",
    "\n",
    "W_fc1 = weight_variable([size_input_fc1, num_neurons_fc1])\n",
    "b_fc1 = bias_variable([num_neurons_fc1])\n",
    "\n",
    "\n",
    "# h_conv2_flat = tf.reshape(h_conv2, [-1, size_input_fc1])\n",
    "# h_fc1 = tf.nn.tanh(tf.matmul(h_conv2_flat, W_fc1) + b_fc1)\n",
    "\n",
    "h_conv3_flat = tf.reshape(h_conv3, [-1, size_input_fc1])\n",
    "h_fc1 = tf.nn.relu(tf.matmul(h_conv3_flat, W_fc1) + b_fc1)\n",
    "\n",
    "\n",
    "W_fc2 = weight_variable([num_neurons_fc1, 4])\n",
    "b_fc2 = bias_variable([4])\n",
    "\n",
    "\n",
    "keep_prob = tf.placeholder(\"float\")\n",
    "h_fc1_drop = tf.nn.dropout(h_fc1, keep_prob)\n",
    "\n",
    "\n",
    "y_conv=tf.nn.softmax(tf.matmul(h_fc1_drop, W_fc2) + b_fc2)\n",
    "\n",
    "\n",
    "cross_entropy_vector = -y_*tf.log(tf.clip_by_value(y_conv,1e-5,1.0))\n",
    "cross_entropy = -tf.reduce_mean(y_*tf.log(y_conv))\n",
    "MSE = tf.reduce_mean(tf.square(y_-y_conv))\n",
    "\n",
    "\n",
    "optimizer = tf.train.AdamOptimizer(1e-4)\n",
    "train_step = optimizer.minimize(MSE)\n",
    "correct_prediction = tf.equal(tf.argmax(y_conv,1), tf.argmax(y_,1))\n",
    "accuracy = tf.reduce_mean(tf.cast(correct_prediction, \"float\"))\n",
    "\n"
   ]
  },
  {
   "cell_type": "code",
   "execution_count": null,
   "metadata": {
    "collapsed": true
   },
   "outputs": [],
   "source": []
  },
  {
   "cell_type": "markdown",
   "metadata": {
    "collapsed": true
   },
   "source": [
    "# Read test data and initialize the session"
   ]
  },
  {
   "cell_type": "code",
   "execution_count": 9,
   "metadata": {
    "collapsed": true
   },
   "outputs": [],
   "source": [
    "testData=sio.loadmat('C:/OSU/SongMat/Test/532522 SakiZ - osu!memories.mat')\n",
    "inputTest=testData['input'].reshape(-1,128*128)\n",
    "targetTest=testData['target'].reshape(-1,4)\n",
    "NTest=targetTest.shape[0]"
   ]
  },
  {
   "cell_type": "code",
   "execution_count": 10,
   "metadata": {
    "collapsed": true
   },
   "outputs": [],
   "source": [
    "# tensorboard --logdir=D:\\MATLAB\\OSU\\OSU-automapping\\train\\log\\\n",
    "sess.run(tf.global_variables_initializer())\n"
   ]
  },
  {
   "cell_type": "code",
   "execution_count": 11,
   "metadata": {
    "collapsed": true,
    "scrolled": false
   },
   "outputs": [],
   "source": [
    "saver = tf.train.Saver()\n"
   ]
  },
  {
   "cell_type": "code",
   "execution_count": null,
   "metadata": {
    "scrolled": false
   },
   "outputs": [
    {
     "name": "stdout",
     "output_type": "stream",
     "text": [
      "19184\n",
      "[[0 0 0 1]\n",
      " [0 0 0 1]\n",
      " [1 0 0 0]\n",
      " [1 0 0 0]\n",
      " [1 0 0 0]\n",
      " [0 0 0 1]\n",
      " [0 0 0 1]\n",
      " [0 0 0 1]\n",
      " [0 0 0 1]\n",
      " [0 0 0 1]]\n",
      "step 0, memory accuracy 0.102\n",
      "[[  9.44954268e-33   0.00000000e+00   1.00000000e+00   4.09613489e-11]\n",
      " [  8.57691884e-22   0.00000000e+00   1.00000000e+00   8.72244949e-17]\n",
      " [  6.43126791e-15   0.00000000e+00   1.00000000e+00   3.04538973e-14]\n",
      " [  1.20895949e-19   0.00000000e+00   1.00000000e+00   1.10120085e-15]\n",
      " [  1.13633448e-07   8.32934554e-38   9.99999881e-01   2.33411290e-10]\n",
      " [  8.88903513e-22   0.00000000e+00   1.00000000e+00   7.03981469e-19]\n",
      " [  5.90450488e-21   6.31761992e-36   1.00000000e+00   1.09499562e-10]\n",
      " [  9.01207714e-24   0.00000000e+00   1.00000000e+00   7.73451839e-21]\n",
      " [  9.96819037e-25   0.00000000e+00   1.00000000e+00   1.11054591e-13]\n",
      " [  1.71952803e-29   0.00000000e+00   1.00000000e+00   1.33386339e-20]]\n",
      "step 1000, memory accuracy 0.582\n",
      "[[  0.00000000e+00   0.00000000e+00   4.72603117e-14   1.00000000e+00]\n",
      " [  0.00000000e+00   0.00000000e+00   7.18234388e-16   1.00000000e+00]\n",
      " [  0.00000000e+00   0.00000000e+00   1.40515814e-13   1.00000000e+00]\n",
      " [  0.00000000e+00   0.00000000e+00   1.66271641e-09   1.00000000e+00]\n",
      " [  0.00000000e+00   0.00000000e+00   4.31642908e-16   1.00000000e+00]\n",
      " [  0.00000000e+00   0.00000000e+00   1.28431023e-14   1.00000000e+00]\n",
      " [  0.00000000e+00   0.00000000e+00   1.62284366e-16   1.00000000e+00]\n",
      " [  0.00000000e+00   0.00000000e+00   2.35972930e-08   1.00000000e+00]\n",
      " [  0.00000000e+00   0.00000000e+00   1.40231810e-16   1.00000000e+00]\n",
      " [  0.00000000e+00   0.00000000e+00   4.52147070e-10   1.00000000e+00]]\n",
      "step 2000, memory accuracy 0.582\n",
      "[[ 0.  0.  0.  1.]\n",
      " [ 0.  0.  0.  1.]\n",
      " [ 0.  0.  0.  1.]\n",
      " [ 0.  0.  0.  1.]\n",
      " [ 0.  0.  0.  1.]\n",
      " [ 0.  0.  0.  1.]\n",
      " [ 0.  0.  0.  1.]\n",
      " [ 0.  0.  0.  1.]\n",
      " [ 0.  0.  0.  1.]\n",
      " [ 0.  0.  0.  1.]]\n",
      "step 3000, memory accuracy 0.582\n",
      "[[ 0.02223458  0.08969376  0.03653108  0.85154057]\n",
      " [ 0.02223458  0.08969376  0.03653108  0.85154057]\n",
      " [ 0.02223458  0.08969376  0.03653108  0.85154057]\n",
      " [ 0.02223458  0.08969376  0.03653108  0.85154057]\n",
      " [ 0.02223458  0.08969376  0.03653108  0.85154057]\n",
      " [ 0.02223458  0.08969376  0.03653108  0.85154057]\n",
      " [ 0.02223458  0.08969376  0.03653108  0.85154057]\n",
      " [ 0.02223458  0.08969376  0.03653108  0.85154057]\n",
      " [ 0.02223458  0.08969376  0.03653108  0.85154057]\n",
      " [ 0.02223458  0.08969376  0.03653108  0.85154057]]\n",
      "step 4000, memory accuracy 0.582\n",
      "[[ 0.09450459  0.14572002  0.1238956   0.63587976]\n",
      " [ 0.09450459  0.14572002  0.1238956   0.63587976]\n",
      " [ 0.09450459  0.14572002  0.1238956   0.63587976]\n",
      " [ 0.09450459  0.14572002  0.1238956   0.63587976]\n",
      " [ 0.09450459  0.14572002  0.1238956   0.63587976]\n",
      " [ 0.09450459  0.14572002  0.1238956   0.63587976]\n",
      " [ 0.09450459  0.14572002  0.1238956   0.63587976]\n",
      " [ 0.09450459  0.14572002  0.1238956   0.63587976]\n",
      " [ 0.09450459  0.14572002  0.1238956   0.63587976]\n",
      " [ 0.09450459  0.14572002  0.1238956   0.63587976]]\n",
      "step 5000, memory accuracy 0.582\n",
      "[[ 0.11447499  0.10451052  0.1073605   0.67365396]\n",
      " [ 0.11447499  0.10451052  0.1073605   0.67365396]\n",
      " [ 0.11447499  0.10451052  0.1073605   0.67365396]\n",
      " [ 0.11447499  0.10451052  0.1073605   0.67365396]\n",
      " [ 0.11447499  0.10451052  0.1073605   0.67365396]\n",
      " [ 0.11447499  0.10451052  0.1073605   0.67365396]\n",
      " [ 0.11447499  0.10451052  0.1073605   0.67365396]\n",
      " [ 0.11447499  0.10451052  0.1073605   0.67365396]\n",
      " [ 0.11447499  0.10451052  0.1073605   0.67365396]\n",
      " [ 0.11447499  0.10451052  0.1073605   0.67365396]]\n",
      "step 6000, memory accuracy 0.582\n",
      "[[ 0.1432818   0.19472694  0.14299321  0.51899803]\n",
      " [ 0.1432818   0.19472694  0.14299321  0.51899803]\n",
      " [ 0.1432818   0.19472694  0.14299321  0.51899803]\n",
      " [ 0.1432818   0.19472694  0.14299321  0.51899803]\n",
      " [ 0.1432818   0.19472694  0.14299321  0.51899803]\n",
      " [ 0.1432818   0.19472694  0.14299321  0.51899803]\n",
      " [ 0.1432818   0.19472694  0.14299321  0.51899803]\n",
      " [ 0.1432818   0.19472694  0.14299321  0.51899803]\n",
      " [ 0.1432818   0.19472694  0.14299321  0.51899803]\n",
      " [ 0.1432818   0.19472694  0.14299321  0.51899803]]\n",
      "step 7000, memory accuracy 0.582\n",
      "[[ 0.16871493  0.14306234  0.14366604  0.54455668]\n",
      " [ 0.16871493  0.14306234  0.14366604  0.54455668]\n",
      " [ 0.16871493  0.14306234  0.14366604  0.54455668]\n",
      " [ 0.16871493  0.14306234  0.14366604  0.54455668]\n",
      " [ 0.16871493  0.14306234  0.14366604  0.54455668]\n",
      " [ 0.16871493  0.14306234  0.14366604  0.54455668]\n",
      " [ 0.16871493  0.14306234  0.14366604  0.54455668]\n",
      " [ 0.16871493  0.14306234  0.14366604  0.54455668]\n",
      " [ 0.16871493  0.14306234  0.14366604  0.54455668]\n",
      " [ 0.16871493  0.14306234  0.14366604  0.54455668]]\n",
      "step 8000, memory accuracy 0.582\n",
      "[[ 0.23459053  0.12274116  0.13504493  0.50762337]\n",
      " [ 0.23459053  0.12274116  0.13504493  0.50762337]\n",
      " [ 0.23459053  0.12274116  0.13504493  0.50762337]\n",
      " [ 0.23459053  0.12274116  0.13504493  0.50762337]\n",
      " [ 0.23459053  0.12274116  0.13504493  0.50762337]\n",
      " [ 0.23459053  0.12274116  0.13504493  0.50762337]\n",
      " [ 0.23459053  0.12274116  0.13504493  0.50762337]\n",
      " [ 0.23459053  0.12274116  0.13504493  0.50762337]\n",
      " [ 0.23459053  0.12274116  0.13504493  0.50762337]\n",
      " [ 0.23459053  0.12274116  0.13504493  0.50762337]]\n",
      "step 9000, memory accuracy 0.582\n",
      "[[ 0.27592298  0.14408015  0.17975099  0.4002459 ]\n",
      " [ 0.27592298  0.14408015  0.17975099  0.4002459 ]\n",
      " [ 0.27592298  0.14408015  0.17975099  0.4002459 ]\n",
      " [ 0.27592298  0.14408015  0.17975099  0.4002459 ]\n",
      " [ 0.27592298  0.14408015  0.17975099  0.4002459 ]\n",
      " [ 0.27592298  0.14408015  0.17975099  0.4002459 ]\n",
      " [ 0.27592298  0.14408015  0.17975099  0.4002459 ]\n",
      " [ 0.27592298  0.14408015  0.17975099  0.4002459 ]\n",
      " [ 0.27592298  0.14408015  0.17975099  0.4002459 ]\n",
      " [ 0.27592298  0.14408015  0.17975099  0.4002459 ]]\n",
      "step 10000, memory accuracy 0.582\n",
      "[[ 0.22644158  0.12912163  0.14486912  0.49956766]\n",
      " [ 0.22644158  0.12912163  0.14486912  0.49956766]\n",
      " [ 0.22644158  0.12912163  0.14486912  0.49956766]\n",
      " [ 0.22644158  0.12912163  0.14486912  0.49956766]\n",
      " [ 0.22644158  0.12912163  0.14486912  0.49956766]\n",
      " [ 0.22644158  0.12912163  0.14486912  0.49956766]\n",
      " [ 0.22644158  0.12912163  0.14486912  0.49956766]\n",
      " [ 0.22644158  0.12912163  0.14486912  0.49956766]\n",
      " [ 0.22644158  0.12912163  0.14486912  0.49956766]\n",
      " [ 0.22644158  0.12912163  0.14486912  0.49956766]]\n",
      "step 11000, memory accuracy 0.582\n",
      "[[ 0.2091317   0.1373626   0.12982737  0.5236783 ]\n",
      " [ 0.2091317   0.1373626   0.12982737  0.5236783 ]\n",
      " [ 0.2091317   0.1373626   0.12982737  0.5236783 ]\n",
      " [ 0.2091317   0.1373626   0.12982737  0.5236783 ]\n",
      " [ 0.2091317   0.1373626   0.12982737  0.5236783 ]\n",
      " [ 0.2091317   0.1373626   0.12982737  0.5236783 ]\n",
      " [ 0.2091317   0.1373626   0.12982737  0.5236783 ]\n",
      " [ 0.2091317   0.1373626   0.12982737  0.5236783 ]\n",
      " [ 0.2091317   0.1373626   0.12982737  0.5236783 ]\n",
      " [ 0.2091317   0.1373626   0.12982737  0.5236783 ]]\n",
      "step 12000, memory accuracy 0.582\n",
      "[[ 0.29592675  0.14695697  0.13956538  0.41755092]\n",
      " [ 0.29592675  0.14695697  0.13956538  0.41755092]\n",
      " [ 0.29592675  0.14695697  0.13956538  0.41755092]\n",
      " [ 0.29592675  0.14695697  0.13956538  0.41755092]\n",
      " [ 0.29592675  0.14695697  0.13956538  0.41755092]\n",
      " [ 0.29592675  0.14695697  0.13956538  0.41755092]\n",
      " [ 0.29592675  0.14695697  0.13956538  0.41755092]\n",
      " [ 0.29592675  0.14695697  0.13956538  0.41755092]\n",
      " [ 0.29592675  0.14695697  0.13956538  0.41755092]\n",
      " [ 0.29592675  0.14695697  0.13956538  0.41755092]]\n",
      "step 13000, memory accuracy 0.582\n",
      "[[ 0.22337037  0.15369549  0.14437613  0.478558  ]\n",
      " [ 0.22337037  0.15369549  0.14437613  0.478558  ]\n",
      " [ 0.22337037  0.15369549  0.14437613  0.478558  ]\n",
      " [ 0.22337037  0.15369549  0.14437613  0.478558  ]\n",
      " [ 0.22337037  0.15369549  0.14437613  0.478558  ]\n",
      " [ 0.22337037  0.15369549  0.14437613  0.478558  ]\n",
      " [ 0.22337037  0.15369549  0.14437613  0.478558  ]\n",
      " [ 0.22337037  0.15369549  0.14437613  0.478558  ]\n",
      " [ 0.22337037  0.15369549  0.14437613  0.478558  ]\n",
      " [ 0.22337037  0.15369549  0.14437613  0.478558  ]]\n",
      "step 14000, memory accuracy 0.582\n",
      "[[ 0.24754246  0.13221961  0.125127    0.49511087]\n",
      " [ 0.24754246  0.13221961  0.125127    0.49511087]\n",
      " [ 0.24754246  0.13221961  0.125127    0.49511087]\n",
      " [ 0.24754246  0.13221961  0.125127    0.49511087]\n",
      " [ 0.24754246  0.13221961  0.125127    0.49511087]\n",
      " [ 0.24754246  0.13221961  0.125127    0.49511087]\n",
      " [ 0.24754246  0.13221961  0.125127    0.49511087]\n",
      " [ 0.24754246  0.13221961  0.125127    0.49511087]\n",
      " [ 0.24754246  0.13221961  0.125127    0.49511087]\n",
      " [ 0.24754246  0.13221961  0.125127    0.49511087]]\n"
     ]
    },
    {
     "name": "stdout",
     "output_type": "stream",
     "text": [
      "step 15000, memory accuracy 0.582\n",
      "[[ 0.25267088  0.15170346  0.16328686  0.43233874]\n",
      " [ 0.25267088  0.15170346  0.16328686  0.43233874]\n",
      " [ 0.25267088  0.15170346  0.16328686  0.43233874]\n",
      " [ 0.25267088  0.15170346  0.16328686  0.43233874]\n",
      " [ 0.25267088  0.15170346  0.16328686  0.43233874]\n",
      " [ 0.25267088  0.15170346  0.16328686  0.43233874]\n",
      " [ 0.25267088  0.15170346  0.16328686  0.43233874]\n",
      " [ 0.25267088  0.15170346  0.16328686  0.43233874]\n",
      " [ 0.25267088  0.15170346  0.16328686  0.43233874]\n",
      " [ 0.25267088  0.15170346  0.16328686  0.43233874]]\n",
      "step 16000, memory accuracy 0.582\n",
      "[[ 0.25450939  0.12944825  0.13145046  0.48459193]\n",
      " [ 0.25450939  0.12944825  0.13145046  0.48459193]\n",
      " [ 0.25450939  0.12944825  0.13145046  0.48459193]\n",
      " [ 0.25450939  0.12944825  0.13145046  0.48459193]\n",
      " [ 0.25450939  0.12944825  0.13145046  0.48459193]\n",
      " [ 0.25450939  0.12944825  0.13145046  0.48459193]\n",
      " [ 0.25450939  0.12944825  0.13145046  0.48459193]\n",
      " [ 0.25450939  0.12944825  0.13145046  0.48459193]\n",
      " [ 0.25450939  0.12944825  0.13145046  0.48459193]\n",
      " [ 0.25450939  0.12944825  0.13145046  0.48459193]]\n",
      "step 17000, memory accuracy 0.582\n",
      "[[ 0.24357204  0.14247397  0.12769593  0.486258  ]\n",
      " [ 0.24357204  0.14247397  0.12769593  0.486258  ]\n",
      " [ 0.24357204  0.14247397  0.12769593  0.486258  ]\n",
      " [ 0.24357204  0.14247397  0.12769593  0.486258  ]\n",
      " [ 0.24357204  0.14247397  0.12769593  0.486258  ]\n",
      " [ 0.24357204  0.14247397  0.12769593  0.486258  ]\n",
      " [ 0.24357204  0.14247397  0.12769593  0.486258  ]\n",
      " [ 0.24357204  0.14247397  0.12769593  0.486258  ]\n",
      " [ 0.24357204  0.14247397  0.12769593  0.486258  ]\n",
      " [ 0.24357204  0.14247397  0.12769593  0.486258  ]]\n",
      "step 18000, memory accuracy 0.582\n",
      "[[ 0.2680108   0.13647062  0.12544285  0.4700757 ]\n",
      " [ 0.2680108   0.13647062  0.12544285  0.4700757 ]\n",
      " [ 0.2680108   0.13647062  0.12544285  0.4700757 ]\n",
      " [ 0.2680108   0.13647062  0.12544285  0.4700757 ]\n",
      " [ 0.2680108   0.13647062  0.12544285  0.4700757 ]\n",
      " [ 0.2680108   0.13647062  0.12544285  0.4700757 ]\n",
      " [ 0.2680108   0.13647062  0.12544285  0.4700757 ]\n",
      " [ 0.2680108   0.13647062  0.12544285  0.4700757 ]\n",
      " [ 0.2680108   0.13647062  0.12544285  0.4700757 ]\n",
      " [ 0.2680108   0.13647062  0.12544285  0.4700757 ]]\n",
      "step 19000, memory accuracy 0.582\n",
      "[[ 0.26210466  0.12113468  0.14184746  0.4749133 ]\n",
      " [ 0.26210466  0.12113468  0.14184746  0.4749133 ]\n",
      " [ 0.26210466  0.12113468  0.14184746  0.4749133 ]\n",
      " [ 0.26210466  0.12113468  0.14184746  0.4749133 ]\n",
      " [ 0.26210466  0.12113468  0.14184746  0.4749133 ]\n",
      " [ 0.26210466  0.12113468  0.14184746  0.4749133 ]\n",
      " [ 0.26210466  0.12113468  0.14184746  0.4749133 ]\n",
      " [ 0.26210466  0.12113468  0.14184746  0.4749133 ]\n",
      " [ 0.26210466  0.12113468  0.14184746  0.4749133 ]\n",
      " [ 0.26210466  0.12113468  0.14184746  0.4749133 ]]\n",
      "test accuracy 0.484\n",
      "[[ 0.26210466  0.12113468  0.14184746  0.4749133 ]\n",
      " [ 0.26210466  0.12113468  0.14184746  0.4749133 ]\n",
      " [ 0.26210466  0.12113468  0.14184746  0.4749133 ]\n",
      " [ 0.26210466  0.12113468  0.14184746  0.4749133 ]\n",
      " [ 0.26210466  0.12113468  0.14184746  0.4749133 ]\n",
      " [ 0.26210466  0.12113468  0.14184746  0.4749133 ]\n",
      " [ 0.26210466  0.12113468  0.14184746  0.4749133 ]\n",
      " [ 0.26210466  0.12113468  0.14184746  0.4749133 ]\n",
      " [ 0.26210466  0.12113468  0.14184746  0.4749133 ]\n",
      " [ 0.26210466  0.12113468  0.14184746  0.4749133 ]]\n",
      "1\n"
     ]
    }
   ],
   "source": [
    "step_size = 100\n",
    " \n",
    "dataList=os.listdir('C:/OSU/SongMat/Train/')\n",
    "acc=np.zeros([1000,1])\n",
    "\n",
    "\n",
    "tf.summary.scalar('accuracy', accuracy)\n",
    "tf.summary.scalar('cross_entropy', cross_entropy)\n",
    "tf.summary.scalar('mse', MSE)\n",
    "variable_summaries('cross_entropy_individual',cross_entropy_vector)\n",
    "\n",
    "\n",
    "# tf.summary.scalar('W_conv1_max',tf.reduce_max(tf.abs(W_conv1)))\n",
    "# tf.summary.scalar('b_conv1_max',tf.reduce_max(tf.abs(b_conv1)))\n",
    "# tf.summary.scalar('W_conv2_max',tf.reduce_max(tf.abs(W_conv2)))\n",
    "# tf.summary.scalar('b_conv2_max',tf.reduce_max(tf.abs(b_conv2)))\n",
    "# tf.summary.scalar('W_conv3_max',tf.reduce_max(tf.abs(W_conv2)))\n",
    "# tf.summary.scalar('b_conv3_max',tf.reduce_max(tf.abs(b_conv2)))\n",
    "# tf.summary.scalar('W_fc1_max',tf.reduce_max(tf.abs(W_fc1)))\n",
    "# tf.summary.scalar('b_fc1_max',tf.reduce_max(tf.abs(b_fc1)))\n",
    "# tf.summary.scalar('W_fc2_max',tf.reduce_max(tf.abs(W_fc2)))\n",
    "# tf.summary.scalar('b_fc2_max',tf.reduce_max(tf.abs(b_fc2)))\n",
    "\n",
    "# variable_summaries('W_conv_1',W_conv1)\n",
    "# variable_summaries('b_conv_1',b_conv1)\n",
    "# variable_summaries('W_fc2',W_fc2)\n",
    "# variable_summaries('b_fc2',b_fc2)\n",
    "\n",
    "\n",
    "merged = tf.summary.merge_all()\n",
    "train_writer = tf.summary.FileWriter('D:/MATLAB/OSU/OSU-automapping/Train/log/train'+now.strftime(\"%Y%m%d-%H%M%S\") + \"/\",sess.graph)\n",
    "test_writer = tf.summary.FileWriter('D:/MATLAB/OSU/OSU-automapping/Train/log/test'+now.strftime(\"%Y%m%d-%H%M%S\") + \"/\")\n",
    "\n",
    "\n",
    "n = 1\n",
    "total_steps = 0\n",
    "\n",
    "while n < np.size(dataList)-15:\n",
    "    inputOsu=np.empty([0,128*128])\n",
    "    targetOsu=np.empty([0,4])\n",
    "    for k in range(n,n+15):\n",
    "        \n",
    "        data=sio.loadmat('C:/OSU/SongMat/Train/'+dataList[k])\n",
    "        inputOsu=np.append(inputOsu,data['input1'].reshape(-1,128*128),axis=0)\n",
    "        targetOsu=np.append(targetOsu,data['target1'].reshape(-1,4),axis=0)\n",
    "                   \n",
    "    N=inputOsu.shape[0]\n",
    "    print(N)\n",
    "    \n",
    "    #shuffle the order\n",
    "    order = np.arange(N-step_size)\n",
    "    np.random.shuffle(order)\n",
    "    orderAcc = np.arange(NTest)\n",
    "    np.random.shuffle(orderAcc)\n",
    "    \n",
    "    print(targetTest[orderAcc[0:10],:])\n",
    "    for i in range(N-step_size):\n",
    "        if i%step_size == 0:\n",
    "            summary, _  = sess.run([merged, train_step], feed_dict={x: inputOsu[order[i:i+step_size],:], y_: targetOsu[order[i:i+step_size],:], keep_prob: 0.5})\n",
    "            test_writer.add_summary(summary, i + total_steps)\n",
    "        else:\n",
    "            summary = sess.run(merged, feed_dict={x: inputOsu[order[i:i+step_size],:], y_: targetOsu[order[i:i+step_size],:], keep_prob: 0.5})\n",
    "            train_writer.add_summary(summary, i + total_steps)\n",
    "        if i%1000 == 0:\n",
    "            accMemory = accuracy.eval(feed_dict={x: inputTest[orderAcc[0:500],:], y_: targetTest[orderAcc[0:500],:], keep_prob: 1.0}) \n",
    "            print(\"step %d, memory accuracy %g\" %(i, accMemory))\n",
    "            print(y_conv.eval(feed_dict={x: inputTest[orderAcc[0:10],:], keep_prob: 1.0}))\n",
    "            \n",
    "    total_steps += i\n",
    "    \n",
    "    \n",
    "    \n",
    "    # Test accuracy\n",
    "    orderAcc = np.arange(NTest)\n",
    "    np.random.shuffle(orderAcc)\n",
    "    accTest=accuracy.eval(feed_dict={x: inputTest[orderAcc[0:500],:], y_: targetTest[orderAcc[0:500],:], keep_prob: 1.0});\n",
    "#     print(\"train accuracy %g\"%accTrain)\n",
    "    print(\"test accuracy %g\"%accTest)\n",
    "#     try:\n",
    "#         print('learning_rate %g'%lr)\n",
    "# #         print('learning_rate %g'%optimizer._lr)\n",
    "#     except:\n",
    "#         print(\"Error: ??\")\n",
    "    \n",
    "    print(y_conv.eval(feed_dict={x: inputTest[orderAcc[0:10],:], keep_prob: 1.0}))\n",
    "    acc[n]=accTest\n",
    "    print(n)\n",
    "    if acc[n]>0.8:\n",
    "        break\n",
    "    n=n+3\n",
    "        "
   ]
  },
  {
   "cell_type": "code",
   "execution_count": null,
   "metadata": {
    "collapsed": true
   },
   "outputs": [],
   "source": [
    "save_path = saver.save(sess, \"D:/OSU/results/save/\",global_step=n)"
   ]
  },
  {
   "cell_type": "code",
   "execution_count": null,
   "metadata": {},
   "outputs": [],
   "source": [
    "print(targetOsu[120,:])\n",
    "plt.pcolor(inputOsu[120,:].reshape([128,128]))\n",
    "plt.colorbar()\n",
    "plt.show()"
   ]
  },
  {
   "cell_type": "code",
   "execution_count": null,
   "metadata": {
    "collapsed": true
   },
   "outputs": [],
   "source": [
    "targetOsu2[2015:2020,:]"
   ]
  },
  {
   "cell_type": "code",
   "execution_count": null,
   "metadata": {
    "collapsed": true,
    "scrolled": false
   },
   "outputs": [],
   "source": [
    "print(acc)"
   ]
  },
  {
   "cell_type": "code",
   "execution_count": null,
   "metadata": {
    "collapsed": true,
    "scrolled": false
   },
   "outputs": [],
   "source": [
    "print(y_conv.eval(feed_dict={x: inputOsu[200:210:1,:], keep_prob: 1.0}))\n",
    "print (\"test accuracy %g\"%accuracy.eval(feed_dict={\n",
    "  x: inputOsu[-500:,:], y_: targetOsu2[-500:,:], keep_prob: 1.0}))"
   ]
  },
  {
   "cell_type": "code",
   "execution_count": null,
   "metadata": {
    "collapsed": true,
    "scrolled": false
   },
   "outputs": [],
   "source": [
    "# Save the output of new maps \n",
    "\n",
    "dataList=os.listdir('C:/OSU/SongMat/Create/')\n",
    "# inputOsuNew=np.empty([0,128*128]);\n",
    "for i in range(np.size(dataList)):\n",
    "    if not dataList[i][0]=='y':\n",
    "        data=sio.loadmat('C:/OSU/SongMat/Create/'+dataList[i])\n",
    "        print(data['osuFolder'])\n",
    "        \n",
    "        inputOsuNew=data['input'].reshape(-1,128*128)\n",
    "        outputOsuNew=data['target']\n",
    "        outputOsu2New=np.zeros([outputOsuNew.shape[0],2]);\n",
    "        outputOsu2New[:,0]=outputOsuNew[:,0]+outputOsuNew[:,1]+outputOsuNew[:,2]\n",
    "        outputOsu2New[:,1]=outputOsuNew[:,3]\n",
    "        \n",
    "        y_result=np.empty([0,2])\n",
    "        \n",
    "        step_size=500\n",
    "        cursor=0\n",
    "        print (\"test accuracy %g\"%accuracy.eval(feed_dict={x: inputOsuNew[-500:,:], y_: outputOsu2New[-500:,:], keep_prob: 1.0}))\n",
    "        while cursor<inputOsuNew.shape[0]:\n",
    "            if inputOsuNew[cursor:,:].shape[0]>step_size:\n",
    "                y_result1=y_conv.eval(feed_dict={x: inputOsuNew[cursor:(cursor+step_size):1,:], keep_prob: 1.0})\n",
    "                y_result=np.append(y_result,y_result1,axis=0)\n",
    "            else:\n",
    "                y_result1=y_conv.eval(feed_dict={x: inputOsuNew[cursor:(cursor+step_size):1,:], keep_prob: 1.0})\n",
    "                y_result=np.append(y_result,y_result1,axis=0)\n",
    "            cursor+=step_size\n",
    "            \n",
    "        data_save={'y2':y_result}\n",
    "        sio.savemat('C:/OSU/SongMat/Create/y2_'+dataList[i],data_save)\n"
   ]
  },
  {
   "cell_type": "code",
   "execution_count": null,
   "metadata": {
    "collapsed": true
   },
   "outputs": [],
   "source": []
  },
  {
   "cell_type": "code",
   "execution_count": null,
   "metadata": {
    "collapsed": true
   },
   "outputs": [],
   "source": []
  },
  {
   "cell_type": "markdown",
   "metadata": {
    "collapsed": true,
    "scrolled": false
   },
   "source": []
  },
  {
   "cell_type": "code",
   "execution_count": null,
   "metadata": {
    "collapsed": true
   },
   "outputs": [],
   "source": [
    "data_save={'y':y_result}\n",
    "sio.savemat('D:/OSU/results/innocence/y_innocence.mat',data_save)"
   ]
  },
  {
   "cell_type": "code",
   "execution_count": null,
   "metadata": {
    "collapsed": true
   },
   "outputs": [],
   "source": []
  },
  {
   "cell_type": "code",
   "execution_count": null,
   "metadata": {
    "collapsed": true
   },
   "outputs": [],
   "source": []
  },
  {
   "cell_type": "code",
   "execution_count": null,
   "metadata": {
    "collapsed": true
   },
   "outputs": [],
   "source": []
  },
  {
   "cell_type": "code",
   "execution_count": null,
   "metadata": {
    "collapsed": true
   },
   "outputs": [],
   "source": [
    "checkpoint_dir='D:/OSU/results/innocence/save/'\n",
    "ckpt = tf.train.get_checkpoint_state(checkpoint_dir)  \n",
    "saver.restore(sess, ckpt.model_checkpoint_path)  "
   ]
  },
  {
   "cell_type": "code",
   "execution_count": null,
   "metadata": {
    "collapsed": true
   },
   "outputs": [],
   "source": [
    "saver2 = tf.train.Saver()"
   ]
  },
  {
   "cell_type": "code",
   "execution_count": null,
   "metadata": {
    "collapsed": true
   },
   "outputs": [],
   "source": [
    "checkpoint_dir='/Users/dongqihan/Desktop/FrOstNova/save/'\n",
    "ckpt = tf.train.get_checkpoint_state(checkpoint_dir)  \n",
    "saver2.restore(sess, ckpt.model_checkpoint_path)  "
   ]
  },
  {
   "cell_type": "code",
   "execution_count": null,
   "metadata": {
    "collapsed": true
   },
   "outputs": [],
   "source": []
  },
  {
   "cell_type": "code",
   "execution_count": null,
   "metadata": {
    "collapsed": true
   },
   "outputs": [],
   "source": [
    "a = tf.constant([1.0, 2.0, 3.0, 4.0, 5.0, 6.0], shape=[2, 3], name='a')\n",
    "b = tf.constant([1.0, 2.0, 3.0, 4.0, 5.0, 6.0], shape=[3, 2], name='b')\n",
    "c = tf.matmul(a, b)\n",
    "# Creates a session with log_device_placement set to True.\n",
    "sess_tmp = tf.Session(config=tf.ConfigProto(log_device_placement=True))\n",
    "# Runs the op.\n",
    "print(sess_tmp.run(c))"
   ]
  },
  {
   "cell_type": "code",
   "execution_count": null,
   "metadata": {
    "collapsed": true
   },
   "outputs": [],
   "source": [
    "data_test=sio.loadmat('/Users/dongqihan/Desktop/FrOstNova/granat.mat')\n",
    "inputOsu_test=data_test['input'].reshape(-1,128*128)\n",
    "y_result_test=y_conv.eval(feed_dict={x: inputOsu_test, keep_prob: 1.0})\n",
    "data={'y':y_result_test}\n",
    "sio.savemat('/Users/dongqihan/Desktop/FrOstNova/y_memory2granat.mat',data)"
   ]
  }
 ],
 "metadata": {
  "kernelspec": {
   "display_name": "Python 3",
   "language": "python",
   "name": "python3"
  },
  "language_info": {
   "codemirror_mode": {
    "name": "ipython",
    "version": 3
   },
   "file_extension": ".py",
   "mimetype": "text/x-python",
   "name": "python",
   "nbconvert_exporter": "python",
   "pygments_lexer": "ipython3",
   "version": "3.5.4"
  }
 },
 "nbformat": 4,
 "nbformat_minor": 2
}
