{
 "cells": [
  {
   "cell_type": "code",
   "execution_count": 3,
   "metadata": {
    "collapsed": true
   },
   "outputs": [],
   "source": [
    "import tensorflow as tf\n",
    "import scipy.io as sio\n",
    "sess = tf.InteractiveSession()\n",
    "import os\n",
    "import numpy as np"
   ]
  },
  {
   "cell_type": "code",
   "execution_count": 4,
   "metadata": {
    "collapsed": true
   },
   "outputs": [],
   "source": [
    "# Define functions\n",
    "\n",
    "def conv2d(x, W, dy ,dx):\n",
    "  return tf.nn.conv2d(x, W, strides=[1, dx, dy, 1], padding='SAME')\n",
    "\n",
    "def max_pool_axb(x,a,b):\n",
    "  return tf.nn.max_pool(x, ksize=[1, a, b, 1],\n",
    "                        strides=[1, a, b, 1], padding='SAME')\n",
    "\n",
    "def weight_variable(shape):\n",
    "  initial = tf.truncated_normal(shape, stddev=0.1)\n",
    "  return tf.Variable(initial)\n",
    "\n",
    "def bias_variable(shape):\n",
    "  initial = tf.constant(0.1, shape=shape)\n",
    "  return tf.Variable(initial)"
   ]
  },
  {
   "cell_type": "code",
   "execution_count": null,
   "metadata": {
    "collapsed": true
   },
   "outputs": [],
   "source": []
  },
  {
   "cell_type": "code",
   "execution_count": 6,
   "metadata": {},
   "outputs": [
    {
     "name": "stdout",
     "output_type": "stream",
     "text": [
      "256\n"
     ]
    }
   ],
   "source": [
    "# Define the parameters of the network\n",
    "\n",
    "#-----------ACC 0.65 *** score 74----------------\n",
    "nx_conv1=16      # filter_width (frequency)\n",
    "my_conv1=4   # filter_height (time)\n",
    "dnx_conv1=4    # stride_width\n",
    "dmy_conv1=1    # stride_height\n",
    "\n",
    "nx_pool1=4      # pooling width\n",
    "my_pool1=1      # pooling height\n",
    "\n",
    "channels_conv1=32    # channels num\n",
    "\n",
    "nx_conv2=2\n",
    "my_conv2=16\n",
    "dnx_conv2=1\n",
    "dmy_conv2=8\n",
    "\n",
    "nx_pool2=2\n",
    "my_pool2=1\n",
    "\n",
    "\n",
    "channels_conv2=4\n",
    "\n",
    "size_input_fc1=int(128*128*channels_conv2/dnx_conv1/dmy_conv1/dnx_conv2/dmy_conv2/nx_pool1/my_pool1/nx_pool2/my_pool2)\n",
    "num_neurons_fc1=64\n",
    "\n",
    "print(size_input_fc1)"
   ]
  },
  {
   "cell_type": "code",
   "execution_count": 180,
   "metadata": {
    "collapsed": true
   },
   "outputs": [],
   "source": [
    "# Define the parameters of the network\n",
    "\n",
    "#-----------ACC 0.65 *** score 74----------------\n",
    "# nx_conv1=16      # filter_width\n",
    "# my_conv1=4   # filter_height\n",
    "# dnx_conv1=4    # stride_width\n",
    "# dmy_conv1=1    # stride_height\n",
    "\n",
    "# nx_pool1=4      # pooling width\n",
    "# my_pool1=4      # pooling height\n",
    "\n",
    "# channels_conv1=32    # channels num\n",
    "\n",
    "# nx_conv2=2\n",
    "# my_conv2=16\n",
    "# dnx_conv2=1\n",
    "# dmy_conv2=8\n",
    "\n",
    "# nx_pool2=2\n",
    "# my_pool2=2\n",
    "\n",
    "\n",
    "# channels_conv2=4\n",
    "\n",
    "# size_input_fc1=int(128*128*channels_conv2/dnx_conv1/dmy_conv1/dnx_conv2/dmy_conv2/nx_pool1/my_pool1/nx_pool2/my_pool2)\n",
    "# num_neurons_fc1=32\n",
    "\n",
    "# print(size_input_fc1)\n",
    "\n",
    "#--------------ACC 0.64  acore 69--------------\n",
    "# nx_conv1=8      # filter_width\n",
    "# my_conv1=8  # filter_height\n",
    "# dnx_conv1=2    # stride_width\n",
    "# dmy_conv1=2    # stride_height\n",
    "\n",
    "# nx_pool1=2      # pooling width\n",
    "# my_pool1=2      # pooling height\n",
    "\n",
    "# channels_conv1=32    # channels num\n",
    "\n",
    "# nx_conv2=4\n",
    "# my_conv2=4\n",
    "# dnx_conv2=2\n",
    "# dmy_conv2=2\n",
    "\n",
    "# nx_pool2=2\n",
    "# my_pool2=2\n",
    "\n",
    "\n",
    "# channels_conv2=4\n",
    "\n",
    "# size_input_fc1=int(128*128*channels_conv2/dnx_conv1/dmy_conv1/dnx_conv2/dmy_conv2/nx_pool1/my_pool1/nx_pool2/my_pool2)\n",
    "# num_neurons_fc1=32\n",
    "\n",
    "# print(size_input_fc1)\n",
    "\n"
   ]
  },
  {
   "cell_type": "code",
   "execution_count": 17,
   "metadata": {
    "collapsed": true
   },
   "outputs": [],
   "source": [
    "# Read osu! data\n",
    "\n",
    "dataList=os.listdir('D:/OSU/SongMat/Train/')\n",
    "inputOsu=np.empty([0,128*128]);\n",
    "outputOsu=np.empty([0,4]);\n",
    "for i in range(np.size(dataList)):\n",
    "    data=sio.loadmat('D:/OSU/SongMat/Train/'+dataList[i])\n",
    "    inputOsu=np.append(inputOsu,data['input1'].reshape(-1,128*128),axis=0)\n",
    "    outputOsu=np.append(outputOsu,data['target1'].reshape(-1,4),axis=0)\n",
    "\n"
   ]
  },
  {
   "cell_type": "code",
   "execution_count": 18,
   "metadata": {
    "collapsed": true,
    "scrolled": true
   },
   "outputs": [],
   "source": [
    "outputOsu2=np.zeros([outputOsu.shape[0],2]);\n",
    "outputOsu2[:,0]=outputOsu[:,0]+outputOsu[:,1]+outputOsu[:,2]\n",
    "outputOsu2[:,1]=outputOsu[:,3]"
   ]
  },
  {
   "cell_type": "code",
   "execution_count": null,
   "metadata": {
    "collapsed": true
   },
   "outputs": [],
   "source": []
  },
  {
   "cell_type": "code",
   "execution_count": null,
   "metadata": {
    "collapsed": true
   },
   "outputs": [],
   "source": []
  },
  {
   "cell_type": "code",
   "execution_count": 19,
   "metadata": {
    "collapsed": true
   },
   "outputs": [],
   "source": [
    "x = tf.placeholder(\"float\", shape=[None, 128*128])\n",
    "y_ = tf.placeholder(\"float\", shape=[None, 2])\n",
    "\n",
    "\n",
    "x_image = tf.reshape(x, [-1,128,128,1])\n",
    "\n",
    "W_conv1 = weight_variable([nx_conv1,my_conv1,1,channels_conv1])\n",
    "b_conv1 = bias_variable([channels_conv1])\n",
    "\n",
    "\n",
    "h_conv1 = tf.nn.relu(conv2d(x_image, W_conv1, dnx_conv1, dmy_conv1 ) + b_conv1)\n",
    "h_pool1 = max_pool_axb(h_conv1, nx_pool1, my_pool1)\n",
    "\n",
    "\n",
    "W_conv2 = weight_variable([nx_conv2, my_conv2, channels_conv1, channels_conv2])\n",
    "b_conv2 = bias_variable([channels_conv2])\n",
    "\n",
    "h_conv2 = tf.nn.relu(conv2d(h_pool1, W_conv2, dnx_conv2, dmy_conv2 ) + b_conv2)\n",
    "h_pool2 = max_pool_axb(h_conv2, nx_pool2, my_pool2)\n",
    "\n",
    "\n",
    "\n",
    "W_fc1 = weight_variable([size_input_fc1, num_neurons_fc1])\n",
    "b_fc1 = bias_variable([num_neurons_fc1])\n",
    "\n",
    "h_pool2_flat = tf.reshape(h_pool2, [-1, size_input_fc1])\n",
    "h_fc1 = tf.nn.relu(tf.matmul(h_pool2_flat, W_fc1) + b_fc1)\n",
    "\n",
    "\n",
    "W_fc2 = weight_variable([num_neurons_fc1, 2])\n",
    "b_fc2 = bias_variable([2])\n",
    "\n",
    "\n",
    "\n",
    "keep_prob = tf.placeholder(\"float\")\n",
    "h_fc1_drop = tf.nn.dropout(h_fc1, keep_prob)\n",
    "\n",
    "y_conv=tf.nn.softmax(tf.matmul(h_fc1_drop, W_fc2) + b_fc2)\n",
    "\n",
    "\n",
    "\n",
    "cross_entropy = -tf.reduce_sum(y_*tf.log(y_conv))\n",
    "train_step = tf.train.AdamOptimizer(1e-4).minimize(cross_entropy)\n",
    "correct_prediction = tf.equal(tf.argmax(y_conv,1), tf.argmax(y_,1))\n",
    "accuracy = tf.reduce_mean(tf.cast(correct_prediction, \"float\"))\n"
   ]
  },
  {
   "cell_type": "code",
   "execution_count": null,
   "metadata": {
    "collapsed": true
   },
   "outputs": [],
   "source": []
  },
  {
   "cell_type": "code",
   "execution_count": null,
   "metadata": {
    "collapsed": true
   },
   "outputs": [],
   "source": []
  },
  {
   "cell_type": "code",
   "execution_count": null,
   "metadata": {
    "collapsed": true
   },
   "outputs": [],
   "source": []
  },
  {
   "cell_type": "code",
   "execution_count": null,
   "metadata": {
    "collapsed": true
   },
   "outputs": [],
   "source": []
  },
  {
   "cell_type": "code",
   "execution_count": null,
   "metadata": {
    "collapsed": true
   },
   "outputs": [],
   "source": []
  },
  {
   "cell_type": "code",
   "execution_count": null,
   "metadata": {
    "collapsed": true
   },
   "outputs": [],
   "source": []
  },
  {
   "cell_type": "code",
   "execution_count": 12,
   "metadata": {
    "collapsed": true
   },
   "outputs": [],
   "source": [
    "#sess.run(tf.initialize_all_variables())  \n"
   ]
  },
  {
   "cell_type": "code",
   "execution_count": 20,
   "metadata": {},
   "outputs": [],
   "source": [
    "sess.run(tf.global_variables_initializer())"
   ]
  },
  {
   "cell_type": "code",
   "execution_count": 21,
   "metadata": {
    "collapsed": true,
    "scrolled": false
   },
   "outputs": [],
   "source": [
    "saver = tf.train.Saver()\n"
   ]
  },
  {
   "cell_type": "code",
   "execution_count": 23,
   "metadata": {
    "scrolled": true
   },
   "outputs": [
    {
     "name": "stdout",
     "output_type": "stream",
     "text": [
      "1618\n",
      "test accuracy 0.463\n",
      "test accuracy 0.456\n",
      "test accuracy 0.474\n",
      "test accuracy 0.469\n",
      "test accuracy 0.469\n",
      "test accuracy 0.47\n",
      "test accuracy 0.465\n",
      "test accuracy 0.465\n",
      "test accuracy 0.464\n",
      "test accuracy 0.465\n"
     ]
    }
   ],
   "source": [
    "step_size=200\n",
    "N=inputOsu.shape[0]\n",
    "print(N)\n",
    "#shuffle the order\n",
    "order = np.arange(N-1000)\n",
    "np.random.shuffle(order)\n",
    "\n",
    "for n in range(10):\n",
    "    for i in range(N-1000):\n",
    "        if i%step_size == 0:\n",
    "            train_accuracy = accuracy.eval(feed_dict={x: inputOsu[order[i:i+step_size],:], y_: outputOsu2[order[i:i+step_size],:], keep_prob: 1.0})\n",
    "#             print(\"step %d, training accuracy %g\" %(i, train_accuracy))\n",
    "            train_step.run(feed_dict={x: inputOsu[order[i:i+step_size],:], y_: outputOsu2[order[i:i+step_size],:], keep_prob: 0.5})\n",
    "\n",
    "    print(\"test accuracy %g\"%accuracy.eval(feed_dict={x: inputOsu[-1000:,:], y_: outputOsu2[-1000:,:], keep_prob: 1.0}))\n",
    "    \n"
   ]
  },
  {
   "cell_type": "code",
   "execution_count": 18,
   "metadata": {
    "collapsed": true
   },
   "outputs": [],
   "source": [
    "save_path = saver.save(sess, \"D:/OSU/results/save/\",global_step=n)"
   ]
  },
  {
   "cell_type": "code",
   "execution_count": null,
   "metadata": {
    "collapsed": true
   },
   "outputs": [],
   "source": []
  },
  {
   "cell_type": "code",
   "execution_count": 24,
   "metadata": {
    "scrolled": false
   },
   "outputs": [
    {
     "name": "stdout",
     "output_type": "stream",
     "text": [
      "[[ 0.4316524   0.56834763]\n",
      " [ 0.41786435  0.58213568]\n",
      " [ 0.42569691  0.57430303]\n",
      " [ 0.42212614  0.57787389]\n",
      " [ 0.43039972  0.56960028]\n",
      " [ 0.43551949  0.56448048]\n",
      " [ 0.42768943  0.57231057]\n",
      " [ 0.43033883  0.56966126]\n",
      " [ 0.44123095  0.55876899]\n",
      " [ 0.43161657  0.5683834 ]]\n",
      "test accuracy 0.462\n"
     ]
    }
   ],
   "source": [
    "print(y_conv.eval(feed_dict={x: inputOsu[200:210:1,:], keep_prob: 1.0}))\n",
    "print (\"test accuracy %g\"%accuracy.eval(feed_dict={\n",
    "  x: inputOsu[-500:,:], y_: outputOsu2[-500:,:], keep_prob: 1.0}))"
   ]
  },
  {
   "cell_type": "code",
   "execution_count": 25,
   "metadata": {},
   "outputs": [
    {
     "name": "stdout",
     "output_type": "stream",
     "text": [
      "test accuracy 0.332\n"
     ]
    }
   ],
   "source": [
    "# Save the output of new maps \n",
    "\n",
    "dataList=os.listdir('D:/OSU/SongMat/Create/')\n",
    "# inputOsuNew=np.empty([0,128*128]);\n",
    "for i in range(np.size(dataList)):\n",
    "    if dataList[i][0]!='y' and dataList[i][0]!='y2':\n",
    "        data=sio.loadmat('D:/OSU/SongMat/Create/'+dataList[i])\n",
    "        inputOsuNew=data['input'].reshape(-1,128*128)\n",
    "        outputOsu2New=data['target'].reshape(-1,2)\n",
    "        if inputOsuNew.shape[0]>1500:\n",
    "            print (\"test accuracy %g\"%accuracy.eval(feed_dict={x: inputOsuNew[-500:,:], y_: outputOsu2New[-500:,:], keep_prob: 1.0}))\n",
    "            y_result=y_conv.eval(feed_dict={x: inputOsuNew[:1500,:], keep_prob: 1.0})\n",
    "        else:\n",
    "            print (\"test accuracy %g\"%accuracy.eval(feed_dict={x: inputOsuNew[-500:,:], y_: outputOsu2New[-500:,:], keep_prob: 1.0}))\n",
    "            y_result=y_conv.eval(feed_dict={x: inputOsuNew[:,:], keep_prob: 1.0})\n",
    "        data_save={'y2':y_result}\n",
    "        sio.savemat('D:/OSU/SongMat/Create/y2_'+dataList[i],data_save)\n"
   ]
  },
  {
   "cell_type": "code",
   "execution_count": null,
   "metadata": {
    "collapsed": true
   },
   "outputs": [],
   "source": []
  },
  {
   "cell_type": "code",
   "execution_count": null,
   "metadata": {
    "collapsed": true
   },
   "outputs": [],
   "source": []
  },
  {
   "cell_type": "code",
   "execution_count": 35,
   "metadata": {
    "scrolled": false
   },
   "outputs": [
    {
     "data": {
      "text/plain": [
       "array([[ 0.40739161,  0.10473893,  0.32144737,  0.16642208],\n",
       "       [ 0.2198986 ,  0.14390311,  0.15379874,  0.48239955],\n",
       "       [ 0.46475405,  0.24176331,  0.11542311,  0.1780595 ],\n",
       "       ..., \n",
       "       [ 0.0570819 ,  0.05058763,  0.02573004,  0.86660039],\n",
       "       [ 0.39749449,  0.087804  ,  0.24687061,  0.26783079],\n",
       "       [ 0.14267607,  0.01611047,  0.08940741,  0.75180602]], dtype=float32)"
      ]
     },
     "execution_count": 35,
     "metadata": {},
     "output_type": "execute_result"
    }
   ],
   "source": [
    "y_result"
   ]
  },
  {
   "cell_type": "code",
   "execution_count": null,
   "metadata": {
    "collapsed": true
   },
   "outputs": [],
   "source": [
    "data_save={'y':y_result}\n",
    "sio.savemat('D:/OSU/results/innocence/y_innocence.mat',data_save)"
   ]
  },
  {
   "cell_type": "code",
   "execution_count": null,
   "metadata": {
    "collapsed": true
   },
   "outputs": [],
   "source": []
  },
  {
   "cell_type": "code",
   "execution_count": null,
   "metadata": {
    "collapsed": true
   },
   "outputs": [],
   "source": []
  },
  {
   "cell_type": "code",
   "execution_count": null,
   "metadata": {
    "collapsed": true
   },
   "outputs": [],
   "source": []
  },
  {
   "cell_type": "code",
   "execution_count": null,
   "metadata": {
    "collapsed": true
   },
   "outputs": [],
   "source": [
    "checkpoint_dir='D:/OSU/results/innocence/save/'\n",
    "ckpt = tf.train.get_checkpoint_state(checkpoint_dir)  \n",
    "saver.restore(sess, ckpt.model_checkpoint_path)  "
   ]
  },
  {
   "cell_type": "code",
   "execution_count": null,
   "metadata": {
    "collapsed": true
   },
   "outputs": [],
   "source": [
    "saver2 = tf.train.Saver()"
   ]
  },
  {
   "cell_type": "code",
   "execution_count": null,
   "metadata": {
    "collapsed": true
   },
   "outputs": [],
   "source": [
    "checkpoint_dir='/Users/dongqihan/Desktop/FrOstNova/save/'\n",
    "ckpt = tf.train.get_checkpoint_state(checkpoint_dir)  \n",
    "saver2.restore(sess, ckpt.model_checkpoint_path)  "
   ]
  },
  {
   "cell_type": "code",
   "execution_count": null,
   "metadata": {
    "collapsed": true
   },
   "outputs": [],
   "source": []
  },
  {
   "cell_type": "code",
   "execution_count": null,
   "metadata": {
    "collapsed": true
   },
   "outputs": [],
   "source": [
    "a = tf.constant([1.0, 2.0, 3.0, 4.0, 5.0, 6.0], shape=[2, 3], name='a')\n",
    "b = tf.constant([1.0, 2.0, 3.0, 4.0, 5.0, 6.0], shape=[3, 2], name='b')\n",
    "c = tf.matmul(a, b)\n",
    "# Creates a session with log_device_placement set to True.\n",
    "sess_tmp = tf.Session(config=tf.ConfigProto(log_device_placement=True))\n",
    "# Runs the op.\n",
    "print(sess_tmp.run(c))"
   ]
  },
  {
   "cell_type": "code",
   "execution_count": null,
   "metadata": {
    "collapsed": true
   },
   "outputs": [],
   "source": [
    "data_test=sio.loadmat('/Users/dongqihan/Desktop/FrOstNova/granat.mat')\n",
    "inputOsu_test=data_test['input'].reshape(-1,128*128)\n",
    "y_result_test=y_conv.eval(feed_dict={x: inputOsu_test, keep_prob: 1.0})\n",
    "data={'y':y_result_test}\n",
    "sio.savemat('/Users/dongqihan/Desktop/FrOstNova/y_memory2granat.mat',data)"
   ]
  }
 ],
 "metadata": {
  "kernelspec": {
   "display_name": "Python 3",
   "language": "python",
   "name": "python3"
  },
  "language_info": {
   "codemirror_mode": {
    "name": "ipython",
    "version": 3
   },
   "file_extension": ".py",
   "mimetype": "text/x-python",
   "name": "python",
   "nbconvert_exporter": "python",
   "pygments_lexer": "ipython3",
   "version": "3.5.4"
  }
 },
 "nbformat": 4,
 "nbformat_minor": 2
}
