{
 "cells": [
  {
   "cell_type": "code",
   "execution_count": 13,
   "metadata": {
    "collapsed": true
   },
   "outputs": [],
   "source": [
    "import tensorflow as tf\n",
    "import scipy.io as sio\n",
    "sess = tf.InteractiveSession()\n",
    "import os\n",
    "import numpy as np"
   ]
  },
  {
   "cell_type": "code",
   "execution_count": 14,
   "metadata": {
    "collapsed": true
   },
   "outputs": [],
   "source": [
    "# Define functions\n",
    "\n",
    "def conv2d(x, W, dy ,dx):\n",
    "  return tf.nn.conv2d(x, W, strides=[1, dx, dy, 1], padding='SAME')\n",
    "\n",
    "def max_pool_axb(x,a,b):\n",
    "  return tf.nn.max_pool(x, ksize=[1, a, b, 1],\n",
    "                        strides=[1, a, b, 1], padding='SAME')\n",
    "\n",
    "def weight_variable(shape):\n",
    "  initial = tf.truncated_normal(shape, stddev=0.1)\n",
    "  return tf.Variable(initial)\n",
    "\n",
    "def bias_variable(shape):\n",
    "  initial = tf.constant(0.1, shape=shape)\n",
    "  return tf.Variable(initial)"
   ]
  },
  {
   "cell_type": "code",
   "execution_count": 8,
   "metadata": {
    "collapsed": true
   },
   "outputs": [],
   "source": [
    "# # Define the parameters of the network\n",
    "\n",
    "\n",
    "# nx_conv1=4      # filter_width\n",
    "# my_conv1=32     # filter_height\n",
    "# dnx_conv1=1     # stride_width\n",
    "# dmy_conv1=8     # stride_height\n",
    "\n",
    "# nx_pool1=2      # pooling width\n",
    "# my_pool1=2      # pooling height\n",
    "\n",
    "# channels_conv1=12    # channels num\n",
    "\n",
    "# nx_conv2=16\n",
    "# my_conv2=2\n",
    "# dnx_conv2=8\n",
    "# dmy_conv2=1\n",
    "\n",
    "# nx_pool2=2\n",
    "# my_pool2=2\n",
    "\n",
    "\n",
    "# channels_conv2=2\n",
    "\n",
    "# size_input_fc1=int(128*128/dnx_conv1/dmy_conv1/dnx_conv2/dmy_conv2)*channels_conv2\n",
    "# num_neurons_fc1=1024\n"
   ]
  },
  {
   "cell_type": "code",
   "execution_count": 15,
   "metadata": {},
   "outputs": [
    {
     "name": "stdout",
     "output_type": "stream",
     "text": [
      "32\n"
     ]
    }
   ],
   "source": [
    "# Define the parameters of the network\n",
    "\n",
    "nx_conv1=16      # filter_width\n",
    "my_conv1=4   # filter_height\n",
    "dnx_conv1=4    # stride_width\n",
    "dmy_conv1=1    # stride_height\n",
    "\n",
    "nx_pool1=4      # pooling width\n",
    "my_pool1=4      # pooling height\n",
    "\n",
    "channels_conv1=32    # channels num\n",
    "\n",
    "nx_conv2=2\n",
    "my_conv2=16\n",
    "dnx_conv2=1\n",
    "dmy_conv2=8\n",
    "\n",
    "nx_pool2=2\n",
    "my_pool2=2\n",
    "\n",
    "\n",
    "channels_conv2=4\n",
    "\n",
    "size_input_fc1=int(128*128*channels_conv2/dnx_conv1/dmy_conv1/dnx_conv2/dmy_conv2/nx_pool1/my_pool1/nx_pool2/my_pool2)\n",
    "num_neurons_fc1=32\n",
    "\n",
    "print(size_input_fc1)\n"
   ]
  },
  {
   "cell_type": "code",
   "execution_count": 11,
   "metadata": {
    "collapsed": true
   },
   "outputs": [],
   "source": []
  },
  {
   "cell_type": "code",
   "execution_count": null,
   "metadata": {
    "collapsed": true,
    "scrolled": true
   },
   "outputs": [],
   "source": []
  },
  {
   "cell_type": "code",
   "execution_count": null,
   "metadata": {
    "collapsed": true
   },
   "outputs": [],
   "source": []
  },
  {
   "cell_type": "code",
   "execution_count": null,
   "metadata": {
    "collapsed": true
   },
   "outputs": [],
   "source": [
    "# x = tf.placeholder(\"float\", shape=[None, 128*128])\n",
    "# y_ = tf.placeholder(\"float\", shape=[None, 4])\n",
    "\n",
    "\n",
    "# x_image = tf.reshape(x, [-1,128,128,1])\n",
    "\n",
    "# W_conv1 = weight_variable([nx_conv1,my_conv1,1,channels_conv1])\n",
    "# b_conv1 = bias_variable([channels_conv1])\n",
    "\n",
    "\n",
    "# h_conv1 = tf.nn.relu(conv2d(x_image, W_conv1, dnx_conv1, dmy_conv1 ) + b_conv1)\n",
    "# h_pool1 = max_pool_axb(h_conv1, nx_pool1, my_pool1)\n",
    "\n",
    "\n",
    "# W_conv2 = weight_variable([nx_conv2,my_conv2, channels_conv1, channels_conv2])\n",
    "# b_conv2 = bias_variable([channels_conv2])\n",
    "\n",
    "# h_conv2 = tf.nn.relu(conv2d(h_pool1, W_conv2, dnx_conv2, dmy_conv2 ) + b_conv2)\n",
    "# h_pool2 = max_pool_axb(h_conv2, nx_pool2, my_pool2)\n",
    "\n",
    "\n",
    "\n",
    "# W_fc1 = weight_variable([size_input_fc1, num_neurons_fc1])\n",
    "# b_fc1 = bias_variable([num_neurons_fc1])\n",
    "\n",
    "# h_pool2_flat = tf.reshape(h_pool2, [-1, size_input_fc1])\n",
    "# h_fc1 = tf.nn.relu(tf.matmul(h_pool2_flat, W_fc1) + b_fc1)\n",
    "\n",
    "\n",
    "# W_fc2 = weight_variable([num_neurons_fc1, 4])\n",
    "# b_fc2 = bias_variable([4])\n",
    "\n",
    "\n",
    "\n",
    "# keep_prob = tf.placeholder(\"float\")\n",
    "# h_fc1_drop = tf.nn.dropout(h_fc1, keep_prob)\n",
    "\n",
    "# y_conv=tf.nn.softmax(tf.matmul(h_fc1_drop, W_fc2) + b_fc2)\n",
    "\n",
    "\n",
    "\n",
    "# cross_entropy = -tf.reduce_sum(y_*tf.log(y_conv))\n",
    "# train_step = tf.train.AdamOptimizer(1e-4).minimize(cross_entropy)\n",
    "# correct_prediction = tf.equal(tf.argmax(y_conv,1), tf.argmax(y_,1))\n",
    "# accuracy = tf.reduce_mean(tf.cast(correct_prediction, \"float\"))\n"
   ]
  },
  {
   "cell_type": "code",
   "execution_count": 16,
   "metadata": {
    "collapsed": true
   },
   "outputs": [],
   "source": [
    "x = tf.placeholder(\"float\", shape=[None, 128*128])\n",
    "y_ = tf.placeholder(\"float\", shape=[None, 2])\n",
    "\n",
    "\n",
    "x_image = tf.reshape(x, [-1,128,128,1])\n",
    "\n",
    "W_conv1 = weight_variable([nx_conv1,my_conv1,1,channels_conv1])\n",
    "b_conv1 = bias_variable([channels_conv1])\n",
    "\n",
    "\n",
    "h_conv1 = tf.nn.relu(conv2d(x_image, W_conv1, dnx_conv1, dmy_conv1 ) )\n",
    "h_pool1 = max_pool_axb(h_conv1, nx_pool1, my_pool1)\n",
    "\n",
    "\n",
    "W_conv2 = weight_variable([nx_conv2,my_conv2, channels_conv1, channels_conv2])\n",
    "b_conv2 = bias_variable([channels_conv2])\n",
    "\n",
    "h_conv2 = tf.nn.relu(conv2d(h_pool1, W_conv2, dnx_conv2, dmy_conv2 ) )\n",
    "h_pool2 = max_pool_axb(h_conv2, nx_pool2, my_pool2)\n",
    "\n",
    "\n",
    "\n",
    "W_fc1 = weight_variable([size_input_fc1, num_neurons_fc1])\n",
    "b_fc1 = bias_variable([num_neurons_fc1])\n",
    "\n",
    "h_pool2_flat = tf.reshape(h_pool2, [-1, size_input_fc1])\n",
    "h_fc1 = tf.nn.relu(tf.matmul(h_pool2_flat, W_fc1) )\n",
    "\n",
    "\n",
    "W_fc2 = weight_variable([num_neurons_fc1, 2])\n",
    "b_fc2 = bias_variable([2])\n",
    "\n",
    "\n",
    "\n",
    "keep_prob = tf.placeholder(\"float\")\n",
    "h_fc1_drop = tf.nn.dropout(h_fc1, keep_prob)\n",
    "\n",
    "y_conv=tf.nn.softmax(tf.matmul(h_fc1_drop, W_fc2))\n",
    "\n",
    "\n",
    "\n",
    "cross_entropy = -tf.reduce_sum(y_*tf.log(y_conv))\n",
    "train_step = tf.train.AdamOptimizer(1e-4).minimize(cross_entropy)\n",
    "correct_prediction = tf.equal(tf.argmax(y_conv,1), tf.argmax(y_,1))\n",
    "accuracy = tf.reduce_mean(tf.cast(correct_prediction, \"float\"))\n"
   ]
  },
  {
   "cell_type": "code",
   "execution_count": null,
   "metadata": {
    "collapsed": true
   },
   "outputs": [],
   "source": []
  },
  {
   "cell_type": "code",
   "execution_count": null,
   "metadata": {
    "collapsed": true
   },
   "outputs": [],
   "source": []
  },
  {
   "cell_type": "code",
   "execution_count": null,
   "metadata": {
    "collapsed": true
   },
   "outputs": [],
   "source": []
  },
  {
   "cell_type": "code",
   "execution_count": null,
   "metadata": {
    "collapsed": true
   },
   "outputs": [],
   "source": []
  },
  {
   "cell_type": "code",
   "execution_count": null,
   "metadata": {
    "collapsed": true
   },
   "outputs": [],
   "source": []
  },
  {
   "cell_type": "code",
   "execution_count": null,
   "metadata": {},
   "outputs": [],
   "source": []
  },
  {
   "cell_type": "code",
   "execution_count": 12,
   "metadata": {
    "collapsed": true
   },
   "outputs": [],
   "source": [
    "#sess.run(tf.initialize_all_variables())  \n"
   ]
  },
  {
   "cell_type": "code",
   "execution_count": 22,
   "metadata": {
    "collapsed": true
   },
   "outputs": [],
   "source": [
    "sess.run(tf.global_variables_initializer())"
   ]
  },
  {
   "cell_type": "code",
   "execution_count": 23,
   "metadata": {
    "collapsed": true,
    "scrolled": false
   },
   "outputs": [],
   "source": [
    "saver = tf.train.Saver()\n"
   ]
  },
  {
   "cell_type": "code",
   "execution_count": 24,
   "metadata": {
    "scrolled": false
   },
   "outputs": [
    {
     "name": "stdout",
     "output_type": "stream",
     "text": [
      "21473\n",
      "test accuracy 0.613333\n",
      "[[ 0.51207566  0.4879244 ]\n",
      " [ 0.50582862  0.49417141]\n",
      " [ 0.50714159  0.49285844]\n",
      " [ 0.50660145  0.49339858]\n",
      " [ 0.50785035  0.49214965]\n",
      " [ 0.50803745  0.49196249]\n",
      " [ 0.50596058  0.49403945]\n",
      " [ 0.49745485  0.50254518]\n",
      " [ 0.50076085  0.49923906]\n",
      " [ 0.50665516  0.49334487]]\n",
      "14849\n",
      "test accuracy 0.533333\n",
      "[[ 0.51046181  0.48953816]\n",
      " [ 0.50806701  0.49193299]\n",
      " [ 0.49822009  0.50177985]\n",
      " [ 0.49679643  0.50320351]\n",
      " [ 0.50268722  0.49731281]\n",
      " [ 0.49561313  0.5043869 ]\n",
      " [ 0.50030261  0.49969745]\n",
      " [ 0.49768063  0.50231934]\n",
      " [ 0.49618673  0.50381321]\n",
      " [ 0.49380678  0.50619322]]\n",
      "12026\n",
      "test accuracy 0.573333\n",
      "[[ 0.50774187  0.49225804]\n",
      " [ 0.50266242  0.49733767]\n",
      " [ 0.50942314  0.49057677]\n",
      " [ 0.52602309  0.47397694]\n",
      " [ 0.51745319  0.48254672]\n",
      " [ 0.51773477  0.48226529]\n",
      " [ 0.50532466  0.49467534]\n",
      " [ 0.49887717  0.50112283]\n",
      " [ 0.49915847  0.5008415 ]\n",
      " [ 0.49734777  0.50265223]]\n",
      "11503\n",
      "test accuracy 0.48\n",
      "[[ 0.5  0.5]\n",
      " [ 0.5  0.5]\n",
      " [ 0.5  0.5]\n",
      " [ 0.5  0.5]\n",
      " [ 0.5  0.5]\n",
      " [ 0.5  0.5]\n",
      " [ 0.5  0.5]\n",
      " [ 0.5  0.5]\n",
      " [ 0.5  0.5]\n",
      " [ 0.5  0.5]]\n"
     ]
    },
    {
     "ename": "KeyboardInterrupt",
     "evalue": "",
     "output_type": "error",
     "traceback": [
      "\u001b[1;31m---------------------------------------------------------------------------\u001b[0m",
      "\u001b[1;31mKeyboardInterrupt\u001b[0m                         Traceback (most recent call last)",
      "\u001b[1;32m<ipython-input-24-bb49d05b704a>\u001b[0m in \u001b[0;36m<module>\u001b[1;34m()\u001b[0m\n\u001b[0;32m     13\u001b[0m \u001b[1;33m\u001b[0m\u001b[0m\n\u001b[0;32m     14\u001b[0m         \u001b[0mdata\u001b[0m\u001b[1;33m=\u001b[0m\u001b[0msio\u001b[0m\u001b[1;33m.\u001b[0m\u001b[0mloadmat\u001b[0m\u001b[1;33m(\u001b[0m\u001b[1;34m'D:/OSU/SongMat/Train/'\u001b[0m\u001b[1;33m+\u001b[0m\u001b[0mdataList\u001b[0m\u001b[1;33m[\u001b[0m\u001b[0mk\u001b[0m\u001b[1;33m]\u001b[0m\u001b[1;33m)\u001b[0m\u001b[1;33m\u001b[0m\u001b[0m\n\u001b[1;32m---> 15\u001b[1;33m         \u001b[0minputOsu\u001b[0m\u001b[1;33m=\u001b[0m\u001b[0mnp\u001b[0m\u001b[1;33m.\u001b[0m\u001b[0mappend\u001b[0m\u001b[1;33m(\u001b[0m\u001b[0minputOsu\u001b[0m\u001b[1;33m,\u001b[0m\u001b[0mdata\u001b[0m\u001b[1;33m[\u001b[0m\u001b[1;34m'input1'\u001b[0m\u001b[1;33m]\u001b[0m\u001b[1;33m.\u001b[0m\u001b[0mreshape\u001b[0m\u001b[1;33m(\u001b[0m\u001b[1;33m-\u001b[0m\u001b[1;36m1\u001b[0m\u001b[1;33m,\u001b[0m\u001b[1;36m128\u001b[0m\u001b[1;33m*\u001b[0m\u001b[1;36m128\u001b[0m\u001b[1;33m)\u001b[0m\u001b[1;33m,\u001b[0m\u001b[0maxis\u001b[0m\u001b[1;33m=\u001b[0m\u001b[1;36m0\u001b[0m\u001b[1;33m)\u001b[0m\u001b[1;33m\u001b[0m\u001b[0m\n\u001b[0m\u001b[0;32m     16\u001b[0m         \u001b[0moutputOsu\u001b[0m\u001b[1;33m=\u001b[0m\u001b[0mnp\u001b[0m\u001b[1;33m.\u001b[0m\u001b[0mappend\u001b[0m\u001b[1;33m(\u001b[0m\u001b[0moutputOsu\u001b[0m\u001b[1;33m,\u001b[0m\u001b[0mdata\u001b[0m\u001b[1;33m[\u001b[0m\u001b[1;34m'target1'\u001b[0m\u001b[1;33m]\u001b[0m\u001b[1;33m.\u001b[0m\u001b[0mreshape\u001b[0m\u001b[1;33m(\u001b[0m\u001b[1;33m-\u001b[0m\u001b[1;36m1\u001b[0m\u001b[1;33m,\u001b[0m\u001b[1;36m4\u001b[0m\u001b[1;33m)\u001b[0m\u001b[1;33m,\u001b[0m\u001b[0maxis\u001b[0m\u001b[1;33m=\u001b[0m\u001b[1;36m0\u001b[0m\u001b[1;33m)\u001b[0m\u001b[1;33m\u001b[0m\u001b[0m\n\u001b[0;32m     17\u001b[0m \u001b[1;33m\u001b[0m\u001b[0m\n",
      "\u001b[1;32mC:\\ProgramData\\Anaconda3\\envs\\tf\\lib\\site-packages\\numpy\\lib\\function_base.py\u001b[0m in \u001b[0;36mappend\u001b[1;34m(arr, values, axis)\u001b[0m\n\u001b[0;32m   5145\u001b[0m         \u001b[0mvalues\u001b[0m \u001b[1;33m=\u001b[0m \u001b[0mravel\u001b[0m\u001b[1;33m(\u001b[0m\u001b[0mvalues\u001b[0m\u001b[1;33m)\u001b[0m\u001b[1;33m\u001b[0m\u001b[0m\n\u001b[0;32m   5146\u001b[0m         \u001b[0maxis\u001b[0m \u001b[1;33m=\u001b[0m \u001b[0marr\u001b[0m\u001b[1;33m.\u001b[0m\u001b[0mndim\u001b[0m\u001b[1;33m-\u001b[0m\u001b[1;36m1\u001b[0m\u001b[1;33m\u001b[0m\u001b[0m\n\u001b[1;32m-> 5147\u001b[1;33m     \u001b[1;32mreturn\u001b[0m \u001b[0mconcatenate\u001b[0m\u001b[1;33m(\u001b[0m\u001b[1;33m(\u001b[0m\u001b[0marr\u001b[0m\u001b[1;33m,\u001b[0m \u001b[0mvalues\u001b[0m\u001b[1;33m)\u001b[0m\u001b[1;33m,\u001b[0m \u001b[0maxis\u001b[0m\u001b[1;33m=\u001b[0m\u001b[0maxis\u001b[0m\u001b[1;33m)\u001b[0m\u001b[1;33m\u001b[0m\u001b[0m\n\u001b[0m",
      "\u001b[1;31mKeyboardInterrupt\u001b[0m: "
     ]
    }
   ],
   "source": [
    "step_size=200\n",
    "\n",
    "\n",
    "\n",
    "# Read osu! data\n",
    "\n",
    "dataList=os.listdir('D:/OSU/SongMat/Train/')\n",
    "\n",
    "for n in range(int(np.size(dataList)/10)):\n",
    "    inputOsu=np.empty([0,128*128]);\n",
    "    outputOsu=np.empty([0,4]);\n",
    "    for k in range(n*10,n*10+10):\n",
    "        \n",
    "        data=sio.loadmat('D:/OSU/SongMat/Train/'+dataList[k])\n",
    "        inputOsu=np.append(inputOsu,data['input1'].reshape(-1,128*128),axis=0)\n",
    "        outputOsu=np.append(outputOsu,data['target1'].reshape(-1,4),axis=0)\n",
    "               \n",
    "        outputOsu2=np.zeros([outputOsu.shape[0],2]);\n",
    "        outputOsu2[:,0]=outputOsu[:,0]+outputOsu[:,1]+outputOsu[:,2]\n",
    "        outputOsu2[:,1]=outputOsu[:,3]\n",
    "        \n",
    "    N=inputOsu.shape[0]\n",
    "    print(N)\n",
    "    #shuffle the order\n",
    "    order = np.arange(N-step_size)\n",
    "    np.random.shuffle(order)\n",
    "    \n",
    "    for i in range(N-step_size):\n",
    "        if i%step_size == 0:\n",
    "            train_accuracy = accuracy.eval(feed_dict={x: inputOsu[order[i:i+step_size],:], y_: outputOsu2[order[i:i+step_size],:], keep_prob: 1.0})\n",
    "#             print(\"step %d, training accuracy %g\" %(i, train_accuracy))\n",
    "            train_step.run(feed_dict={x: inputOsu[order[i:i+step_size],:], y_: outputOsu2[order[i:i+step_size],:], keep_prob: 0.7})\n",
    "    \n",
    "    \n",
    "    print(\"test accuracy %g\"%accuracy.eval(feed_dict={x: inputOsu[-300:,:], y_: outputOsu2[-300:,:], keep_prob: 1.0}))\n",
    "    print(y_conv.eval(feed_dict={x: inputOsu[200:210:1,:], keep_prob: 1.0}))\n"
   ]
  },
  {
   "cell_type": "code",
   "execution_count": 8,
   "metadata": {
    "collapsed": true
   },
   "outputs": [],
   "source": [
    "save_path = saver.save(sess, \"D:/OSU/results/save/\",global_step=n)"
   ]
  },
  {
   "cell_type": "code",
   "execution_count": null,
   "metadata": {
    "collapsed": true
   },
   "outputs": [],
   "source": []
  },
  {
   "cell_type": "code",
   "execution_count": 22,
   "metadata": {},
   "outputs": [
    {
     "name": "stdout",
     "output_type": "stream",
     "text": [
      "test accuracy 0.706\n"
     ]
    }
   ],
   "source": [
    "print (\"test accuracy %g\"%accuracy.eval(feed_dict={\n",
    "  x: inputOsu[:500,:], y_: outputOsu[:500,:], keep_prob: 1.0}))"
   ]
  },
  {
   "cell_type": "code",
   "execution_count": 12,
   "metadata": {
    "collapsed": true,
    "scrolled": true
   },
   "outputs": [],
   "source": [
    "# Save the output of new maps \n",
    "\n",
    "dataList=os.listdir('D:/OSU/SongMat/Create/')\n",
    "# inputOsuNew=np.empty([0,128*128]);\n",
    "for i in range(np.size(dataList)):\n",
    "    if dataList[i][0]!='y':\n",
    "        data=sio.loadmat('D:/OSU/SongMat/Create/'+dataList[i])\n",
    "        inputOsuNew=data['input'].reshape(-1,128*128)\n",
    "        if inputOsuNew.shape[0]>2000:\n",
    "            y_result=y_conv.eval(feed_dict={x: inputOsuNew[:2000,:], keep_prob: 1.0})\n",
    "        else:\n",
    "            y_result=y_conv.eval(feed_dict={x: inputOsuNew[:,:], keep_prob: 1.0})\n",
    "        data_save={'y':y_result}\n",
    "        sio.savemat('D:/OSU/SongMat/Create/y_'+dataList[i],data_save)\n",
    "\n"
   ]
  },
  {
   "cell_type": "code",
   "execution_count": 41,
   "metadata": {},
   "outputs": [
    {
     "data": {
      "text/plain": [
       "False"
      ]
     },
     "execution_count": 41,
     "metadata": {},
     "output_type": "execute_result"
    }
   ],
   "source": []
  },
  {
   "cell_type": "code",
   "execution_count": null,
   "metadata": {
    "collapsed": true
   },
   "outputs": [],
   "source": []
  },
  {
   "cell_type": "code",
   "execution_count": 23,
   "metadata": {
    "scrolled": false
   },
   "outputs": [
    {
     "name": "stdout",
     "output_type": "stream",
     "text": [
      "[[ 0.27636129  0.1388714   0.13608062  0.44868666]\n",
      " [ 0.27636129  0.1388714   0.13608062  0.44868666]\n",
      " [ 0.27636129  0.1388714   0.13608062  0.44868666]\n",
      " [ 0.27636129  0.1388714   0.13608062  0.44868666]\n",
      " [ 0.27636129  0.1388714   0.13608062  0.44868666]\n",
      " [ 0.27636129  0.1388714   0.13608062  0.44868666]\n",
      " [ 0.27636129  0.1388714   0.13608062  0.44868666]\n",
      " [ 0.27636129  0.1388714   0.13608062  0.44868666]\n",
      " [ 0.27636129  0.1388714   0.13608062  0.44868666]\n",
      " [ 0.27636129  0.1388714   0.13608062  0.44868666]\n",
      " [ 0.27636129  0.1388714   0.13608062  0.44868666]\n",
      " [ 0.27636129  0.1388714   0.13608062  0.44868666]\n",
      " [ 0.27636129  0.1388714   0.13608062  0.44868666]\n",
      " [ 0.27636129  0.1388714   0.13608062  0.44868666]\n",
      " [ 0.27636129  0.1388714   0.13608062  0.44868666]\n",
      " [ 0.27636129  0.1388714   0.13608062  0.44868666]\n",
      " [ 0.27636129  0.1388714   0.13608062  0.44868666]\n",
      " [ 0.27636129  0.1388714   0.13608062  0.44868666]\n",
      " [ 0.27636129  0.1388714   0.13608062  0.44868666]\n",
      " [ 0.27636129  0.1388714   0.13608062  0.44868666]\n",
      " [ 0.27636129  0.1388714   0.13608062  0.44868666]\n",
      " [ 0.27636129  0.1388714   0.13608062  0.44868666]\n",
      " [ 0.27636129  0.1388714   0.13608062  0.44868666]\n",
      " [ 0.27636129  0.1388714   0.13608062  0.44868666]\n",
      " [ 0.27636129  0.1388714   0.13608062  0.44868666]\n",
      " [ 0.27636129  0.1388714   0.13608062  0.44868666]\n",
      " [ 0.27636129  0.1388714   0.13608062  0.44868666]\n",
      " [ 0.27636129  0.1388714   0.13608062  0.44868666]\n",
      " [ 0.27636129  0.1388714   0.13608062  0.44868666]\n",
      " [ 0.27636129  0.1388714   0.13608062  0.44868666]\n",
      " [ 0.27636129  0.1388714   0.13608062  0.44868666]\n",
      " [ 0.27636129  0.1388714   0.13608062  0.44868666]\n",
      " [ 0.27636129  0.1388714   0.13608062  0.44868666]\n",
      " [ 0.27636129  0.1388714   0.13608062  0.44868666]\n",
      " [ 0.27636129  0.1388714   0.13608062  0.44868666]\n",
      " [ 0.27636129  0.1388714   0.13608062  0.44868666]\n",
      " [ 0.27636129  0.1388714   0.13608062  0.44868666]\n",
      " [ 0.27636129  0.1388714   0.13608062  0.44868666]\n",
      " [ 0.27636129  0.1388714   0.13608062  0.44868666]\n",
      " [ 0.27636129  0.1388714   0.13608062  0.44868666]\n",
      " [ 0.27636129  0.1388714   0.13608062  0.44868666]\n",
      " [ 0.27636129  0.1388714   0.13608062  0.44868666]\n",
      " [ 0.27636129  0.1388714   0.13608062  0.44868666]\n",
      " [ 0.27636129  0.1388714   0.13608062  0.44868666]\n",
      " [ 0.27636129  0.1388714   0.13608062  0.44868666]\n",
      " [ 0.27636129  0.1388714   0.13608062  0.44868666]\n",
      " [ 0.27636129  0.1388714   0.13608062  0.44868666]\n",
      " [ 0.27636129  0.1388714   0.13608062  0.44868666]\n",
      " [ 0.27636129  0.1388714   0.13608062  0.44868666]\n",
      " [ 0.27636129  0.1388714   0.13608062  0.44868666]\n",
      " [ 0.27636129  0.1388714   0.13608062  0.44868666]\n",
      " [ 0.27636129  0.1388714   0.13608062  0.44868666]\n",
      " [ 0.27636129  0.1388714   0.13608062  0.44868666]\n",
      " [ 0.27636129  0.1388714   0.13608062  0.44868666]\n",
      " [ 0.27636129  0.1388714   0.13608062  0.44868666]\n",
      " [ 0.27636129  0.1388714   0.13608062  0.44868666]\n",
      " [ 0.27636129  0.1388714   0.13608062  0.44868666]\n",
      " [ 0.27636129  0.1388714   0.13608062  0.44868666]\n",
      " [ 0.27636129  0.1388714   0.13608062  0.44868666]\n",
      " [ 0.27636129  0.1388714   0.13608062  0.44868666]\n",
      " [ 0.27636129  0.1388714   0.13608062  0.44868666]\n",
      " [ 0.27636129  0.1388714   0.13608062  0.44868666]\n",
      " [ 0.27636129  0.1388714   0.13608062  0.44868666]\n",
      " [ 0.27636129  0.1388714   0.13608062  0.44868666]\n",
      " [ 0.27636129  0.1388714   0.13608062  0.44868666]\n",
      " [ 0.27636129  0.1388714   0.13608062  0.44868666]\n",
      " [ 0.27636129  0.1388714   0.13608062  0.44868666]\n",
      " [ 0.27636129  0.1388714   0.13608062  0.44868666]\n",
      " [ 0.27636129  0.1388714   0.13608062  0.44868666]\n",
      " [ 0.27636129  0.1388714   0.13608062  0.44868666]\n",
      " [ 0.27636129  0.1388714   0.13608062  0.44868666]\n",
      " [ 0.27636129  0.1388714   0.13608062  0.44868666]\n",
      " [ 0.27636129  0.1388714   0.13608062  0.44868666]\n",
      " [ 0.27636129  0.1388714   0.13608062  0.44868666]\n",
      " [ 0.27636129  0.1388714   0.13608062  0.44868666]\n",
      " [ 0.27636129  0.1388714   0.13608062  0.44868666]\n",
      " [ 0.27636129  0.1388714   0.13608062  0.44868666]\n",
      " [ 0.27636129  0.1388714   0.13608062  0.44868666]\n",
      " [ 0.27636129  0.1388714   0.13608062  0.44868666]\n",
      " [ 0.27636129  0.1388714   0.13608062  0.44868666]\n",
      " [ 0.27636129  0.1388714   0.13608062  0.44868666]\n",
      " [ 0.27636129  0.1388714   0.13608062  0.44868666]\n",
      " [ 0.27636129  0.1388714   0.13608062  0.44868666]\n",
      " [ 0.27636129  0.1388714   0.13608062  0.44868666]\n",
      " [ 0.27636129  0.1388714   0.13608062  0.44868666]\n",
      " [ 0.27636129  0.1388714   0.13608062  0.44868666]\n",
      " [ 0.27636129  0.1388714   0.13608062  0.44868666]\n",
      " [ 0.27636129  0.1388714   0.13608062  0.44868666]\n",
      " [ 0.27636129  0.1388714   0.13608062  0.44868666]\n",
      " [ 0.27636129  0.1388714   0.13608062  0.44868666]\n",
      " [ 0.27636129  0.1388714   0.13608062  0.44868666]\n",
      " [ 0.27636129  0.1388714   0.13608062  0.44868666]\n",
      " [ 0.27636129  0.1388714   0.13608062  0.44868666]\n",
      " [ 0.27636129  0.1388714   0.13608062  0.44868666]\n",
      " [ 0.27636129  0.1388714   0.13608062  0.44868666]\n",
      " [ 0.27636129  0.1388714   0.13608062  0.44868666]\n",
      " [ 0.27636129  0.1388714   0.13608062  0.44868666]\n",
      " [ 0.27636129  0.1388714   0.13608062  0.44868666]\n",
      " [ 0.27636129  0.1388714   0.13608062  0.44868666]\n",
      " [ 0.27636129  0.1388714   0.13608062  0.44868666]\n",
      " [ 0.27636129  0.1388714   0.13608062  0.44868666]\n",
      " [ 0.27636129  0.1388714   0.13608062  0.44868666]\n",
      " [ 0.27636129  0.1388714   0.13608062  0.44868666]\n",
      " [ 0.27636129  0.1388714   0.13608062  0.44868666]\n",
      " [ 0.27636129  0.1388714   0.13608062  0.44868666]\n",
      " [ 0.27636129  0.1388714   0.13608062  0.44868666]\n",
      " [ 0.27636129  0.1388714   0.13608062  0.44868666]\n",
      " [ 0.27636129  0.1388714   0.13608062  0.44868666]\n",
      " [ 0.27636129  0.1388714   0.13608062  0.44868666]\n",
      " [ 0.27636129  0.1388714   0.13608062  0.44868666]\n",
      " [ 0.27636129  0.1388714   0.13608062  0.44868666]\n",
      " [ 0.27636129  0.1388714   0.13608062  0.44868666]\n",
      " [ 0.27636129  0.1388714   0.13608062  0.44868666]\n",
      " [ 0.27636129  0.1388714   0.13608062  0.44868666]\n",
      " [ 0.27636129  0.1388714   0.13608062  0.44868666]\n",
      " [ 0.27636129  0.1388714   0.13608062  0.44868666]\n",
      " [ 0.27636129  0.1388714   0.13608062  0.44868666]\n",
      " [ 0.27636129  0.1388714   0.13608062  0.44868666]\n",
      " [ 0.27636129  0.1388714   0.13608062  0.44868666]\n",
      " [ 0.27636129  0.1388714   0.13608062  0.44868666]\n",
      " [ 0.27636129  0.1388714   0.13608062  0.44868666]\n",
      " [ 0.27636129  0.1388714   0.13608062  0.44868666]\n",
      " [ 0.27636129  0.1388714   0.13608062  0.44868666]\n",
      " [ 0.27636129  0.1388714   0.13608062  0.44868666]\n",
      " [ 0.27636129  0.1388714   0.13608062  0.44868666]\n",
      " [ 0.27636129  0.1388714   0.13608062  0.44868666]\n",
      " [ 0.27636129  0.1388714   0.13608062  0.44868666]\n",
      " [ 0.27636129  0.1388714   0.13608062  0.44868666]\n",
      " [ 0.27636129  0.1388714   0.13608062  0.44868666]\n",
      " [ 0.27636129  0.1388714   0.13608062  0.44868666]\n",
      " [ 0.27636129  0.1388714   0.13608062  0.44868666]\n",
      " [ 0.27636129  0.1388714   0.13608062  0.44868666]\n",
      " [ 0.27636129  0.1388714   0.13608062  0.44868666]\n",
      " [ 0.27636129  0.1388714   0.13608062  0.44868666]\n",
      " [ 0.27636129  0.1388714   0.13608062  0.44868666]\n",
      " [ 0.27636129  0.1388714   0.13608062  0.44868666]\n",
      " [ 0.27636129  0.1388714   0.13608062  0.44868666]\n",
      " [ 0.27636129  0.1388714   0.13608062  0.44868666]\n",
      " [ 0.27636129  0.1388714   0.13608062  0.44868666]\n",
      " [ 0.27636129  0.1388714   0.13608062  0.44868666]\n",
      " [ 0.27636129  0.1388714   0.13608062  0.44868666]\n",
      " [ 0.27636129  0.1388714   0.13608062  0.44868666]\n",
      " [ 0.27636129  0.1388714   0.13608062  0.44868666]\n",
      " [ 0.27636129  0.1388714   0.13608062  0.44868666]\n",
      " [ 0.27636129  0.1388714   0.13608062  0.44868666]\n",
      " [ 0.27636129  0.1388714   0.13608062  0.44868666]\n",
      " [ 0.27636129  0.1388714   0.13608062  0.44868666]\n",
      " [ 0.27636129  0.1388714   0.13608062  0.44868666]\n",
      " [ 0.27636129  0.1388714   0.13608062  0.44868666]\n",
      " [ 0.27636129  0.1388714   0.13608062  0.44868666]\n",
      " [ 0.27636129  0.1388714   0.13608062  0.44868666]\n",
      " [ 0.27636129  0.1388714   0.13608062  0.44868666]\n",
      " [ 0.27636129  0.1388714   0.13608062  0.44868666]\n",
      " [ 0.27636129  0.1388714   0.13608062  0.44868666]\n",
      " [ 0.27636129  0.1388714   0.13608062  0.44868666]\n",
      " [ 0.27636129  0.1388714   0.13608062  0.44868666]\n",
      " [ 0.27636129  0.1388714   0.13608062  0.44868666]\n",
      " [ 0.27636129  0.1388714   0.13608062  0.44868666]\n",
      " [ 0.27636129  0.1388714   0.13608062  0.44868666]\n",
      " [ 0.27636129  0.1388714   0.13608062  0.44868666]\n",
      " [ 0.27636129  0.1388714   0.13608062  0.44868666]\n",
      " [ 0.27636129  0.1388714   0.13608062  0.44868666]\n",
      " [ 0.27636129  0.1388714   0.13608062  0.44868666]\n",
      " [ 0.27636129  0.1388714   0.13608062  0.44868666]\n",
      " [ 0.27636129  0.1388714   0.13608062  0.44868666]\n",
      " [ 0.27636129  0.1388714   0.13608062  0.44868666]\n",
      " [ 0.27636129  0.1388714   0.13608062  0.44868666]\n",
      " [ 0.27636129  0.1388714   0.13608062  0.44868666]\n",
      " [ 0.27636129  0.1388714   0.13608062  0.44868666]\n",
      " [ 0.27636129  0.1388714   0.13608062  0.44868666]\n",
      " [ 0.27636129  0.1388714   0.13608062  0.44868666]\n",
      " [ 0.27636129  0.1388714   0.13608062  0.44868666]\n",
      " [ 0.27636129  0.1388714   0.13608062  0.44868666]\n",
      " [ 0.27636129  0.1388714   0.13608062  0.44868666]\n",
      " [ 0.27636129  0.1388714   0.13608062  0.44868666]\n",
      " [ 0.27636129  0.1388714   0.13608062  0.44868666]\n",
      " [ 0.27636129  0.1388714   0.13608062  0.44868666]\n",
      " [ 0.27636129  0.1388714   0.13608062  0.44868666]\n",
      " [ 0.27636129  0.1388714   0.13608062  0.44868666]\n",
      " [ 0.27636129  0.1388714   0.13608062  0.44868666]\n",
      " [ 0.27636129  0.1388714   0.13608062  0.44868666]\n",
      " [ 0.27636129  0.1388714   0.13608062  0.44868666]\n",
      " [ 0.27636129  0.1388714   0.13608062  0.44868666]\n",
      " [ 0.27636129  0.1388714   0.13608062  0.44868666]\n",
      " [ 0.27636129  0.1388714   0.13608062  0.44868666]\n",
      " [ 0.27636129  0.1388714   0.13608062  0.44868666]\n",
      " [ 0.27636129  0.1388714   0.13608062  0.44868666]\n",
      " [ 0.27636129  0.1388714   0.13608062  0.44868666]\n",
      " [ 0.27636129  0.1388714   0.13608062  0.44868666]\n",
      " [ 0.27636129  0.1388714   0.13608062  0.44868666]\n",
      " [ 0.27636129  0.1388714   0.13608062  0.44868666]\n",
      " [ 0.27636129  0.1388714   0.13608062  0.44868666]\n",
      " [ 0.27636129  0.1388714   0.13608062  0.44868666]\n",
      " [ 0.27636129  0.1388714   0.13608062  0.44868666]\n",
      " [ 0.27636129  0.1388714   0.13608062  0.44868666]\n",
      " [ 0.27636129  0.1388714   0.13608062  0.44868666]\n",
      " [ 0.27636129  0.1388714   0.13608062  0.44868666]\n",
      " [ 0.27636129  0.1388714   0.13608062  0.44868666]\n",
      " [ 0.27636129  0.1388714   0.13608062  0.44868666]\n",
      " [ 0.27636129  0.1388714   0.13608062  0.44868666]]\n"
     ]
    }
   ],
   "source": [
    "print(y_conv.eval(feed_dict={x: inputOsu[:200,:], keep_prob: 1.0}))"
   ]
  },
  {
   "cell_type": "code",
   "execution_count": null,
   "metadata": {
    "collapsed": true
   },
   "outputs": [],
   "source": [
    "data_save={'y':y_result}\n",
    "sio.savemat('D:/OSU/results/innocence/y_innocence.mat',data_save)"
   ]
  },
  {
   "cell_type": "code",
   "execution_count": null,
   "metadata": {
    "collapsed": true
   },
   "outputs": [],
   "source": []
  },
  {
   "cell_type": "code",
   "execution_count": null,
   "metadata": {
    "collapsed": true
   },
   "outputs": [],
   "source": []
  },
  {
   "cell_type": "code",
   "execution_count": null,
   "metadata": {
    "collapsed": true
   },
   "outputs": [],
   "source": []
  },
  {
   "cell_type": "code",
   "execution_count": null,
   "metadata": {
    "collapsed": true
   },
   "outputs": [],
   "source": [
    "checkpoint_dir='D:/OSU/results/innocence/save/'\n",
    "ckpt = tf.train.get_checkpoint_state(checkpoint_dir)  \n",
    "saver.restore(sess, ckpt.model_checkpoint_path)  "
   ]
  },
  {
   "cell_type": "code",
   "execution_count": null,
   "metadata": {
    "collapsed": true
   },
   "outputs": [],
   "source": [
    "saver2 = tf.train.Saver()"
   ]
  },
  {
   "cell_type": "code",
   "execution_count": null,
   "metadata": {
    "collapsed": true
   },
   "outputs": [],
   "source": [
    "checkpoint_dir='/Users/dongqihan/Desktop/FrOstNova/save/'\n",
    "ckpt = tf.train.get_checkpoint_state(checkpoint_dir)  \n",
    "saver2.restore(sess, ckpt.model_checkpoint_path)  "
   ]
  },
  {
   "cell_type": "code",
   "execution_count": null,
   "metadata": {
    "collapsed": true
   },
   "outputs": [],
   "source": []
  },
  {
   "cell_type": "code",
   "execution_count": null,
   "metadata": {
    "collapsed": true
   },
   "outputs": [],
   "source": [
    "a = tf.constant([1.0, 2.0, 3.0, 4.0, 5.0, 6.0], shape=[2, 3], name='a')\n",
    "b = tf.constant([1.0, 2.0, 3.0, 4.0, 5.0, 6.0], shape=[3, 2], name='b')\n",
    "c = tf.matmul(a, b)\n",
    "# Creates a session with log_device_placement set to True.\n",
    "sess_tmp = tf.Session(config=tf.ConfigProto(log_device_placement=True))\n",
    "# Runs the op.\n",
    "print(sess_tmp.run(c))"
   ]
  },
  {
   "cell_type": "code",
   "execution_count": null,
   "metadata": {
    "collapsed": true
   },
   "outputs": [],
   "source": [
    "data_test=sio.loadmat('/Users/dongqihan/Desktop/FrOstNova/granat.mat')\n",
    "inputOsu_test=data_test['input'].reshape(-1,128*128)\n",
    "y_result_test=y_conv.eval(feed_dict={x: inputOsu_test, keep_prob: 1.0})\n",
    "data={'y':y_result_test}\n",
    "sio.savemat('/Users/dongqihan/Desktop/FrOstNova/y_memory2granat.mat',data)"
   ]
  }
 ],
 "metadata": {
  "kernelspec": {
   "display_name": "Python 3",
   "language": "python",
   "name": "python3"
  },
  "language_info": {
   "codemirror_mode": {
    "name": "ipython",
    "version": 3
   },
   "file_extension": ".py",
   "mimetype": "text/x-python",
   "name": "python",
   "nbconvert_exporter": "python",
   "pygments_lexer": "ipython3",
   "version": "3.5.4"
  }
 },
 "nbformat": 4,
 "nbformat_minor": 2
}
