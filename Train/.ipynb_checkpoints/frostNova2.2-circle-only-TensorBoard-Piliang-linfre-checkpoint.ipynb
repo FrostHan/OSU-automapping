{
 "cells": [
  {
   "cell_type": "code",
   "execution_count": 1,
   "metadata": {
    "collapsed": true
   },
   "outputs": [],
   "source": [
    "import tensorflow as tf\n",
    "import scipy.io as sio\n",
    "import matplotlib.pyplot as plt\n",
    "sess = tf.InteractiveSession()\n",
    "import os\n",
    "import numpy as np"
   ]
  },
  {
   "cell_type": "code",
   "execution_count": 2,
   "metadata": {
    "collapsed": true
   },
   "outputs": [],
   "source": [
    "# Define functions\n",
    "\n",
    "def conv2d(x, W, dy ,dx):\n",
    "  return tf.nn.conv2d(x, W, strides=[1, dx, dy, 1], padding='SAME')\n",
    "\n",
    "def max_pool_axb(x,a,b):\n",
    "  return tf.nn.max_pool(x, ksize=[1, a, b, 1],\n",
    "                        strides=[1, a, b, 1], padding='SAME')\n",
    "\n",
    "def weight_variable(shape):\n",
    "  initial = tf.truncated_normal(shape, stddev=0.1)\n",
    "  return tf.Variable(initial)\n",
    "\n",
    "def bias_variable(shape):\n",
    "  initial = tf.constant(0.1, shape=shape)\n",
    "  return tf.Variable(initial)"
   ]
  },
  {
   "cell_type": "code",
   "execution_count": null,
   "metadata": {
    "collapsed": true
   },
   "outputs": [],
   "source": []
  },
  {
   "cell_type": "code",
   "execution_count": 3,
   "metadata": {},
   "outputs": [
    {
     "name": "stdout",
     "output_type": "stream",
     "text": [
      "1024\n"
     ]
    }
   ],
   "source": [
    "# Define the parameters of the network\n",
    "\n",
    "#-----------ACC 0.774 *** score 81----------------\n",
    "nx_conv1=16      # filter_width (frequency)\n",
    "my_conv1=4   # filter_height (time)\n",
    "dnx_conv1=4    # stride_width\n",
    "dmy_conv1=1    # stride_height\n",
    "\n",
    "nx_pool1=4      # pooling width\n",
    "my_pool1=1      # pooling height\n",
    "\n",
    "channels_conv1=32    # channels num\n",
    "\n",
    "nx_conv2=2\n",
    "my_conv2=16\n",
    "dnx_conv2=1\n",
    "dmy_conv2=8\n",
    "\n",
    "nx_pool2=2\n",
    "my_pool2=1\n",
    "\n",
    "\n",
    "channels_conv2=16\n",
    "\n",
    "size_input_fc1=int(128*128*channels_conv2/dnx_conv1/dmy_conv1/dnx_conv2/dmy_conv2/nx_pool1/my_pool1/nx_pool2/my_pool2)\n",
    "num_neurons_fc1=64\n",
    "\n",
    "print(size_input_fc1)"
   ]
  },
  {
   "cell_type": "code",
   "execution_count": 4,
   "metadata": {
    "collapsed": true
   },
   "outputs": [],
   "source": [
    "# Define the parameters of the network\n",
    "\n",
    "\n",
    "\n",
    "#-----------ACC 0.774 *** score 81----------------\n",
    "# nx_conv1=16      # filter_width (frequency)\n",
    "# my_conv1=4   # filter_height (time)\n",
    "# dnx_conv1=4    # stride_width\n",
    "# dmy_conv1=1    # stride_height\n",
    "\n",
    "# nx_pool1=4      # pooling width\n",
    "# my_pool1=1      # pooling height\n",
    "\n",
    "# channels_conv1=32    # channels num\n",
    "\n",
    "# nx_conv2=2\n",
    "# my_conv2=16\n",
    "# dnx_conv2=1\n",
    "# dmy_conv2=8\n",
    "\n",
    "# nx_pool2=2\n",
    "# my_pool2=1\n",
    "\n",
    "\n",
    "# channels_conv2=16\n",
    "\n",
    "# size_input_fc1=int(128*128*channels_conv2/dnx_conv1/dmy_conv1/dnx_conv2/dmy_conv2/nx_pool1/my_pool1/nx_pool2/my_pool2)\n",
    "# num_neurons_fc1=64\n",
    "\n",
    "# print(size_input_fc1)\n",
    "\n",
    "#-----------ACC 0.65 *** score 74----------------\n",
    "# nx_conv1=16      # filter_width\n",
    "# my_conv1=4   # filter_height\n",
    "# dnx_conv1=4    # stride_width\n",
    "# dmy_conv1=1    # stride_height\n",
    "\n",
    "# nx_pool1=4      # pooling width\n",
    "# my_pool1=4      # pooling height\n",
    "\n",
    "# channels_conv1=32    # channels num\n",
    "\n",
    "# nx_conv2=2\n",
    "# my_conv2=16\n",
    "# dnx_conv2=1\n",
    "# dmy_conv2=8\n",
    "\n",
    "# nx_pool2=2\n",
    "# my_pool2=2\n",
    "\n",
    "\n",
    "# channels_conv2=4\n",
    "\n",
    "# size_input_fc1=int(128*128*channels_conv2/dnx_conv1/dmy_conv1/dnx_conv2/dmy_conv2/nx_pool1/my_pool1/nx_pool2/my_pool2)\n",
    "# num_neurons_fc1=32\n",
    "\n",
    "# print(size_input_fc1)\n",
    "\n",
    "#--------------ACC 0.64  acore 69--------------\n",
    "# nx_conv1=8      # filter_width\n",
    "# my_conv1=8  # filter_height\n",
    "# dnx_conv1=2    # stride_width\n",
    "# dmy_conv1=2    # stride_height\n",
    "\n",
    "# nx_pool1=2      # pooling width\n",
    "# my_pool1=2      # pooling height\n",
    "\n",
    "# channels_conv1=32    # channels num\n",
    "\n",
    "# nx_conv2=4\n",
    "# my_conv2=4\n",
    "# dnx_conv2=2\n",
    "# dmy_conv2=2\n",
    "\n",
    "# nx_pool2=2\n",
    "# my_pool2=2\n",
    "\n",
    "\n",
    "# channels_conv2=4\n",
    "\n",
    "# size_input_fc1=int(128*128*channels_conv2/dnx_conv1/dmy_conv1/dnx_conv2/dmy_conv2/nx_pool1/my_pool1/nx_pool2/my_pool2)\n",
    "# num_neurons_fc1=32\n",
    "\n",
    "# print(size_input_fc1)\n",
    "\n"
   ]
  },
  {
   "cell_type": "code",
   "execution_count": null,
   "metadata": {
    "collapsed": true
   },
   "outputs": [],
   "source": []
  },
  {
   "cell_type": "code",
   "execution_count": null,
   "metadata": {
    "collapsed": true,
    "scrolled": true
   },
   "outputs": [],
   "source": []
  },
  {
   "cell_type": "code",
   "execution_count": null,
   "metadata": {
    "collapsed": true
   },
   "outputs": [],
   "source": []
  },
  {
   "cell_type": "code",
   "execution_count": null,
   "metadata": {
    "collapsed": true
   },
   "outputs": [],
   "source": []
  },
  {
   "cell_type": "code",
   "execution_count": 26,
   "metadata": {
    "collapsed": true
   },
   "outputs": [],
   "source": [
    "x = tf.placeholder(\"float\", shape=[None, 128*128])\n",
    "y_ = tf.placeholder(\"float\", shape=[None, 2])\n",
    "\n",
    "\n",
    "x_image = tf.reshape(x, [-1,128,128,1])\n",
    "\n",
    "W_conv1 = weight_variable([nx_conv1,my_conv1,1,channels_conv1])\n",
    "b_conv1 = bias_variable([channels_conv1])\n",
    "\n",
    "\n",
    "h_conv1 = tf.nn.relu(conv2d(x_image, W_conv1, dnx_conv1, dmy_conv1 ) + b_conv1)\n",
    "h_pool1 = max_pool_axb(h_conv1, nx_pool1, my_pool1)\n",
    "\n",
    "\n",
    "W_conv2 = weight_variable([nx_conv2, my_conv2, channels_conv1, channels_conv2])\n",
    "b_conv2 = bias_variable([channels_conv2])\n",
    "\n",
    "h_conv2 = tf.nn.relu(conv2d(h_pool1, W_conv2, dnx_conv2, dmy_conv2 ) + b_conv2)\n",
    "h_pool2 = max_pool_axb(h_conv2, nx_pool2, my_pool2)\n",
    "\n",
    "\n",
    "\n",
    "W_fc1 = weight_variable([size_input_fc1, num_neurons_fc1])\n",
    "b_fc1 = bias_variable([num_neurons_fc1])\n",
    "\n",
    "h_pool2_flat = tf.reshape(h_pool2, [-1, size_input_fc1])\n",
    "h_fc1 = tf.nn.relu(tf.matmul(h_pool2_flat, W_fc1) + b_fc1)\n",
    "\n",
    "\n",
    "W_fc2 = weight_variable([num_neurons_fc1, 2])\n",
    "b_fc2 = bias_variable([2])\n",
    "\n",
    "\n",
    "\n",
    "keep_prob = tf.placeholder(\"float\")\n",
    "h_fc1_drop = tf.nn.dropout(h_fc1, keep_prob)\n",
    "\n",
    "y_conv=tf.nn.softmax(tf.matmul(h_fc1_drop, W_fc2) + b_fc2)\n",
    "\n",
    "\n",
    "\n",
    "cross_entropy = -tf.reduce_sum(y_*tf.log(y_conv))\n",
    "train_step = tf.train.AdamOptimizer(3e-3).minimize(cross_entropy)\n",
    "correct_prediction = tf.equal(tf.argmax(y_conv,1), tf.argmax(y_,1))\n",
    "accuracy = tf.reduce_mean(tf.cast(correct_prediction, \"float\"))\n"
   ]
  },
  {
   "cell_type": "code",
   "execution_count": null,
   "metadata": {
    "collapsed": true
   },
   "outputs": [],
   "source": []
  },
  {
   "cell_type": "code",
   "execution_count": null,
   "metadata": {
    "collapsed": true
   },
   "outputs": [],
   "source": []
  },
  {
   "cell_type": "code",
   "execution_count": null,
   "metadata": {
    "collapsed": true
   },
   "outputs": [],
   "source": []
  },
  {
   "cell_type": "code",
   "execution_count": null,
   "metadata": {
    "collapsed": true
   },
   "outputs": [],
   "source": []
  },
  {
   "cell_type": "code",
   "execution_count": null,
   "metadata": {
    "collapsed": true
   },
   "outputs": [],
   "source": []
  },
  {
   "cell_type": "code",
   "execution_count": null,
   "metadata": {
    "collapsed": true
   },
   "outputs": [],
   "source": []
  },
  {
   "cell_type": "code",
   "execution_count": 22,
   "metadata": {
    "collapsed": true
   },
   "outputs": [],
   "source": [
    "testData=sio.loadmat('D:/OSU/SongMat/linear/Test/532522 SakiZ - osu!memories.mat')\n",
    "inputTest=testData['input'].reshape(-1,128*128)\n",
    "targetTest=testData['target'].reshape(-1,4)\n",
    "targetTest2=np.zeros([targetTest.shape[0],2])\n",
    "targetTest2[:,0]=targetTest[:,0]+targetTest[:,1]+targetTest[:,2]\n",
    "targetTest2[:,1]=targetTest[:,3]\n",
    "NTest=targetTest2.shape[0]"
   ]
  },
  {
   "cell_type": "code",
   "execution_count": 27,
   "metadata": {
    "collapsed": true
   },
   "outputs": [],
   "source": [
    "\n",
    "\n",
    "# merged = tf.summary.merge_all()\n",
    "# train_writer = tf.summary.FileWriter('/train',sess.graph)\n",
    "# test_writer = tf.summary.FileWriter('/test')\n",
    "# tf.global_variables_initializer().run()\n",
    "\n",
    "sess.run(tf.global_variables_initializer())\n"
   ]
  },
  {
   "cell_type": "code",
   "execution_count": 28,
   "metadata": {
    "collapsed": true,
    "scrolled": false
   },
   "outputs": [],
   "source": [
    "saver = tf.train.Saver()\n"
   ]
  },
  {
   "cell_type": "code",
   "execution_count": 29,
   "metadata": {
    "scrolled": true
   },
   "outputs": [
    {
     "ename": "KeyboardInterrupt",
     "evalue": "",
     "output_type": "error",
     "traceback": [
      "\u001b[1;31m---------------------------------------------------------------------------\u001b[0m",
      "\u001b[1;31mKeyboardInterrupt\u001b[0m                         Traceback (most recent call last)",
      "\u001b[1;32m<ipython-input-29-ef68c17e069b>\u001b[0m in \u001b[0;36m<module>\u001b[1;34m()\u001b[0m\n\u001b[0;32m      8\u001b[0m     \u001b[1;32mfor\u001b[0m \u001b[0mk\u001b[0m \u001b[1;32min\u001b[0m \u001b[0mrange\u001b[0m\u001b[1;33m(\u001b[0m\u001b[0mn\u001b[0m\u001b[1;33m,\u001b[0m\u001b[0mn\u001b[0m\u001b[1;33m+\u001b[0m\u001b[1;36m15\u001b[0m\u001b[1;33m)\u001b[0m\u001b[1;33m:\u001b[0m\u001b[1;33m\u001b[0m\u001b[0m\n\u001b[0;32m      9\u001b[0m \u001b[1;33m\u001b[0m\u001b[0m\n\u001b[1;32m---> 10\u001b[1;33m         \u001b[0mdata\u001b[0m\u001b[1;33m=\u001b[0m\u001b[0msio\u001b[0m\u001b[1;33m.\u001b[0m\u001b[0mloadmat\u001b[0m\u001b[1;33m(\u001b[0m\u001b[1;34m'D:/OSU/SongMat/linear/Train/'\u001b[0m\u001b[1;33m+\u001b[0m\u001b[0mdataList\u001b[0m\u001b[1;33m[\u001b[0m\u001b[0mk\u001b[0m\u001b[1;33m]\u001b[0m\u001b[1;33m)\u001b[0m\u001b[1;33m\u001b[0m\u001b[0m\n\u001b[0m\u001b[0;32m     11\u001b[0m         \u001b[0minputOsu\u001b[0m\u001b[1;33m=\u001b[0m\u001b[0mnp\u001b[0m\u001b[1;33m.\u001b[0m\u001b[0mappend\u001b[0m\u001b[1;33m(\u001b[0m\u001b[0minputOsu\u001b[0m\u001b[1;33m,\u001b[0m\u001b[0mdata\u001b[0m\u001b[1;33m[\u001b[0m\u001b[1;34m'input1'\u001b[0m\u001b[1;33m]\u001b[0m\u001b[1;33m.\u001b[0m\u001b[0mreshape\u001b[0m\u001b[1;33m(\u001b[0m\u001b[1;33m-\u001b[0m\u001b[1;36m1\u001b[0m\u001b[1;33m,\u001b[0m\u001b[1;36m128\u001b[0m\u001b[1;33m*\u001b[0m\u001b[1;36m128\u001b[0m\u001b[1;33m)\u001b[0m\u001b[1;33m,\u001b[0m\u001b[0maxis\u001b[0m\u001b[1;33m=\u001b[0m\u001b[1;36m0\u001b[0m\u001b[1;33m)\u001b[0m\u001b[1;33m\u001b[0m\u001b[0m\n\u001b[0;32m     12\u001b[0m         \u001b[0moutputOsu\u001b[0m\u001b[1;33m=\u001b[0m\u001b[0mnp\u001b[0m\u001b[1;33m.\u001b[0m\u001b[0mappend\u001b[0m\u001b[1;33m(\u001b[0m\u001b[0moutputOsu\u001b[0m\u001b[1;33m,\u001b[0m\u001b[0mdata\u001b[0m\u001b[1;33m[\u001b[0m\u001b[1;34m'target1'\u001b[0m\u001b[1;33m]\u001b[0m\u001b[1;33m.\u001b[0m\u001b[0mreshape\u001b[0m\u001b[1;33m(\u001b[0m\u001b[1;33m-\u001b[0m\u001b[1;36m1\u001b[0m\u001b[1;33m,\u001b[0m\u001b[1;36m4\u001b[0m\u001b[1;33m)\u001b[0m\u001b[1;33m,\u001b[0m\u001b[0maxis\u001b[0m\u001b[1;33m=\u001b[0m\u001b[1;36m0\u001b[0m\u001b[1;33m)\u001b[0m\u001b[1;33m\u001b[0m\u001b[0m\n",
      "\u001b[1;32mC:\\ProgramData\\Anaconda3\\envs\\tf\\lib\\site-packages\\scipy\\io\\matlab\\mio.py\u001b[0m in \u001b[0;36mloadmat\u001b[1;34m(file_name, mdict, appendmat, **kwargs)\u001b[0m\n\u001b[0;32m    134\u001b[0m     \u001b[0mvariable_names\u001b[0m \u001b[1;33m=\u001b[0m \u001b[0mkwargs\u001b[0m\u001b[1;33m.\u001b[0m\u001b[0mpop\u001b[0m\u001b[1;33m(\u001b[0m\u001b[1;34m'variable_names'\u001b[0m\u001b[1;33m,\u001b[0m \u001b[1;32mNone\u001b[0m\u001b[1;33m)\u001b[0m\u001b[1;33m\u001b[0m\u001b[0m\n\u001b[0;32m    135\u001b[0m     \u001b[0mMR\u001b[0m \u001b[1;33m=\u001b[0m \u001b[0mmat_reader_factory\u001b[0m\u001b[1;33m(\u001b[0m\u001b[0mfile_name\u001b[0m\u001b[1;33m,\u001b[0m \u001b[0mappendmat\u001b[0m\u001b[1;33m,\u001b[0m \u001b[1;33m**\u001b[0m\u001b[0mkwargs\u001b[0m\u001b[1;33m)\u001b[0m\u001b[1;33m\u001b[0m\u001b[0m\n\u001b[1;32m--> 136\u001b[1;33m     \u001b[0mmatfile_dict\u001b[0m \u001b[1;33m=\u001b[0m \u001b[0mMR\u001b[0m\u001b[1;33m.\u001b[0m\u001b[0mget_variables\u001b[0m\u001b[1;33m(\u001b[0m\u001b[0mvariable_names\u001b[0m\u001b[1;33m)\u001b[0m\u001b[1;33m\u001b[0m\u001b[0m\n\u001b[0m\u001b[0;32m    137\u001b[0m     \u001b[1;32mif\u001b[0m \u001b[0mmdict\u001b[0m \u001b[1;32mis\u001b[0m \u001b[1;32mnot\u001b[0m \u001b[1;32mNone\u001b[0m\u001b[1;33m:\u001b[0m\u001b[1;33m\u001b[0m\u001b[0m\n\u001b[0;32m    138\u001b[0m         \u001b[0mmdict\u001b[0m\u001b[1;33m.\u001b[0m\u001b[0mupdate\u001b[0m\u001b[1;33m(\u001b[0m\u001b[0mmatfile_dict\u001b[0m\u001b[1;33m)\u001b[0m\u001b[1;33m\u001b[0m\u001b[0m\n",
      "\u001b[1;32mC:\\ProgramData\\Anaconda3\\envs\\tf\\lib\\site-packages\\scipy\\io\\matlab\\mio5.py\u001b[0m in \u001b[0;36mget_variables\u001b[1;34m(self, variable_names)\u001b[0m\n\u001b[0;32m    290\u001b[0m                 \u001b[1;32mcontinue\u001b[0m\u001b[1;33m\u001b[0m\u001b[0m\n\u001b[0;32m    291\u001b[0m             \u001b[1;32mtry\u001b[0m\u001b[1;33m:\u001b[0m\u001b[1;33m\u001b[0m\u001b[0m\n\u001b[1;32m--> 292\u001b[1;33m                 \u001b[0mres\u001b[0m \u001b[1;33m=\u001b[0m \u001b[0mself\u001b[0m\u001b[1;33m.\u001b[0m\u001b[0mread_var_array\u001b[0m\u001b[1;33m(\u001b[0m\u001b[0mhdr\u001b[0m\u001b[1;33m,\u001b[0m \u001b[0mprocess\u001b[0m\u001b[1;33m)\u001b[0m\u001b[1;33m\u001b[0m\u001b[0m\n\u001b[0m\u001b[0;32m    293\u001b[0m             \u001b[1;32mexcept\u001b[0m \u001b[0mMatReadError\u001b[0m \u001b[1;32mas\u001b[0m \u001b[0merr\u001b[0m\u001b[1;33m:\u001b[0m\u001b[1;33m\u001b[0m\u001b[0m\n\u001b[0;32m    294\u001b[0m                 warnings.warn(\n",
      "\u001b[1;32mC:\\ProgramData\\Anaconda3\\envs\\tf\\lib\\site-packages\\scipy\\io\\matlab\\mio5.py\u001b[0m in \u001b[0;36mread_var_array\u001b[1;34m(self, header, process)\u001b[0m\n\u001b[0;32m    250\u001b[0m            \u001b[0;31m`\u001b[0m\u001b[0mprocess\u001b[0m\u001b[0;31m`\u001b[0m\u001b[1;33m.\u001b[0m\u001b[1;33m\u001b[0m\u001b[0m\n\u001b[0;32m    251\u001b[0m         '''\n\u001b[1;32m--> 252\u001b[1;33m         \u001b[1;32mreturn\u001b[0m \u001b[0mself\u001b[0m\u001b[1;33m.\u001b[0m\u001b[0m_matrix_reader\u001b[0m\u001b[1;33m.\u001b[0m\u001b[0marray_from_header\u001b[0m\u001b[1;33m(\u001b[0m\u001b[0mheader\u001b[0m\u001b[1;33m,\u001b[0m \u001b[0mprocess\u001b[0m\u001b[1;33m)\u001b[0m\u001b[1;33m\u001b[0m\u001b[0m\n\u001b[0m\u001b[0;32m    253\u001b[0m \u001b[1;33m\u001b[0m\u001b[0m\n\u001b[0;32m    254\u001b[0m     \u001b[1;32mdef\u001b[0m \u001b[0mget_variables\u001b[0m\u001b[1;33m(\u001b[0m\u001b[0mself\u001b[0m\u001b[1;33m,\u001b[0m \u001b[0mvariable_names\u001b[0m\u001b[1;33m=\u001b[0m\u001b[1;32mNone\u001b[0m\u001b[1;33m)\u001b[0m\u001b[1;33m:\u001b[0m\u001b[1;33m\u001b[0m\u001b[0m\n",
      "\u001b[1;31mKeyboardInterrupt\u001b[0m: "
     ]
    }
   ],
   "source": [
    "step_size=300\n",
    " \n",
    "dataList=os.listdir('D:/OSU/SongMat/linear/Train/')\n",
    "jaja=0\n",
    "for n in range(int(np.size(dataList)/1)-15):\n",
    "    inputOsu=np.empty([0,128*128]);\n",
    "    outputOsu=np.empty([0,4]);\n",
    "    for k in range(n,n+15):\n",
    "        \n",
    "        data=sio.loadmat('D:/OSU/SongMat/linear/Train/'+dataList[k])\n",
    "        inputOsu=np.append(inputOsu,data['input1'].reshape(-1,128*128),axis=0)\n",
    "        outputOsu=np.append(outputOsu,data['target1'].reshape(-1,4),axis=0)\n",
    "               \n",
    "        outputOsu2=np.zeros([outputOsu.shape[0],2]);\n",
    "        outputOsu2[:,0]=outputOsu[:,0]+outputOsu[:,1]+outputOsu[:,2]\n",
    "        outputOsu2[:,1]=outputOsu[:,3]\n",
    "        \n",
    "    N=inputOsu.shape[0]\n",
    "    print(N)\n",
    "    #shuffle the order\n",
    "    order = np.arange(N-3000)\n",
    "    np.random.shuffle(order)\n",
    "    \n",
    "    for i in range(N-3000):\n",
    "        if i%step_size == 0:\n",
    "            \n",
    "            train_accuracy = accuracy.eval(feed_dict={x: inputOsu[order[i:i+step_size],:], y_: outputOsu2[order[i:i+step_size],:], keep_prob: 1.0})\n",
    "#             print(\"step %d, training accuracy %g\" %(i, train_accuracy))\n",
    "            train_step.run(feed_dict={x: inputOsu[order[i:i+step_size],:], y_: outputOsu2[order[i:i+step_size],:], keep_prob: 0.7})\n",
    "    \n",
    "    \n",
    "    # Test accuracy\n",
    "    orderAcc = np.arange(NTest)\n",
    "    np.random.shuffle(orderAcc)\n",
    "    accTest=accuracy.eval(feed_dict={x: inputTest[orderAcc[0:500],:], y_: targetTest2[orderAcc[0:500],:], keep_prob: 1.0});\n",
    "    print(\"test accuracy %g\"%accTest)\n",
    "    print(y_conv.eval(feed_dict={x: inputTest[orderAcc[0:10],:], keep_prob: 1.0}))\n",
    "    \n",
    "    if accTest>0.7:\n",
    "        break"
   ]
  },
  {
   "cell_type": "code",
   "execution_count": null,
   "metadata": {
    "collapsed": true
   },
   "outputs": [],
   "source": [
    "save_path = saver.save(sess, \"D:/OSU/results/save/\",global_step=n)"
   ]
  },
  {
   "cell_type": "code",
   "execution_count": null,
   "metadata": {
    "collapsed": true
   },
   "outputs": [],
   "source": []
  },
  {
   "cell_type": "code",
   "execution_count": null,
   "metadata": {
    "collapsed": true,
    "scrolled": false
   },
   "outputs": [],
   "source": [
    "print(y_conv.eval(feed_dict={x: inputOsu[200:210:1,:], keep_prob: 1.0}))\n",
    "print (\"test accuracy %g\"%accuracy.eval(feed_dict={\n",
    "  x: inputOsu[-500:,:], y_: outputOsu2[-500:,:], keep_prob: 1.0}))"
   ]
  },
  {
   "cell_type": "code",
   "execution_count": null,
   "metadata": {
    "collapsed": true,
    "scrolled": false
   },
   "outputs": [],
   "source": [
    "# Save the output of new maps \n",
    "\n",
    "dataList=os.listdir('D:/OSU/SongMat/Create/')\n",
    "# inputOsuNew=np.empty([0,128*128]);\n",
    "for i in range(np.size(dataList)):\n",
    "    if not dataList[i][0]=='y':\n",
    "        data=sio.loadmat('D:/OSU/SongMat/Create/'+dataList[i])\n",
    "        print(data['osuFolder'])\n",
    "        \n",
    "        inputOsuNew=data['input'].reshape(-1,128*128)\n",
    "        outputOsuNew=data['target']\n",
    "        outputOsu2New=np.zeros([outputOsuNew.shape[0],2]);\n",
    "        outputOsu2New[:,0]=outputOsuNew[:,0]+outputOsuNew[:,1]+outputOsuNew[:,2]\n",
    "        outputOsu2New[:,1]=outputOsuNew[:,3]\n",
    "        \n",
    "        y_result=np.empty([0,2])\n",
    "        \n",
    "        step_size=500\n",
    "        cursor=0\n",
    "        print (\"test accuracy %g\"%accuracy.eval(feed_dict={x: inputOsuNew[-500:,:], y_: outputOsu2New[-500:,:], keep_prob: 1.0}))\n",
    "        while cursor<inputOsuNew.shape[0]:\n",
    "            if inputOsuNew[cursor:,:].shape[0]>step_size:\n",
    "                y_result1=y_conv.eval(feed_dict={x: inputOsuNew[cursor:(cursor+step_size):1,:], keep_prob: 1.0})\n",
    "                y_result=np.append(y_result,y_result1,axis=0)\n",
    "            else:\n",
    "                y_result1=y_conv.eval(feed_dict={x: inputOsuNew[cursor:(cursor+step_size):1,:], keep_prob: 1.0})\n",
    "                y_result=np.append(y_result,y_result1,axis=0)\n",
    "            cursor+=step_size\n",
    "            \n",
    "        data_save={'y2':y_result}\n",
    "        sio.savemat('D:/OSU/SongMat/Create/y2_'+dataList[i],data_save)\n"
   ]
  },
  {
   "cell_type": "code",
   "execution_count": null,
   "metadata": {
    "collapsed": true
   },
   "outputs": [],
   "source": []
  },
  {
   "cell_type": "code",
   "execution_count": null,
   "metadata": {
    "collapsed": true
   },
   "outputs": [],
   "source": []
  },
  {
   "cell_type": "markdown",
   "metadata": {
    "collapsed": true,
    "scrolled": false
   },
   "source": []
  },
  {
   "cell_type": "code",
   "execution_count": null,
   "metadata": {
    "collapsed": true
   },
   "outputs": [],
   "source": [
    "data_save={'y':y_result}\n",
    "sio.savemat('D:/OSU/results/innocence/y_innocence.mat',data_save)"
   ]
  },
  {
   "cell_type": "code",
   "execution_count": null,
   "metadata": {
    "collapsed": true
   },
   "outputs": [],
   "source": []
  },
  {
   "cell_type": "code",
   "execution_count": null,
   "metadata": {
    "collapsed": true
   },
   "outputs": [],
   "source": []
  },
  {
   "cell_type": "code",
   "execution_count": null,
   "metadata": {
    "collapsed": true
   },
   "outputs": [],
   "source": []
  },
  {
   "cell_type": "code",
   "execution_count": null,
   "metadata": {
    "collapsed": true
   },
   "outputs": [],
   "source": [
    "checkpoint_dir='D:/OSU/results/innocence/save/'\n",
    "ckpt = tf.train.get_checkpoint_state(checkpoint_dir)  \n",
    "saver.restore(sess, ckpt.model_checkpoint_path)  "
   ]
  },
  {
   "cell_type": "code",
   "execution_count": null,
   "metadata": {
    "collapsed": true
   },
   "outputs": [],
   "source": [
    "saver2 = tf.train.Saver()"
   ]
  },
  {
   "cell_type": "code",
   "execution_count": null,
   "metadata": {
    "collapsed": true
   },
   "outputs": [],
   "source": [
    "checkpoint_dir='/Users/dongqihan/Desktop/FrOstNova/save/'\n",
    "ckpt = tf.train.get_checkpoint_state(checkpoint_dir)  \n",
    "saver2.restore(sess, ckpt.model_checkpoint_path)  "
   ]
  },
  {
   "cell_type": "code",
   "execution_count": null,
   "metadata": {
    "collapsed": true
   },
   "outputs": [],
   "source": []
  },
  {
   "cell_type": "code",
   "execution_count": null,
   "metadata": {
    "collapsed": true
   },
   "outputs": [],
   "source": [
    "a = tf.constant([1.0, 2.0, 3.0, 4.0, 5.0, 6.0], shape=[2, 3], name='a')\n",
    "b = tf.constant([1.0, 2.0, 3.0, 4.0, 5.0, 6.0], shape=[3, 2], name='b')\n",
    "c = tf.matmul(a, b)\n",
    "# Creates a session with log_device_placement set to True.\n",
    "sess_tmp = tf.Session(config=tf.ConfigProto(log_device_placement=True))\n",
    "# Runs the op.\n",
    "print(sess_tmp.run(c))"
   ]
  },
  {
   "cell_type": "code",
   "execution_count": null,
   "metadata": {
    "collapsed": true
   },
   "outputs": [],
   "source": [
    "data_test=sio.loadmat('/Users/dongqihan/Desktop/FrOstNova/granat.mat')\n",
    "inputOsu_test=data_test['input'].reshape(-1,128*128)\n",
    "y_result_test=y_conv.eval(feed_dict={x: inputOsu_test, keep_prob: 1.0})\n",
    "data={'y':y_result_test}\n",
    "sio.savemat('/Users/dongqihan/Desktop/FrOstNova/y_memory2granat.mat',data)"
   ]
  }
 ],
 "metadata": {
  "kernelspec": {
   "display_name": "Python 3",
   "language": "python",
   "name": "python3"
  },
  "language_info": {
   "codemirror_mode": {
    "name": "ipython",
    "version": 3
   },
   "file_extension": ".py",
   "mimetype": "text/x-python",
   "name": "python",
   "nbconvert_exporter": "python",
   "pygments_lexer": "ipython3",
   "version": "3.5.4"
  }
 },
 "nbformat": 4,
 "nbformat_minor": 2
}
