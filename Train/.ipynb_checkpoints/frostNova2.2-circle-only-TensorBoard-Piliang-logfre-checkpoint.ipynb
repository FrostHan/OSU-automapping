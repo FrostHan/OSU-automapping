{
 "cells": [
  {
   "cell_type": "code",
   "execution_count": 6,
   "metadata": {
    "collapsed": true
   },
   "outputs": [],
   "source": [
    "import tensorflow as tf\n",
    "import scipy.io as sio\n",
    "import matplotlib.pyplot as plt\n",
    "sess = tf.InteractiveSession()\n",
    "import os\n",
    "import numpy as np"
   ]
  },
  {
   "cell_type": "code",
   "execution_count": 7,
   "metadata": {
    "collapsed": true
   },
   "outputs": [],
   "source": [
    "# Define functions\n",
    "\n",
    "def conv2d(x, W, dy ,dx):\n",
    "  return tf.nn.conv2d(x, W, strides=[1, dx, dy, 1], padding='SAME')\n",
    "\n",
    "def max_pool_axb(x,a,b):\n",
    "  return tf.nn.max_pool(x, ksize=[1, a, b, 1],\n",
    "                        strides=[1, a, b, 1], padding='SAME')\n",
    "\n",
    "def weight_variable(shape):\n",
    "  initial = tf.truncated_normal(shape, stddev=0.1)\n",
    "  return tf.Variable(initial)\n",
    "\n",
    "def bias_variable(shape):\n",
    "  initial = tf.constant(0.1, shape=shape)\n",
    "  return tf.Variable(initial)"
   ]
  },
  {
   "cell_type": "code",
   "execution_count": null,
   "metadata": {
    "collapsed": true
   },
   "outputs": [],
   "source": []
  },
  {
   "cell_type": "code",
   "execution_count": 8,
   "metadata": {},
   "outputs": [
    {
     "name": "stdout",
     "output_type": "stream",
     "text": [
      "1024\n"
     ]
    }
   ],
   "source": [
    "# Define the parameters of the network\n",
    "\n",
    "#-----------ACC 0.774 *** score 81----------------\n",
    "nx_conv1=16      # filter_width (frequency)\n",
    "my_conv1=4   # filter_height (time)\n",
    "dnx_conv1=4    # stride_width\n",
    "dmy_conv1=1    # stride_height\n",
    "\n",
    "nx_pool1=4      # pooling width\n",
    "my_pool1=1      # pooling height\n",
    "\n",
    "channels_conv1=32    # channels num\n",
    "\n",
    "nx_conv2=2\n",
    "my_conv2=16\n",
    "dnx_conv2=1\n",
    "dmy_conv2=8\n",
    "\n",
    "nx_pool2=2\n",
    "my_pool2=1\n",
    "\n",
    "\n",
    "channels_conv2=16\n",
    "\n",
    "size_input_fc1=int(128*128*channels_conv2/dnx_conv1/dmy_conv1/dnx_conv2/dmy_conv2/nx_pool1/my_pool1/nx_pool2/my_pool2)\n",
    "num_neurons_fc1=64\n",
    "\n",
    "print(size_input_fc1)"
   ]
  },
  {
   "cell_type": "code",
   "execution_count": 9,
   "metadata": {
    "collapsed": true
   },
   "outputs": [],
   "source": [
    "# Define the parameters of the network\n",
    "\n",
    "\n",
    "\n",
    "#-----------ACC 0.774 *** score 81----------------\n",
    "# nx_conv1=16      # filter_width (frequency)\n",
    "# my_conv1=4   # filter_height (time)\n",
    "# dnx_conv1=4    # stride_width\n",
    "# dmy_conv1=1    # stride_height\n",
    "\n",
    "# nx_pool1=4      # pooling width\n",
    "# my_pool1=1      # pooling height\n",
    "\n",
    "# channels_conv1=32    # channels num\n",
    "\n",
    "# nx_conv2=2\n",
    "# my_conv2=16\n",
    "# dnx_conv2=1\n",
    "# dmy_conv2=8\n",
    "\n",
    "# nx_pool2=2\n",
    "# my_pool2=1\n",
    "\n",
    "\n",
    "# channels_conv2=16\n",
    "\n",
    "# size_input_fc1=int(128*128*channels_conv2/dnx_conv1/dmy_conv1/dnx_conv2/dmy_conv2/nx_pool1/my_pool1/nx_pool2/my_pool2)\n",
    "# num_neurons_fc1=64\n",
    "\n",
    "# print(size_input_fc1)\n",
    "\n",
    "#-----------ACC 0.65 *** score 74----------------\n",
    "# nx_conv1=16      # filter_width\n",
    "# my_conv1=4   # filter_height\n",
    "# dnx_conv1=4    # stride_width\n",
    "# dmy_conv1=1    # stride_height\n",
    "\n",
    "# nx_pool1=4      # pooling width\n",
    "# my_pool1=4      # pooling height\n",
    "\n",
    "# channels_conv1=32    # channels num\n",
    "\n",
    "# nx_conv2=2\n",
    "# my_conv2=16\n",
    "# dnx_conv2=1\n",
    "# dmy_conv2=8\n",
    "\n",
    "# nx_pool2=2\n",
    "# my_pool2=2\n",
    "\n",
    "\n",
    "# channels_conv2=4\n",
    "\n",
    "# size_input_fc1=int(128*128*channels_conv2/dnx_conv1/dmy_conv1/dnx_conv2/dmy_conv2/nx_pool1/my_pool1/nx_pool2/my_pool2)\n",
    "# num_neurons_fc1=32\n",
    "\n",
    "# print(size_input_fc1)\n",
    "\n",
    "#--------------ACC 0.64  acore 69--------------\n",
    "# nx_conv1=8      # filter_width\n",
    "# my_conv1=8  # filter_height\n",
    "# dnx_conv1=2    # stride_width\n",
    "# dmy_conv1=2    # stride_height\n",
    "\n",
    "# nx_pool1=2      # pooling width\n",
    "# my_pool1=2      # pooling height\n",
    "\n",
    "# channels_conv1=32    # channels num\n",
    "\n",
    "# nx_conv2=4\n",
    "# my_conv2=4\n",
    "# dnx_conv2=2\n",
    "# dmy_conv2=2\n",
    "\n",
    "# nx_pool2=2\n",
    "# my_pool2=2\n",
    "\n",
    "\n",
    "# channels_conv2=4\n",
    "\n",
    "# size_input_fc1=int(128*128*channels_conv2/dnx_conv1/dmy_conv1/dnx_conv2/dmy_conv2/nx_pool1/my_pool1/nx_pool2/my_pool2)\n",
    "# num_neurons_fc1=32\n",
    "\n",
    "# print(size_input_fc1)\n",
    "\n"
   ]
  },
  {
   "cell_type": "code",
   "execution_count": null,
   "metadata": {
    "collapsed": true
   },
   "outputs": [],
   "source": []
  },
  {
   "cell_type": "code",
   "execution_count": null,
   "metadata": {
    "collapsed": true,
    "scrolled": true
   },
   "outputs": [],
   "source": []
  },
  {
   "cell_type": "code",
   "execution_count": null,
   "metadata": {
    "collapsed": true
   },
   "outputs": [],
   "source": []
  },
  {
   "cell_type": "code",
   "execution_count": null,
   "metadata": {
    "collapsed": true
   },
   "outputs": [],
   "source": []
  },
  {
   "cell_type": "code",
   "execution_count": 20,
   "metadata": {
    "collapsed": true
   },
   "outputs": [],
   "source": [
    "x = tf.placeholder(\"float\", shape=[None, 128*128])\n",
    "y_ = tf.placeholder(\"float\", shape=[None, 2])\n",
    "\n",
    "\n",
    "x_image = tf.reshape(x, [-1,128,128,1])\n",
    "\n",
    "W_conv1 = weight_variable([nx_conv1,my_conv1,1,channels_conv1])\n",
    "b_conv1 = bias_variable([channels_conv1])\n",
    "\n",
    "\n",
    "h_conv1 = tf.nn.relu(conv2d(x_image, W_conv1, dnx_conv1, dmy_conv1 ) + b_conv1)\n",
    "h_pool1 = max_pool_axb(h_conv1, nx_pool1, my_pool1)\n",
    "\n",
    "\n",
    "W_conv2 = weight_variable([nx_conv2, my_conv2, channels_conv1, channels_conv2])\n",
    "b_conv2 = bias_variable([channels_conv2])\n",
    "\n",
    "h_conv2 = tf.nn.relu(conv2d(h_pool1, W_conv2, dnx_conv2, dmy_conv2 ) + b_conv2)\n",
    "h_pool2 = max_pool_axb(h_conv2, nx_pool2, my_pool2)\n",
    "\n",
    "\n",
    "\n",
    "W_fc1 = weight_variable([size_input_fc1, num_neurons_fc1])\n",
    "b_fc1 = bias_variable([num_neurons_fc1])\n",
    "\n",
    "h_pool2_flat = tf.reshape(h_pool2, [-1, size_input_fc1])\n",
    "h_fc1 = tf.nn.relu(tf.matmul(h_pool2_flat, W_fc1) + b_fc1)\n",
    "\n",
    "\n",
    "W_fc2 = weight_variable([num_neurons_fc1, 2])\n",
    "b_fc2 = bias_variable([2])\n",
    "\n",
    "\n",
    "\n",
    "keep_prob = tf.placeholder(\"float\")\n",
    "h_fc1_drop = tf.nn.dropout(h_fc1, keep_prob)\n",
    "\n",
    "y_conv=tf.nn.softmax(tf.matmul(h_fc1_drop, W_fc2) + b_fc2)\n",
    "\n",
    "\n",
    "\n",
    "cross_entropy = -tf.reduce_sum(y_*tf.log(y_conv))\n",
    "train_step = tf.train.AdamOptimizer(1e-5).minimize(cross_entropy)\n",
    "correct_prediction = tf.equal(tf.argmax(y_conv,1), tf.argmax(y_,1))\n",
    "accuracy = tf.reduce_mean(tf.cast(correct_prediction, \"float\"))\n"
   ]
  },
  {
   "cell_type": "code",
   "execution_count": null,
   "metadata": {
    "collapsed": true
   },
   "outputs": [],
   "source": []
  },
  {
   "cell_type": "code",
   "execution_count": null,
   "metadata": {
    "collapsed": true
   },
   "outputs": [],
   "source": []
  },
  {
   "cell_type": "code",
   "execution_count": null,
   "metadata": {
    "collapsed": true
   },
   "outputs": [],
   "source": []
  },
  {
   "cell_type": "code",
   "execution_count": null,
   "metadata": {
    "collapsed": true
   },
   "outputs": [],
   "source": []
  },
  {
   "cell_type": "code",
   "execution_count": null,
   "metadata": {
    "collapsed": true
   },
   "outputs": [],
   "source": []
  },
  {
   "cell_type": "code",
   "execution_count": null,
   "metadata": {
    "collapsed": true
   },
   "outputs": [],
   "source": []
  },
  {
   "cell_type": "code",
   "execution_count": 24,
   "metadata": {
    "collapsed": true
   },
   "outputs": [],
   "source": [
    "testData=sio.loadmat('C:/OSU/SongMat/log/Test/532522 SakiZ - osu!memories.mat')\n",
    "inputTest=testData['input'].reshape(-1,128*128)\n",
    "targetTest=testData['target'].reshape(-1,4)\n",
    "targetTest2=np.zeros([targetTest.shape[0],2])\n",
    "targetTest2[:,0]=targetTest[:,0]+targetTest[:,1]+targetTest[:,2]\n",
    "targetTest2[:,1]=targetTest[:,3]\n",
    "NTest=targetTest2.shape[0]"
   ]
  },
  {
   "cell_type": "code",
   "execution_count": 28,
   "metadata": {
    "collapsed": true
   },
   "outputs": [],
   "source": [
    "\n",
    "\n",
    "# merged = tf.summary.merge_all()\n",
    "# train_writer = tf.summary.FileWriter('/train',sess.graph)\n",
    "# test_writer = tf.summary.FileWriter('/test')\n",
    "# tf.global_variables_initializer().run()\n",
    "\n",
    "sess.run(tf.global_variables_initializer())\n"
   ]
  },
  {
   "cell_type": "code",
   "execution_count": 29,
   "metadata": {
    "collapsed": true,
    "scrolled": false
   },
   "outputs": [],
   "source": [
    "saver = tf.train.Saver()\n"
   ]
  },
  {
   "cell_type": "code",
   "execution_count": 30,
   "metadata": {
    "scrolled": true
   },
   "outputs": [
    {
     "name": "stdout",
     "output_type": "stream",
     "text": [
      "2621\n",
      "test accuracy 0.396\n",
      "[[ 0.5031985   0.49680153]\n",
      " [ 0.50172824  0.49827173]\n",
      " [ 0.51367158  0.48632839]\n",
      " [ 0.49531412  0.50468588]\n",
      " [ 0.50808948  0.49191058]\n",
      " [ 0.5001933   0.49980664]\n",
      " [ 0.52099079  0.47900927]\n",
      " [ 0.51804352  0.48195645]\n",
      " [ 0.50542623  0.4945738 ]\n",
      " [ 0.49693495  0.50306505]]\n",
      "1\n",
      "5501\n",
      "test accuracy 0.562\n",
      "[[ 0.55429482  0.44570515]\n",
      " [ 0.60341293  0.39658707]\n",
      " [ 0.62032676  0.37967327]\n",
      " [ 0.55010635  0.44989365]\n",
      " [ 0.54320693  0.45679301]\n",
      " [ 0.49951673  0.50048333]\n",
      " [ 0.51136345  0.48863664]\n",
      " [ 0.58166325  0.41833681]\n",
      " [ 0.55058366  0.44941637]\n",
      " [ 0.56460345  0.43539661]]\n",
      "4\n",
      "1471\n",
      "test accuracy 0.628\n",
      "[[ 0.51265395  0.48734602]\n",
      " [ 0.42436826  0.57563174]\n",
      " [ 0.51845145  0.48154855]\n",
      " [ 0.86720085  0.13279921]\n",
      " [ 0.271128    0.728872  ]\n",
      " [ 0.51250261  0.48749739]\n",
      " [ 0.61864918  0.38135087]\n",
      " [ 0.55860132  0.44139868]\n",
      " [ 0.50955653  0.4904435 ]\n",
      " [ 0.67399269  0.32600731]]\n",
      "7\n",
      "5168\n",
      "test accuracy 0.744\n",
      "[[ 0.22957242  0.77042758]\n",
      " [ 0.46357664  0.53642333]\n",
      " [ 0.5118342   0.48816586]\n",
      " [ 0.53437924  0.46562082]\n",
      " [ 0.55696279  0.44303727]\n",
      " [ 0.57751942  0.42248064]\n",
      " [ 0.50454849  0.49545151]\n",
      " [ 0.52576596  0.47423407]\n",
      " [ 0.76198244  0.23801763]\n",
      " [ 0.71102464  0.28897539]]\n",
      "10\n",
      "7278\n",
      "test accuracy 0.466\n",
      "[[ 0.5021373   0.49786279]\n",
      " [ 0.5021373   0.49786279]\n",
      " [ 0.5021373   0.49786279]\n",
      " [ 0.5021373   0.49786279]\n",
      " [ 0.5021373   0.49786279]\n",
      " [ 0.5021373   0.49786279]\n",
      " [ 0.5021373   0.49786279]\n",
      " [ 0.5021373   0.49786279]\n",
      " [ 0.5021373   0.49786279]\n",
      " [ 0.5021373   0.49786279]]\n",
      "13\n",
      "4936\n",
      "test accuracy 0.456\n",
      "[[ 0.52554852  0.47445151]\n",
      " [ 0.52554852  0.47445151]\n",
      " [ 0.52554852  0.47445151]\n",
      " [ 0.52554852  0.47445151]\n",
      " [ 0.52554852  0.47445151]\n",
      " [ 0.52554852  0.47445151]\n",
      " [ 0.52554852  0.47445151]\n",
      " [ 0.52554852  0.47445151]\n",
      " [ 0.52554852  0.47445151]\n",
      " [ 0.52554852  0.47445151]]\n",
      "16\n",
      "6318\n",
      "test accuracy 0.462\n",
      "[[ 0.50231248  0.49768758]\n",
      " [ 0.50231248  0.49768758]\n",
      " [ 0.50231248  0.49768758]\n",
      " [ 0.50231248  0.49768758]\n",
      " [ 0.50231248  0.49768758]\n",
      " [ 0.50231248  0.49768758]\n",
      " [ 0.50231248  0.49768758]\n",
      " [ 0.50231248  0.49768758]\n",
      " [ 0.50231248  0.49768758]\n",
      " [ 0.50231248  0.49768758]]\n",
      "19\n",
      "2775\n",
      "test accuracy 0.44\n",
      "[[ 0.51135945  0.48864064]\n",
      " [ 0.51135945  0.48864064]\n",
      " [ 0.51135945  0.48864064]\n",
      " [ 0.51135945  0.48864064]\n",
      " [ 0.51135945  0.48864064]\n",
      " [ 0.51135945  0.48864064]\n",
      " [ 0.51135945  0.48864064]\n",
      " [ 0.51135945  0.48864064]\n",
      " [ 0.51135945  0.48864064]\n",
      " [ 0.51135945  0.48864064]]\n",
      "22\n",
      "2751\n",
      "test accuracy 0.454\n",
      "[[ 0.50867546  0.49132457]\n",
      " [ 0.50867546  0.49132457]\n",
      " [ 0.50867546  0.49132457]\n",
      " [ 0.50867546  0.49132457]\n",
      " [ 0.50867546  0.49132457]\n",
      " [ 0.50867546  0.49132457]\n",
      " [ 0.50867546  0.49132457]\n",
      " [ 0.50867546  0.49132457]\n",
      " [ 0.50867546  0.49132457]\n",
      " [ 0.50867546  0.49132457]]\n",
      "25\n",
      "9968\n",
      "test accuracy 0.484\n",
      "[[ 0.52457696  0.47542298]\n",
      " [ 0.52457696  0.47542298]\n",
      " [ 0.52457696  0.47542298]\n",
      " [ 0.52457696  0.47542298]\n",
      " [ 0.52457696  0.47542298]\n",
      " [ 0.52457696  0.47542298]\n",
      " [ 0.52457696  0.47542298]\n",
      " [ 0.52457696  0.47542298]\n",
      " [ 0.52457696  0.47542298]\n",
      " [ 0.52457696  0.47542298]]\n",
      "28\n",
      "4882\n",
      "test accuracy 0.44\n",
      "[[ 0.51111442  0.48888564]\n",
      " [ 0.51111442  0.48888564]\n",
      " [ 0.51111442  0.48888564]\n",
      " [ 0.51111442  0.48888564]\n",
      " [ 0.51111442  0.48888564]\n",
      " [ 0.51111442  0.48888564]\n",
      " [ 0.51111442  0.48888564]\n",
      " [ 0.51111442  0.48888564]\n",
      " [ 0.51111442  0.48888564]\n",
      " [ 0.51111442  0.48888564]]\n",
      "31\n",
      "5590\n",
      "test accuracy 0.462\n",
      "[[ 0.51163226  0.48836777]\n",
      " [ 0.51163226  0.48836777]\n",
      " [ 0.51163226  0.48836777]\n",
      " [ 0.51163226  0.48836777]\n",
      " [ 0.51163226  0.48836777]\n",
      " [ 0.51163226  0.48836777]\n",
      " [ 0.51163226  0.48836777]\n",
      " [ 0.51163226  0.48836777]\n",
      " [ 0.51163226  0.48836777]\n",
      " [ 0.51163226  0.48836777]]\n",
      "34\n",
      "5719\n"
     ]
    },
    {
     "ename": "KeyboardInterrupt",
     "evalue": "",
     "output_type": "error",
     "traceback": [
      "\u001b[1;31m---------------------------------------------------------------------------\u001b[0m",
      "\u001b[1;31mKeyboardInterrupt\u001b[0m                         Traceback (most recent call last)",
      "\u001b[1;32m<ipython-input-30-3a0d3c2e6c21>\u001b[0m in \u001b[0;36m<module>\u001b[1;34m()\u001b[0m\n\u001b[0;32m     27\u001b[0m         \u001b[1;32mif\u001b[0m \u001b[0mi\u001b[0m\u001b[1;33m%\u001b[0m\u001b[0mstep_size\u001b[0m \u001b[1;33m==\u001b[0m \u001b[1;36m0\u001b[0m\u001b[1;33m:\u001b[0m\u001b[1;33m\u001b[0m\u001b[0m\n\u001b[0;32m     28\u001b[0m \u001b[1;33m\u001b[0m\u001b[0m\n\u001b[1;32m---> 29\u001b[1;33m             \u001b[0mtrain_accuracy\u001b[0m \u001b[1;33m=\u001b[0m \u001b[0maccuracy\u001b[0m\u001b[1;33m.\u001b[0m\u001b[0meval\u001b[0m\u001b[1;33m(\u001b[0m\u001b[0mfeed_dict\u001b[0m\u001b[1;33m=\u001b[0m\u001b[1;33m{\u001b[0m\u001b[0mx\u001b[0m\u001b[1;33m:\u001b[0m \u001b[0minputOsu\u001b[0m\u001b[1;33m[\u001b[0m\u001b[0morder\u001b[0m\u001b[1;33m[\u001b[0m\u001b[0mi\u001b[0m\u001b[1;33m:\u001b[0m\u001b[0mi\u001b[0m\u001b[1;33m+\u001b[0m\u001b[0mstep_size\u001b[0m\u001b[1;33m]\u001b[0m\u001b[1;33m,\u001b[0m\u001b[1;33m:\u001b[0m\u001b[1;33m]\u001b[0m\u001b[1;33m,\u001b[0m \u001b[0my_\u001b[0m\u001b[1;33m:\u001b[0m \u001b[0moutputOsu2\u001b[0m\u001b[1;33m[\u001b[0m\u001b[0morder\u001b[0m\u001b[1;33m[\u001b[0m\u001b[0mi\u001b[0m\u001b[1;33m:\u001b[0m\u001b[0mi\u001b[0m\u001b[1;33m+\u001b[0m\u001b[0mstep_size\u001b[0m\u001b[1;33m]\u001b[0m\u001b[1;33m,\u001b[0m\u001b[1;33m:\u001b[0m\u001b[1;33m]\u001b[0m\u001b[1;33m,\u001b[0m \u001b[0mkeep_prob\u001b[0m\u001b[1;33m:\u001b[0m \u001b[1;36m1.0\u001b[0m\u001b[1;33m}\u001b[0m\u001b[1;33m)\u001b[0m\u001b[1;33m\u001b[0m\u001b[0m\n\u001b[0m\u001b[0;32m     30\u001b[0m \u001b[1;31m#             print(\"step %d, training accuracy %g\" %(i, train_accuracy))\u001b[0m\u001b[1;33m\u001b[0m\u001b[1;33m\u001b[0m\u001b[0m\n\u001b[0;32m     31\u001b[0m             \u001b[0mtrain_step\u001b[0m\u001b[1;33m.\u001b[0m\u001b[0mrun\u001b[0m\u001b[1;33m(\u001b[0m\u001b[0mfeed_dict\u001b[0m\u001b[1;33m=\u001b[0m\u001b[1;33m{\u001b[0m\u001b[0mx\u001b[0m\u001b[1;33m:\u001b[0m \u001b[0minputOsu\u001b[0m\u001b[1;33m[\u001b[0m\u001b[0morder\u001b[0m\u001b[1;33m[\u001b[0m\u001b[0mi\u001b[0m\u001b[1;33m:\u001b[0m\u001b[0mi\u001b[0m\u001b[1;33m+\u001b[0m\u001b[0mstep_size\u001b[0m\u001b[1;33m]\u001b[0m\u001b[1;33m,\u001b[0m\u001b[1;33m:\u001b[0m\u001b[1;33m]\u001b[0m\u001b[1;33m,\u001b[0m \u001b[0my_\u001b[0m\u001b[1;33m:\u001b[0m \u001b[0moutputOsu2\u001b[0m\u001b[1;33m[\u001b[0m\u001b[0morder\u001b[0m\u001b[1;33m[\u001b[0m\u001b[0mi\u001b[0m\u001b[1;33m:\u001b[0m\u001b[0mi\u001b[0m\u001b[1;33m+\u001b[0m\u001b[0mstep_size\u001b[0m\u001b[1;33m]\u001b[0m\u001b[1;33m,\u001b[0m\u001b[1;33m:\u001b[0m\u001b[1;33m]\u001b[0m\u001b[1;33m,\u001b[0m \u001b[0mkeep_prob\u001b[0m\u001b[1;33m:\u001b[0m \u001b[1;36m0.7\u001b[0m\u001b[1;33m}\u001b[0m\u001b[1;33m)\u001b[0m\u001b[1;33m\u001b[0m\u001b[0m\n",
      "\u001b[1;31mKeyboardInterrupt\u001b[0m: "
     ]
    }
   ],
   "source": [
    "step_size=200\n",
    " \n",
    "dataList=os.listdir('C:/OSU/SongMat/log/Train/')\n",
    "acc=np.zeros([100,1])\n",
    "n=1\n",
    "\n",
    "while n < int(np.size(dataList)-15):\n",
    "    inputOsu=np.empty([0,128*128])\n",
    "    outputOsu=np.empty([0,4])\n",
    "    for k in range(n,n+3):\n",
    "        \n",
    "        data=sio.loadmat('C:/OSU/SongMat/log/Train/'+dataList[k])\n",
    "        inputOsu=np.append(inputOsu,data['input1'].reshape(-1,128*128),axis=0)\n",
    "        outputOsu=np.append(outputOsu,data['target1'].reshape(-1,4),axis=0)\n",
    "               \n",
    "        outputOsu2=np.zeros([outputOsu.shape[0],2]);\n",
    "        outputOsu2[:,0]=outputOsu[:,0]+outputOsu[:,1]+outputOsu[:,2]\n",
    "        outputOsu2[:,1]=outputOsu[:,3]\n",
    "        \n",
    "    N=inputOsu.shape[0]\n",
    "    print(N)\n",
    "    #shuffle the order\n",
    "    order = np.arange(N-step_size)\n",
    "    np.random.shuffle(order)\n",
    "    \n",
    "    for i in range(N-step_size):\n",
    "        if i%step_size == 0:\n",
    "            \n",
    "            train_accuracy = accuracy.eval(feed_dict={x: inputOsu[order[i:i+step_size],:], y_: outputOsu2[order[i:i+step_size],:], keep_prob: 1.0})\n",
    "#             print(\"step %d, training accuracy %g\" %(i, train_accuracy))\n",
    "            train_step.run(feed_dict={x: inputOsu[order[i:i+step_size],:], y_: outputOsu2[order[i:i+step_size],:], keep_prob: 0.7})\n",
    "    \n",
    "    \n",
    "    # Test accuracy\n",
    "    orderAcc = np.arange(NTest)\n",
    "    np.random.shuffle(orderAcc)\n",
    "    accTest=accuracy.eval(feed_dict={x: inputTest[orderAcc[0:500],:], y_: targetTest2[orderAcc[0:500],:], keep_prob: 1.0});\n",
    "    print(\"test accuracy %g\"%accTest)\n",
    "    print(y_conv.eval(feed_dict={x: inputTest[orderAcc[0:10],:], keep_prob: 1.0}))\n",
    "    acc[n]=accTest\n",
    "    print(n)\n",
    "    if acc[n]>0.8:\n",
    "        break\n",
    "    n=n+3\n",
    "        "
   ]
  },
  {
   "cell_type": "code",
   "execution_count": 53,
   "metadata": {
    "collapsed": true
   },
   "outputs": [],
   "source": [
    "save_path = saver.save(sess, \"D:/OSU/results/save/\",global_step=n)"
   ]
  },
  {
   "cell_type": "code",
   "execution_count": 54,
   "metadata": {
    "scrolled": true
   },
   "outputs": [
    {
     "name": "stdout",
     "output_type": "stream",
     "text": [
      "[[ 0.68000007]\n",
      " [ 0.68000001]\n",
      " [ 0.69400001]\n",
      " [ 0.62600005]\n",
      " [ 0.67000002]\n",
      " [ 0.64999998]\n",
      " [ 0.71000004]\n",
      " [ 0.69599998]\n",
      " [ 0.65799999]\n",
      " [ 0.69999999]\n",
      " [ 0.71200001]\n",
      " [ 0.68800002]\n",
      " [ 0.73199999]\n",
      " [ 0.68400002]\n",
      " [ 0.66000003]\n",
      " [ 0.74199998]\n",
      " [ 0.68200004]\n",
      " [ 0.73399997]\n",
      " [ 0.73600006]\n",
      " [ 0.71599996]\n",
      " [ 0.79799998]\n",
      " [ 0.        ]\n",
      " [ 0.        ]\n",
      " [ 0.        ]\n",
      " [ 0.        ]\n",
      " [ 0.        ]\n",
      " [ 0.        ]\n",
      " [ 0.        ]\n",
      " [ 0.        ]\n",
      " [ 0.        ]\n",
      " [ 0.        ]\n",
      " [ 0.        ]\n",
      " [ 0.        ]\n",
      " [ 0.        ]\n",
      " [ 0.        ]\n",
      " [ 0.        ]\n",
      " [ 0.        ]\n",
      " [ 0.        ]\n",
      " [ 0.        ]\n",
      " [ 0.        ]\n",
      " [ 0.        ]\n",
      " [ 0.        ]\n",
      " [ 0.        ]\n",
      " [ 0.        ]\n",
      " [ 0.        ]\n",
      " [ 0.        ]\n",
      " [ 0.        ]\n",
      " [ 0.        ]\n",
      " [ 0.        ]\n",
      " [ 0.        ]\n",
      " [ 0.        ]\n",
      " [ 0.        ]\n",
      " [ 0.        ]\n",
      " [ 0.        ]\n",
      " [ 0.        ]\n",
      " [ 0.        ]\n",
      " [ 0.        ]\n",
      " [ 0.        ]\n",
      " [ 0.        ]\n",
      " [ 0.        ]\n",
      " [ 0.        ]\n",
      " [ 0.        ]\n",
      " [ 0.        ]\n",
      " [ 0.        ]\n",
      " [ 0.        ]\n",
      " [ 0.        ]\n",
      " [ 0.        ]\n",
      " [ 0.        ]\n",
      " [ 0.        ]\n",
      " [ 0.        ]\n",
      " [ 0.        ]\n",
      " [ 0.        ]\n",
      " [ 0.        ]\n",
      " [ 0.        ]\n",
      " [ 0.        ]\n",
      " [ 0.        ]\n",
      " [ 0.        ]\n",
      " [ 0.        ]\n",
      " [ 0.        ]\n",
      " [ 0.        ]\n",
      " [ 0.        ]\n",
      " [ 0.        ]\n",
      " [ 0.        ]\n",
      " [ 0.        ]\n",
      " [ 0.        ]\n",
      " [ 0.        ]\n",
      " [ 0.        ]\n",
      " [ 0.        ]\n",
      " [ 0.        ]\n",
      " [ 0.        ]\n",
      " [ 0.        ]\n",
      " [ 0.        ]\n",
      " [ 0.        ]\n",
      " [ 0.        ]\n",
      " [ 0.        ]\n",
      " [ 0.        ]\n",
      " [ 0.        ]\n",
      " [ 0.        ]\n",
      " [ 0.        ]\n",
      " [ 0.        ]]\n"
     ]
    }
   ],
   "source": [
    "print(acc)"
   ]
  },
  {
   "cell_type": "code",
   "execution_count": 55,
   "metadata": {
    "scrolled": false
   },
   "outputs": [
    {
     "name": "stdout",
     "output_type": "stream",
     "text": [
      "[[ 0.99720156  0.00279847]\n",
      " [ 0.01349146  0.98650861]\n",
      " [ 0.92983752  0.07016251]\n",
      " [ 0.0819061   0.91809386]\n",
      " [ 0.96492362  0.03507635]\n",
      " [ 0.10546983  0.89453018]\n",
      " [ 0.99031061  0.00968945]\n",
      " [ 0.1095457   0.89045423]\n",
      " [ 0.99059546  0.0094046 ]\n",
      " [ 0.05066239  0.9493376 ]]\n",
      "test accuracy 0.842\n"
     ]
    }
   ],
   "source": [
    "print(y_conv.eval(feed_dict={x: inputOsu[200:210:1,:], keep_prob: 1.0}))\n",
    "print (\"test accuracy %g\"%accuracy.eval(feed_dict={\n",
    "  x: inputOsu[-500:,:], y_: outputOsu2[-500:,:], keep_prob: 1.0}))"
   ]
  },
  {
   "cell_type": "code",
   "execution_count": 59,
   "metadata": {
    "scrolled": false
   },
   "outputs": [
    {
     "name": "stdout",
     "output_type": "stream",
     "text": [
      "[ 'D:\\\\Program Files (x86)\\\\osu!\\\\Songs\\\\395046 Nakashinoda Mugi - Senjou no Aria\\\\']\n",
      "test accuracy 0.646\n",
      "[ 'D:\\\\Program Files (x86)\\\\osu!\\\\Songs\\\\395147 TRakker - Countdown to the Blue\\\\']\n",
      "test accuracy 0.77\n",
      "['D:\\\\Program Files (x86)\\\\osu!\\\\Songs\\\\395149 Asterisk - Rain\\\\']\n",
      "test accuracy 0.914\n",
      "[ 'D:\\\\Program Files (x86)\\\\osu!\\\\Songs\\\\395252 Hayami Saori - Sono Koe ga Chizu ni Naru (TV EDIT)\\\\']\n",
      "test accuracy 0.872\n",
      "['D:\\\\Program Files (x86)\\\\osu!\\\\Songs\\\\395298 Nightwish - Sagan\\\\']\n",
      "test accuracy 0.754\n",
      "[ 'D:\\\\Program Files (x86)\\\\osu!\\\\Songs\\\\395359 mimimemeMIMI - Sayonara Usotsuki\\\\']\n",
      "test accuracy 0.468\n",
      "[ 'D:\\\\Program Files (x86)\\\\osu!\\\\Songs\\\\395496 Yukinoshita Yukino (CVHayami Saori) & Yuigahama Yui (CVTouyama Nao) - Kimi to\\\\']\n",
      "test accuracy 0.656\n",
      "[ 'D:\\\\Program Files (x86)\\\\osu!\\\\Songs\\\\395642 Sakamoto Maaya - Okaerinasai (tomatomerde Remix)\\\\']\n",
      "test accuracy 0.844\n",
      "['D:\\\\Program Files (x86)\\\\osu!\\\\Songs\\\\395657 Rib - Yonjuunana\\\\']\n",
      "test accuracy 0.796\n",
      "[ 'D:\\\\Program Files (x86)\\\\osu!\\\\Songs\\\\395739 Ensiferum - March of War _ Axe of Judgement\\\\']\n",
      "test accuracy 0.776\n",
      "[ 'D:\\\\Program Files (x86)\\\\osu!\\\\Songs\\\\395758 Shoujo Fractal - Samayoi no Mei\\\\']\n",
      "test accuracy 0.724\n",
      "['D:\\\\Program Files (x86)\\\\osu!\\\\Songs\\\\395846 MY FIRST STORY - ALONE\\\\']\n",
      "test accuracy 0.874\n",
      "['D:\\\\Program Files (x86)\\\\osu!\\\\Songs\\\\395854 Kumakuma - Hallucination\\\\']\n",
      "test accuracy 0.676\n",
      "['D:\\\\Program Files (x86)\\\\osu!\\\\Songs\\\\395978 MitiS - 1162016\\\\']\n",
      "test accuracy 0.609375\n",
      "[ 'D:\\\\Program Files (x86)\\\\osu!\\\\Songs\\\\396096 Suara - Fuantei na Kamisama TV ver\\\\']\n",
      "test accuracy 0.812\n",
      "['D:\\\\Program Files (x86)\\\\osu!\\\\Songs\\\\396227 Makino Yui - Undine\\\\']\n",
      "test accuracy 0.576\n",
      "['D:\\\\Program Files (x86)\\\\osu!\\\\Songs\\\\396242 Reol - Minazoko Yuuhodou\\\\']\n",
      "test accuracy 0.742\n",
      "[ 'D:\\\\Program Files (x86)\\\\osu!\\\\Songs\\\\396339 Rammstein - Mann gegen Mann\\\\']\n",
      "test accuracy 0.838\n",
      "[ 'D:\\\\Program Files (x86)\\\\osu!\\\\Songs\\\\396495 yuiko - GLORIOUS_DAYS(Short)\\\\']\n",
      "test accuracy 0.34\n",
      "[ 'D:\\\\Program Files (x86)\\\\osu!\\\\Songs\\\\396516 fhana - tiny lamp (TV-size)\\\\']\n",
      "test accuracy 0.922\n",
      "['D:\\\\Program Files (x86)\\\\osu!\\\\Songs\\\\396745 Silent Siren - Routine\\\\']\n",
      "test accuracy 0.744\n",
      "['D:\\\\Program Files (x86)\\\\osu!\\\\Songs\\\\396839 Yooh - LegenD\\\\']\n",
      "test accuracy 0.722\n",
      "['D:\\\\Program Files (x86)\\\\osu!\\\\Songs\\\\396994 USAO - Night sky\\\\']\n",
      "test accuracy 0.788\n",
      "[ 'D:\\\\Program Files (x86)\\\\osu!\\\\Songs\\\\397016 NICO Touches the Walls - Tenchi Gaeshi\\\\']\n",
      "test accuracy 0.65\n",
      "[ 'D:\\\\Program Files (x86)\\\\osu!\\\\Songs\\\\397719 Nitta Emi, Uchida Aya, Mimori Suzuko - Future style (Movie Edit)\\\\']\n",
      "test accuracy 0.818\n",
      "[ 'D:\\\\Program Files (x86)\\\\osu!\\\\Songs\\\\397751 Matsushita Nao - Koi ni Ochitara image version\\\\']\n",
      "test accuracy 0.698\n",
      "[ 'D:\\\\Program Files (x86)\\\\osu!\\\\Songs\\\\397823 Aimer - Rokutousei no Yoru ~TVsize~\\\\']\n",
      "test accuracy 0.692\n",
      "['D:\\\\Program Files (x86)\\\\osu!\\\\Songs\\\\397905 Muzzy - Endgame\\\\']\n",
      "test accuracy 0.746\n",
      "['D:\\\\Program Files (x86)\\\\osu!\\\\Songs\\\\397976 Michael Wong - Yue Ding\\\\']\n",
      "test accuracy 0.648\n",
      "['D:\\\\Program Files (x86)\\\\osu!\\\\Songs\\\\397990 toby fox - Tem Shop\\\\']\n",
      "test accuracy 0.79\n",
      "[ 'D:\\\\Program Files (x86)\\\\osu!\\\\Songs\\\\398176 JAM Project - THE HERO!! ~Ikareru Kobushi ni Hi o Tsukero~ (TV Size)\\\\']\n",
      "test accuracy 0.634\n",
      "[ 'D:\\\\Program Files (x86)\\\\osu!\\\\Songs\\\\398614 orangentle _ Yu_Asahina - HAELEQUIN (Extended ver)\\\\']\n",
      "test accuracy 0.67\n",
      "['D:\\\\Program Files (x86)\\\\osu!\\\\Songs\\\\398797 Anamanaguchi - Prom Night\\\\']\n",
      "test accuracy 0.772\n",
      "[ 'D:\\\\Program Files (x86)\\\\osu!\\\\Songs\\\\398819 Wada Kouji - The Biggest Dreamer (TV Size)\\\\']\n",
      "test accuracy 0.77\n",
      "[ 'D:\\\\Program Files (x86)\\\\osu!\\\\Songs\\\\398921 senya - Hitomi ni Kakusareta Omoi\\\\']\n",
      "test accuracy 0.668\n",
      "[ 'D:\\\\Program Files (x86)\\\\osu!\\\\Songs\\\\398976 NAMCO - PATH OF GODDESS CLAIRE\\\\']\n",
      "test accuracy 0.812\n",
      "[ 'D:\\\\Program Files (x86)\\\\osu!\\\\Songs\\\\398977 toby fox - Bergentrueckung\\\\']\n",
      "test accuracy 0.915323\n",
      "['D:\\\\Program Files (x86)\\\\osu!\\\\Songs\\\\399061 FELT - In my room\\\\']\n",
      "test accuracy 0.671875\n",
      "['D:\\\\Program Files (x86)\\\\osu!\\\\Songs\\\\399126 Joe Ford - Villain\\\\']\n",
      "test accuracy 0.818\n",
      "[ 'D:\\\\Program Files (x86)\\\\osu!\\\\Songs\\\\399140 lily white - Futari Happiness\\\\']\n",
      "test accuracy 0.778\n",
      "['D:\\\\Program Files (x86)\\\\osu!\\\\Songs\\\\399151 Camellia - crystallized\\\\']\n",
      "test accuracy 0.872\n",
      "[ \"D:\\\\Program Files (x86)\\\\osu!\\\\Songs\\\\399328 Feint - We Won't Be Alone (feat Laura Brehm)\\\\\"]\n",
      "test accuracy 0.352\n",
      "['D:\\\\Program Files (x86)\\\\osu!\\\\Songs\\\\399358 KANA-BOON - Silhouette\\\\']\n",
      "test accuracy 0.828\n",
      "[ 'D:\\\\Program Files (x86)\\\\osu!\\\\Songs\\\\399372 BABYMETAL - Road of Resistance\\\\']\n",
      "test accuracy 0.736\n",
      "['D:\\\\Program Files (x86)\\\\osu!\\\\Songs\\\\399585 Tatsh - IMAGE -MATERIAL-\\\\']\n",
      "test accuracy 0.576\n",
      "[ \"D:\\\\Program Files (x86)\\\\osu!\\\\Songs\\\\399732 Pizuya's Cell - Wataru mono no todaeta hashi\\\\\"]\n",
      "test accuracy 0.754\n",
      "[ \"D:\\\\Program Files (x86)\\\\osu!\\\\Songs\\\\399770 The Mamas And The Papas - California Dreamin'\\\\\"]\n",
      "test accuracy 0.746\n",
      "['D:\\\\Program Files (x86)\\\\osu!\\\\Songs\\\\399810 Reol - Minazoko Yuuhodou\\\\']\n",
      "test accuracy 0.718\n",
      "['D:\\\\Program Files (x86)\\\\osu!\\\\Songs\\\\532522 SakiZ - osu!memories\\\\']\n",
      "test accuracy 0.712\n"
     ]
    }
   ],
   "source": [
    "# Save the output of new maps \n",
    "\n",
    "dataList=os.listdir('C:/OSU/SongMat/log/Create/')\n",
    "# inputOsuNew=np.empty([0,128*128]);\n",
    "for i in range(np.size(dataList)):\n",
    "    if not dataList[i][0]=='y':\n",
    "        data=sio.loadmat('C:/OSU/SongMat/log/Create/'+dataList[i])\n",
    "        print(data['osuFolder'])\n",
    "        \n",
    "        inputOsuNew=data['input'].reshape(-1,128*128)\n",
    "        outputOsuNew=data['target']\n",
    "        outputOsu2New=np.zeros([outputOsuNew.shape[0],2]);\n",
    "        outputOsu2New[:,0]=outputOsuNew[:,0]+outputOsuNew[:,1]+outputOsuNew[:,2]\n",
    "        outputOsu2New[:,1]=outputOsuNew[:,3]\n",
    "        \n",
    "        y_result=np.empty([0,2])\n",
    "        \n",
    "        step_size=500\n",
    "        cursor=0\n",
    "        print (\"test accuracy %g\"%accuracy.eval(feed_dict={x: inputOsuNew[-500:,:], y_: outputOsu2New[-500:,:], keep_prob: 1.0}))\n",
    "        while cursor<inputOsuNew.shape[0]:\n",
    "            if inputOsuNew[cursor:,:].shape[0]>step_size:\n",
    "                y_result1=y_conv.eval(feed_dict={x: inputOsuNew[cursor:(cursor+step_size):1,:], keep_prob: 1.0})\n",
    "                y_result=np.append(y_result,y_result1,axis=0)\n",
    "            else:\n",
    "                y_result1=y_conv.eval(feed_dict={x: inputOsuNew[cursor:(cursor+step_size):1,:], keep_prob: 1.0})\n",
    "                y_result=np.append(y_result,y_result1,axis=0)\n",
    "            cursor+=step_size\n",
    "            \n",
    "        data_save={'y2':y_result}\n",
    "        sio.savemat('C:/OSU/SongMat/log/Create/y2_'+dataList[i],data_save)\n"
   ]
  },
  {
   "cell_type": "code",
   "execution_count": null,
   "metadata": {
    "collapsed": true
   },
   "outputs": [],
   "source": []
  },
  {
   "cell_type": "code",
   "execution_count": null,
   "metadata": {
    "collapsed": true
   },
   "outputs": [],
   "source": []
  },
  {
   "cell_type": "markdown",
   "metadata": {
    "collapsed": true,
    "scrolled": false
   },
   "source": []
  },
  {
   "cell_type": "code",
   "execution_count": null,
   "metadata": {
    "collapsed": true
   },
   "outputs": [],
   "source": [
    "data_save={'y':y_result}\n",
    "sio.savemat('D:/OSU/results/innocence/y_innocence.mat',data_save)"
   ]
  },
  {
   "cell_type": "code",
   "execution_count": null,
   "metadata": {
    "collapsed": true
   },
   "outputs": [],
   "source": []
  },
  {
   "cell_type": "code",
   "execution_count": null,
   "metadata": {
    "collapsed": true
   },
   "outputs": [],
   "source": []
  },
  {
   "cell_type": "code",
   "execution_count": null,
   "metadata": {
    "collapsed": true
   },
   "outputs": [],
   "source": []
  },
  {
   "cell_type": "code",
   "execution_count": null,
   "metadata": {
    "collapsed": true
   },
   "outputs": [],
   "source": [
    "checkpoint_dir='D:/OSU/results/innocence/save/'\n",
    "ckpt = tf.train.get_checkpoint_state(checkpoint_dir)  \n",
    "saver.restore(sess, ckpt.model_checkpoint_path)  "
   ]
  },
  {
   "cell_type": "code",
   "execution_count": null,
   "metadata": {
    "collapsed": true
   },
   "outputs": [],
   "source": [
    "saver2 = tf.train.Saver()"
   ]
  },
  {
   "cell_type": "code",
   "execution_count": null,
   "metadata": {
    "collapsed": true
   },
   "outputs": [],
   "source": [
    "checkpoint_dir='/Users/dongqihan/Desktop/FrOstNova/save/'\n",
    "ckpt = tf.train.get_checkpoint_state(checkpoint_dir)  \n",
    "saver2.restore(sess, ckpt.model_checkpoint_path)  "
   ]
  },
  {
   "cell_type": "code",
   "execution_count": null,
   "metadata": {
    "collapsed": true
   },
   "outputs": [],
   "source": []
  },
  {
   "cell_type": "code",
   "execution_count": null,
   "metadata": {
    "collapsed": true
   },
   "outputs": [],
   "source": [
    "a = tf.constant([1.0, 2.0, 3.0, 4.0, 5.0, 6.0], shape=[2, 3], name='a')\n",
    "b = tf.constant([1.0, 2.0, 3.0, 4.0, 5.0, 6.0], shape=[3, 2], name='b')\n",
    "c = tf.matmul(a, b)\n",
    "# Creates a session with log_device_placement set to True.\n",
    "sess_tmp = tf.Session(config=tf.ConfigProto(log_device_placement=True))\n",
    "# Runs the op.\n",
    "print(sess_tmp.run(c))"
   ]
  },
  {
   "cell_type": "code",
   "execution_count": null,
   "metadata": {
    "collapsed": true
   },
   "outputs": [],
   "source": [
    "data_test=sio.loadmat('/Users/dongqihan/Desktop/FrOstNova/granat.mat')\n",
    "inputOsu_test=data_test['input'].reshape(-1,128*128)\n",
    "y_result_test=y_conv.eval(feed_dict={x: inputOsu_test, keep_prob: 1.0})\n",
    "data={'y':y_result_test}\n",
    "sio.savemat('/Users/dongqihan/Desktop/FrOstNova/y_memory2granat.mat',data)"
   ]
  }
 ],
 "metadata": {
  "kernelspec": {
   "display_name": "Python 3",
   "language": "python",
   "name": "python3"
  },
  "language_info": {
   "codemirror_mode": {
    "name": "ipython",
    "version": 3
   },
   "file_extension": ".py",
   "mimetype": "text/x-python",
   "name": "python",
   "nbconvert_exporter": "python",
   "pygments_lexer": "ipython3",
   "version": "3.5.4"
  }
 },
 "nbformat": 4,
 "nbformat_minor": 2
}
