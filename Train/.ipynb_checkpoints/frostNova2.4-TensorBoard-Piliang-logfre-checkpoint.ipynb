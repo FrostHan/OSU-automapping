{
 "cells": [
  {
   "cell_type": "code",
   "execution_count": 1,
   "metadata": {
    "collapsed": true
   },
   "outputs": [],
   "source": [
    "import tensorflow as tf\n",
    "import scipy.io as sio\n",
    "import matplotlib.pyplot as plt\n",
    "import os\n",
    "import numpy as np\n",
    "import shutil\n",
    "tf.summary.FileWriterCache.clear()\n",
    "shutil.rmtree('D:/MATLAB/OSU/OSU-automapping/Train/log/', ignore_errors=True)\n",
    "\n",
    "sess = tf.InteractiveSession()"
   ]
  },
  {
   "cell_type": "code",
   "execution_count": 2,
   "metadata": {
    "collapsed": true
   },
   "outputs": [],
   "source": [
    "# Define functions\n",
    "\n",
    "def conv2d(x, W, dy ,dx):\n",
    "  return tf.nn.conv2d(x, W, strides=[1, dx, dy, 1], padding='SAME')\n",
    "\n",
    "def max_pool_axb(x,a,b):\n",
    "  return tf.nn.max_pool(x, ksize=[1, a, b, 1],\n",
    "                        strides=[1, a, b, 1], padding='SAME')\n",
    "\n",
    "def weight_variable(shape):\n",
    "  initial = tf.truncated_normal(shape, stddev=0.1)\n",
    "  return tf.Variable(initial)\n",
    "\n",
    "def bias_variable(shape):\n",
    "  initial = tf.constant(0.1, shape=shape)\n",
    "  return tf.Variable(initial)\n",
    "\n",
    "# def variable_summaries(var):\n",
    "#   \"\"\"Attach a lot of summaries to a Tensor (for TensorBoard visualization).\"\"\"\n",
    "#   with tf.name_scope('summaries'):\n",
    "#     mean = tf.reduce_mean(var)\n",
    "#     tf.summary.scalar('mean', mean)\n",
    "#     with tf.name_scope('stddev'):\n",
    "#       stddev = tf.sqrt(tf.reduce_mean(tf.square(var - mean)))\n",
    "#     tf.summary.scalar('stddev', stddev)\n",
    "#     tf.summary.scalar('max', tf.reduce_max(var))\n",
    "#     tf.summary.scalar('min', tf.reduce_min(var))\n",
    "#     tf.summary.histogram('histogram', var)"
   ]
  },
  {
   "cell_type": "markdown",
   "metadata": {
    "collapsed": true
   },
   "source": [
    "# Number of neurons , filters and layers"
   ]
  },
  {
   "cell_type": "code",
   "execution_count": 3,
   "metadata": {},
   "outputs": [
    {
     "name": "stdout",
     "output_type": "stream",
     "text": [
      "2048\n"
     ]
    }
   ],
   "source": [
    "# Define the parameters of the network\n",
    "\n",
    "#-----------ACC 0.774 *** score 81----------------\n",
    "nx_conv1=16      # filter_width (frequency)\n",
    "my_conv1=4   # filter_height (time)\n",
    "dnx_conv1=4    # stride_width\n",
    "dmy_conv1=1    # stride_height\n",
    "\n",
    "nx_pool1=4      # pooling width\n",
    "my_pool1=1      # pooling height\n",
    "\n",
    "channels_conv1=64    # channels num\n",
    "\n",
    "nx_conv2=2\n",
    "my_conv2=16\n",
    "dnx_conv2=1\n",
    "dmy_conv2=8\n",
    "\n",
    "nx_pool2=2\n",
    "my_pool2=1\n",
    "\n",
    "\n",
    "channels_conv2=32\n",
    "\n",
    "size_input_fc1=int(128*128*channels_conv2/dnx_conv1/dmy_conv1/dnx_conv2/dmy_conv2/nx_pool1/my_pool1/nx_pool2/my_pool2)\n",
    "num_neurons_fc1=128\n",
    "\n",
    "print(size_input_fc1)\n",
    "\n",
    "\n",
    "\n",
    "\n",
    "# nx_conv1=16      # filter_width (frequency)\n",
    "# my_conv1=4   # filter_height (time)\n",
    "# dnx_conv1=1    # stride_width\n",
    "# dmy_conv1=2    # stride_height\n",
    "\n",
    "# nx_pool1=4      # pooling width\n",
    "# my_pool1=2      # pooling height\n",
    "\n",
    "# channels_conv1=32    # channels num\n",
    "\n",
    "# nx_conv2=2\n",
    "# my_conv2=16\n",
    "# dnx_conv2=1\n",
    "# dmy_conv2=8\n",
    "\n",
    "# nx_pool2=2\n",
    "# my_pool2=1\n",
    "\n",
    "\n",
    "# channels_conv2=8\n",
    "\n",
    "# size_input_fc1=int(128*128*channels_conv2/dnx_conv1/dmy_conv1/dnx_conv2/dmy_conv2/nx_pool1/my_pool1/nx_pool2/my_pool2)\n",
    "# num_neurons_fc1=64\n",
    "\n",
    "# print(size_input_fc1)"
   ]
  },
  {
   "cell_type": "code",
   "execution_count": null,
   "metadata": {
    "collapsed": true
   },
   "outputs": [],
   "source": []
  },
  {
   "cell_type": "code",
   "execution_count": null,
   "metadata": {
    "collapsed": true
   },
   "outputs": [],
   "source": []
  },
  {
   "cell_type": "code",
   "execution_count": null,
   "metadata": {
    "collapsed": true,
    "scrolled": true
   },
   "outputs": [],
   "source": []
  },
  {
   "cell_type": "code",
   "execution_count": null,
   "metadata": {
    "collapsed": true
   },
   "outputs": [],
   "source": []
  },
  {
   "cell_type": "markdown",
   "metadata": {
    "collapsed": true
   },
   "source": [
    "# Network Structure"
   ]
  },
  {
   "cell_type": "code",
   "execution_count": 4,
   "metadata": {
    "collapsed": true
   },
   "outputs": [],
   "source": [
    "x = tf.placeholder(\"float\", shape=[None, 128*128])\n",
    "y_ = tf.placeholder(\"float\", shape=[None, 2])\n",
    "\n",
    "\n",
    "x_image = tf.reshape(x, [-1,128,128,1])\n",
    "\n",
    "W_conv1 = weight_variable([nx_conv1,my_conv1,1,channels_conv1])\n",
    "b_conv1 = bias_variable([channels_conv1])\n",
    "\n",
    "\n",
    "h_conv1 = tf.nn.relu(conv2d(x_image, W_conv1, dnx_conv1, dmy_conv1 ) + b_conv1)\n",
    "h_pool1 = max_pool_axb(h_conv1, nx_pool1, my_pool1)\n",
    "\n",
    "\n",
    "W_conv2 = weight_variable([nx_conv2, my_conv2, channels_conv1, channels_conv2])\n",
    "b_conv2 = bias_variable([channels_conv2])\n",
    "\n",
    "h_conv2 = tf.nn.relu(conv2d(h_pool1, W_conv2, dnx_conv2, dmy_conv2 ) + b_conv2)\n",
    "h_pool2 = max_pool_axb(h_conv2, nx_pool2, my_pool2)\n",
    "\n",
    "\n",
    "\n",
    "W_fc1 = weight_variable([size_input_fc1, num_neurons_fc1])\n",
    "b_fc1 = bias_variable([num_neurons_fc1])\n",
    "\n",
    "h_pool2_flat = tf.reshape(h_pool2, [-1, size_input_fc1])\n",
    "h_fc1 = tf.nn.relu(tf.matmul(h_pool2_flat, W_fc1) + b_fc1)\n",
    "\n",
    "\n",
    "W_fc2 = weight_variable([num_neurons_fc1, 2])\n",
    "b_fc2 = bias_variable([2])\n",
    "\n",
    "\n",
    "\n",
    "keep_prob = tf.placeholder(\"float\")\n",
    "h_fc1_drop = tf.nn.dropout(h_fc1, keep_prob)\n",
    "\n",
    "y_conv=tf.nn.softmax(tf.matmul(h_fc1_drop, W_fc2) + b_fc2)\n",
    "\n",
    "\n",
    "\n",
    "cross_entropy = -tf.reduce_sum(y_*tf.log(y_conv))\n",
    "train_step = tf.train.AdamOptimizer(1e-4).minimize(cross_entropy)\n",
    "correct_prediction = tf.equal(tf.argmax(y_conv,1), tf.argmax(y_,1))\n",
    "accuracy = tf.reduce_mean(tf.cast(correct_prediction, \"float\"))\n"
   ]
  },
  {
   "cell_type": "code",
   "execution_count": null,
   "metadata": {
    "collapsed": true
   },
   "outputs": [],
   "source": []
  },
  {
   "cell_type": "code",
   "execution_count": null,
   "metadata": {
    "collapsed": true
   },
   "outputs": [],
   "source": []
  },
  {
   "cell_type": "code",
   "execution_count": null,
   "metadata": {
    "collapsed": true
   },
   "outputs": [],
   "source": []
  },
  {
   "cell_type": "code",
   "execution_count": null,
   "metadata": {
    "collapsed": true
   },
   "outputs": [],
   "source": []
  },
  {
   "cell_type": "code",
   "execution_count": null,
   "metadata": {
    "collapsed": true
   },
   "outputs": [],
   "source": []
  },
  {
   "cell_type": "markdown",
   "metadata": {
    "collapsed": true
   },
   "source": [
    "# Read test data and initialize the session"
   ]
  },
  {
   "cell_type": "code",
   "execution_count": 5,
   "metadata": {
    "collapsed": true
   },
   "outputs": [],
   "source": [
    "testData=sio.loadmat('C:/OSU/SongMat/Test/532522 SakiZ - osu!memories.mat')\n",
    "inputTest=testData['input'].reshape(-1,128*128)\n",
    "targetTest=testData['target'].reshape(-1,4)\n",
    "targetTest2=np.zeros([targetTest.shape[0],2])\n",
    "targetTest2[:,0]=targetTest[:,0]+targetTest[:,1]+targetTest[:,2]\n",
    "targetTest2[:,1]=targetTest[:,3]\n",
    "NTest=targetTest2.shape[0]"
   ]
  },
  {
   "cell_type": "code",
   "execution_count": 6,
   "metadata": {
    "collapsed": true
   },
   "outputs": [],
   "source": [
    "sess.run(tf.global_variables_initializer())"
   ]
  },
  {
   "cell_type": "code",
   "execution_count": 7,
   "metadata": {
    "collapsed": true,
    "scrolled": false
   },
   "outputs": [],
   "source": [
    "saver = tf.train.Saver()\n"
   ]
  },
  {
   "cell_type": "code",
   "execution_count": 8,
   "metadata": {
    "scrolled": false
   },
   "outputs": [
    {
     "name": "stdout",
     "output_type": "stream",
     "text": [
      "18000\n",
      "test accuracy 0.723333\n",
      "[[ 0.41316518  0.58683485]\n",
      " [ 0.50531179  0.49468827]\n",
      " [ 0.63240176  0.3675983 ]\n",
      " [ 0.53369981  0.46630025]\n",
      " [ 0.58193076  0.41806924]\n",
      " [ 0.39043236  0.60956764]\n",
      " [ 0.33859834  0.66140163]\n",
      " [ 0.55260098  0.44739896]\n",
      " [ 0.77868265  0.22131734]\n",
      " [ 0.57070756  0.42929238]]\n",
      "1\n",
      "17019\n",
      "test accuracy 0.77\n",
      "[[ 0.39401144  0.60598862]\n",
      " [ 0.5230726   0.47692743]\n",
      " [ 0.71392488  0.28607515]\n",
      " [ 0.57351834  0.42648163]\n",
      " [ 0.81712407  0.18287595]\n",
      " [ 0.37666857  0.62333149]\n",
      " [ 0.58702743  0.41297251]\n",
      " [ 0.717987    0.28201303]\n",
      " [ 0.40262568  0.59737438]\n",
      " [ 0.76767254  0.23232745]]\n",
      "3\n",
      "16906\n",
      "test accuracy 0.693333\n",
      "[[ 0.59104335  0.40895665]\n",
      " [ 0.25222388  0.74777615]\n",
      " [ 0.52334684  0.47665316]\n",
      " [ 0.47581175  0.52418822]\n",
      " [ 0.54920012  0.45079982]\n",
      " [ 0.35920414  0.64079589]\n",
      " [ 0.66333389  0.33666614]\n",
      " [ 0.55432725  0.44567272]\n",
      " [ 0.50293899  0.49706104]\n",
      " [ 0.06326719  0.93673277]]\n",
      "5\n",
      "17923\n",
      "test accuracy 0.73\n",
      "[[ 0.61896402  0.38103601]\n",
      " [ 0.86170495  0.13829505]\n",
      " [ 0.96710783  0.03289225]\n",
      " [ 0.65672272  0.34327736]\n",
      " [ 0.96954018  0.03045987]\n",
      " [ 0.81744641  0.1825536 ]\n",
      " [ 0.14010081  0.85989916]\n",
      " [ 0.56011385  0.43988612]\n",
      " [ 0.84188563  0.15811443]\n",
      " [ 0.45712364  0.54287642]]\n",
      "7\n",
      "16079\n",
      "test accuracy 0.753333\n",
      "[[ 0.85843515  0.14156485]\n",
      " [ 0.02177574  0.97822434]\n",
      " [ 0.65034616  0.34965393]\n",
      " [ 0.01365497  0.98634505]\n",
      " [ 0.39980069  0.60019922]\n",
      " [ 0.4276562   0.57234377]\n",
      " [ 0.15423052  0.84576946]\n",
      " [ 0.78770912  0.21229091]\n",
      " [ 0.21238387  0.78761613]\n",
      " [ 0.16223779  0.83776224]]\n",
      "9\n",
      "17316\n",
      "test accuracy 0.726667\n",
      "[[ 0.91747904  0.08252098]\n",
      " [ 0.9907856   0.00921443]\n",
      " [ 0.70007706  0.29992297]\n",
      " [ 0.81108183  0.18891822]\n",
      " [ 0.81904882  0.18095119]\n",
      " [ 0.30985183  0.69014823]\n",
      " [ 0.3173762   0.6826238 ]\n",
      " [ 0.86235327  0.13764669]\n",
      " [ 0.04122047  0.95877957]\n",
      " [ 0.94132179  0.05867821]]\n",
      "11\n",
      "14253\n",
      "test accuracy 0.8\n",
      "[[ 0.75975978  0.24024025]\n",
      " [ 0.53751779  0.46248218]\n",
      " [ 0.63502401  0.36497602]\n",
      " [ 0.24547167  0.75452828]\n",
      " [ 0.83135414  0.16864586]\n",
      " [ 0.60348403  0.39651591]\n",
      " [ 0.56053579  0.43946421]\n",
      " [ 0.546166    0.45383406]\n",
      " [ 0.58090824  0.4190917 ]\n",
      " [ 0.94244057  0.05755937]]\n",
      "13\n",
      "14052\n",
      "test accuracy 0.78\n",
      "[[ 0.81954968  0.18045029]\n",
      " [ 0.40073034  0.59926969]\n",
      " [ 0.8792941   0.12070588]\n",
      " [ 0.7800101   0.21998982]\n",
      " [ 0.79284757  0.20715246]\n",
      " [ 0.17801356  0.82198638]\n",
      " [ 0.17955783  0.8204422 ]\n",
      " [ 0.5903964   0.40960369]\n",
      " [ 0.45144904  0.54855096]\n",
      " [ 0.29980433  0.70019573]]\n",
      "15\n",
      "17782\n",
      "test accuracy 0.753333\n",
      "[[ 0.12050836  0.87949163]\n",
      " [ 0.86214095  0.13785905]\n",
      " [ 0.16319838  0.83680159]\n",
      " [ 0.38007447  0.61992556]\n",
      " [ 0.18986818  0.81013185]\n",
      " [ 0.82966882  0.17033117]\n",
      " [ 0.81392354  0.18607643]\n",
      " [ 0.67341119  0.32658881]\n",
      " [ 0.79349887  0.20650116]\n",
      " [ 0.82926333  0.17073669]]\n",
      "17\n",
      "14950\n",
      "test accuracy 0.816667\n",
      "[[ 0.44816214  0.55183786]\n",
      " [ 0.9760282   0.02397176]\n",
      " [ 0.91629285  0.08370712]\n",
      " [ 0.42135891  0.57864112]\n",
      " [ 0.23881264  0.76118743]\n",
      " [ 0.12377948  0.87622058]\n",
      " [ 0.72804129  0.27195871]\n",
      " [ 0.7533794   0.24662058]\n",
      " [ 0.44491744  0.5550825 ]\n",
      " [ 0.66077673  0.33922327]]\n",
      "19\n"
     ]
    }
   ],
   "source": [
    "step_size=200\n",
    " \n",
    "dataList=os.listdir('C:/OSU/SongMat/Train/')\n",
    "acc=np.zeros([1000,1])\n",
    "\n",
    "\n",
    "tf.summary.scalar('accuracy', accuracy)\n",
    "tf.summary.scalar('cross_entropy',cross_entropy)\n",
    "\n",
    "merged = tf.summary.merge_all()\n",
    "train_writer = tf.summary.FileWriter('D:/MATLAB/OSU/OSU-automapping/Train/log/train',sess.graph)\n",
    "test_writer = tf.summary.FileWriter('D:/MATLAB/OSU/OSU-automapping/Train/log/test')\n",
    "\n",
    "\n",
    "n = 1\n",
    "total_steps = 0\n",
    "\n",
    "while n < np.size(dataList)-15:\n",
    "    inputOsu=np.empty([0,128*128])\n",
    "    targetOsu=np.empty([0,4])\n",
    "    for k in range(n,n+15):\n",
    "        \n",
    "        data=sio.loadmat('C:/OSU/SongMat/Train/'+dataList[k])\n",
    "        inputOsu=np.append(inputOsu,data['input1'].reshape(-1,128*128),axis=0)\n",
    "        targetOsu=np.append(targetOsu,data['target1'].reshape(-1,4),axis=0)\n",
    "               \n",
    "    targetOsu2=np.zeros([targetOsu.shape[0],2]);\n",
    "    targetOsu2[:,0]=targetOsu[:,0]+targetOsu[:,1]+targetOsu[:,2]\n",
    "    targetOsu2[:,1]=targetOsu[:,3]\n",
    "        \n",
    "    N=targetOsu.shape[0]\n",
    "    print(N)\n",
    "    \n",
    "    #shuffle the order\n",
    "    order = np.arange(N-step_size)\n",
    "    np.random.shuffle(order)\n",
    "    \n",
    "    for i in range(N-step_size):\n",
    "        if i%step_size == 0:\n",
    "            train_accuracy = accuracy.eval(feed_dict={x: inputOsu[order[i:i+step_size],:], y_: targetOsu2[order[i:i+step_size],:], keep_prob: 1.0})\n",
    "#             print(\"step %d, training accuracy %g\" %(i, train_accuracy))\n",
    "#             train_step.run(feed_dict={x: inputOsu[order[i:i+step_size],:], y_: targetOsu2[order[i:i+step_size],:], keep_prob: 0.5})\n",
    "            [summary,accTrain,_]=sess.run([merged,accuracy,train_step],feed_dict={x: inputOsu[order[i:i+step_size],:], y_: targetOsu2[order[i:i+step_size],:], keep_prob: 0.5})\n",
    "            test_writer.add_summary(summary, i + total_steps)\n",
    "#         else:\n",
    "#             train_writer.add_summary(summary, i + total_steps)\n",
    "                \n",
    "    total_steps += i\n",
    "    \n",
    "    \n",
    "    \n",
    "    # Test accuracy\n",
    "    orderAcc = np.arange(NTest)\n",
    "    np.random.shuffle(orderAcc)\n",
    "    accTest=accuracy.eval(feed_dict={x: inputTest[orderAcc[0:300],:], y_: targetTest2[orderAcc[0:300],:], keep_prob: 1.0});\n",
    "#     print(\"train accuracy %g\"%accTrain)\n",
    "    print(\"test accuracy %g\"%accTest)\n",
    "    \n",
    "    print(y_conv.eval(feed_dict={x: inputTest[orderAcc[0:10],:], keep_prob: 1.0}))\n",
    "    acc[n]=accTest\n",
    "    print(n)\n",
    "    if acc[n]>0.8:\n",
    "        break\n",
    "    n=n+2\n",
    "        "
   ]
  },
  {
   "cell_type": "code",
   "execution_count": 9,
   "metadata": {
    "collapsed": true
   },
   "outputs": [],
   "source": [
    "save_path = saver.save(sess, \"D:/OSU/results/save/\",global_step=n)"
   ]
  },
  {
   "cell_type": "code",
   "execution_count": null,
   "metadata": {
    "scrolled": false
   },
   "outputs": [],
   "source": []
  },
  {
   "cell_type": "code",
   "execution_count": 15,
   "metadata": {
    "scrolled": false
   },
   "outputs": [
    {
     "name": "stdout",
     "output_type": "stream",
     "text": [
      "[[ 0.89312273  0.10687725]\n",
      " [ 0.13231808  0.86768192]\n",
      " [ 0.83766711  0.16233288]\n",
      " [ 0.11474381  0.88525617]\n",
      " [ 0.94524682  0.05475314]\n",
      " [ 0.17703737  0.82296264]\n",
      " [ 0.85409832  0.14590164]\n",
      " [ 0.08433885  0.91566116]\n",
      " [ 0.7984978   0.2015022 ]\n",
      " [ 0.07161344  0.92838663]]\n",
      "test accuracy 0.56\n"
     ]
    }
   ],
   "source": [
    "print(y_conv.eval(feed_dict={x: inputOsu[200:210:1,:], keep_prob: 1.0}))\n",
    "print (\"test accuracy %g\"%accuracy.eval(feed_dict={\n",
    "  x: inputTest[orderAcc[0:300],:], y_: targetOsu2[orderAcc[0:300],:], keep_prob: 1.0}))"
   ]
  },
  {
   "cell_type": "code",
   "execution_count": 12,
   "metadata": {
    "scrolled": false
   },
   "outputs": [
    {
     "name": "stdout",
     "output_type": "stream",
     "text": [
      "['D:\\\\Program Files (x86)\\\\osu!\\\\Songs\\\\532522 SakiZ - osu!memories\\\\']\n",
      "test accuracy 0.668\n"
     ]
    }
   ],
   "source": [
    "# Save the output of new maps \n",
    "\n",
    "dataList=os.listdir('C:/OSU/SongMat/Create/')\n",
    "# inputOsuNew=np.empty([0,128*128]);\n",
    "for i in range(np.size(dataList)):\n",
    "    if not dataList[i][0]=='y':\n",
    "        data=sio.loadmat('C:/OSU/SongMat/Create/'+dataList[i])\n",
    "        print(data['osuFolder'])\n",
    "        \n",
    "        inputOsuNew=data['input'].reshape(-1,128*128)\n",
    "        outputOsuNew=data['target']\n",
    "        outputOsu2New=np.zeros([outputOsuNew.shape[0],2]);\n",
    "        outputOsu2New[:,0]=outputOsuNew[:,0]+outputOsuNew[:,1]+outputOsuNew[:,2]\n",
    "        outputOsu2New[:,1]=outputOsuNew[:,3]\n",
    "        \n",
    "        y_result=np.empty([0,2])\n",
    "        \n",
    "        step_size=500\n",
    "        cursor=0\n",
    "        print (\"test accuracy %g\"%accuracy.eval(feed_dict={x: inputOsuNew[-500:,:], y_: outputOsu2New[-500:,:], keep_prob: 1.0}))\n",
    "        while cursor<inputOsuNew.shape[0]:\n",
    "            if inputOsuNew[cursor:,:].shape[0]>step_size:\n",
    "                y_result1=y_conv.eval(feed_dict={x: inputOsuNew[cursor:(cursor+step_size):1,:], keep_prob: 1.0})\n",
    "                y_result=np.append(y_result,y_result1,axis=0)\n",
    "            else:\n",
    "                y_result1=y_conv.eval(feed_dict={x: inputOsuNew[cursor:(cursor+step_size):1,:], keep_prob: 1.0})\n",
    "                y_result=np.append(y_result,y_result1,axis=0)\n",
    "            cursor+=step_size\n",
    "            \n",
    "        data_save={'y2':y_result}\n",
    "        sio.savemat('C:/OSU/SongMat/Create/y2_'+dataList[i],data_save)\n"
   ]
  },
  {
   "cell_type": "code",
   "execution_count": null,
   "metadata": {
    "collapsed": true
   },
   "outputs": [],
   "source": []
  },
  {
   "cell_type": "code",
   "execution_count": null,
   "metadata": {
    "collapsed": true
   },
   "outputs": [],
   "source": []
  },
  {
   "cell_type": "markdown",
   "metadata": {
    "collapsed": true,
    "scrolled": false
   },
   "source": []
  },
  {
   "cell_type": "code",
   "execution_count": null,
   "metadata": {
    "collapsed": true
   },
   "outputs": [],
   "source": [
    "data_save={'y':y_result}\n",
    "sio.savemat('D:/OSU/results/innocence/y_innocence.mat',data_save)"
   ]
  },
  {
   "cell_type": "code",
   "execution_count": null,
   "metadata": {
    "collapsed": true
   },
   "outputs": [],
   "source": []
  },
  {
   "cell_type": "code",
   "execution_count": null,
   "metadata": {
    "collapsed": true
   },
   "outputs": [],
   "source": []
  },
  {
   "cell_type": "code",
   "execution_count": null,
   "metadata": {
    "collapsed": true
   },
   "outputs": [],
   "source": []
  },
  {
   "cell_type": "code",
   "execution_count": null,
   "metadata": {
    "collapsed": true
   },
   "outputs": [],
   "source": [
    "checkpoint_dir='D:/OSU/results/innocence/save/'\n",
    "ckpt = tf.train.get_checkpoint_state(checkpoint_dir)  \n",
    "saver.restore(sess, ckpt.model_checkpoint_path)  "
   ]
  },
  {
   "cell_type": "code",
   "execution_count": null,
   "metadata": {
    "collapsed": true
   },
   "outputs": [],
   "source": [
    "saver2 = tf.train.Saver()"
   ]
  },
  {
   "cell_type": "code",
   "execution_count": null,
   "metadata": {
    "collapsed": true
   },
   "outputs": [],
   "source": [
    "checkpoint_dir='/Users/dongqihan/Desktop/FrOstNova/save/'\n",
    "ckpt = tf.train.get_checkpoint_state(checkpoint_dir)  \n",
    "saver2.restore(sess, ckpt.model_checkpoint_path)  "
   ]
  },
  {
   "cell_type": "code",
   "execution_count": null,
   "metadata": {
    "collapsed": true
   },
   "outputs": [],
   "source": []
  },
  {
   "cell_type": "code",
   "execution_count": null,
   "metadata": {
    "collapsed": true
   },
   "outputs": [],
   "source": [
    "a = tf.constant([1.0, 2.0, 3.0, 4.0, 5.0, 6.0], shape=[2, 3], name='a')\n",
    "b = tf.constant([1.0, 2.0, 3.0, 4.0, 5.0, 6.0], shape=[3, 2], name='b')\n",
    "c = tf.matmul(a, b)\n",
    "# Creates a session with log_device_placement set to True.\n",
    "sess_tmp = tf.Session(config=tf.ConfigProto(log_device_placement=True))\n",
    "# Runs the op.\n",
    "print(sess_tmp.run(c))"
   ]
  },
  {
   "cell_type": "code",
   "execution_count": null,
   "metadata": {
    "collapsed": true
   },
   "outputs": [],
   "source": [
    "data_test=sio.loadmat('/Users/dongqihan/Desktop/FrOstNova/granat.mat')\n",
    "inputOsu_test=data_test['input'].reshape(-1,128*128)\n",
    "y_result_test=y_conv.eval(feed_dict={x: inputOsu_test, keep_prob: 1.0})\n",
    "data={'y':y_result_test}\n",
    "sio.savemat('/Users/dongqihan/Desktop/FrOstNova/y_memory2granat.mat',data)"
   ]
  }
 ],
 "metadata": {
  "kernelspec": {
   "display_name": "Python 3",
   "language": "python",
   "name": "python3"
  },
  "language_info": {
   "codemirror_mode": {
    "name": "ipython",
    "version": 3
   },
   "file_extension": ".py",
   "mimetype": "text/x-python",
   "name": "python",
   "nbconvert_exporter": "python",
   "pygments_lexer": "ipython3",
   "version": "3.5.4"
  }
 },
 "nbformat": 4,
 "nbformat_minor": 2
}
