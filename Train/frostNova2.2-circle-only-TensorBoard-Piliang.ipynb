{
 "cells": [
  {
   "cell_type": "code",
   "execution_count": 1,
   "metadata": {
    "collapsed": true
   },
   "outputs": [],
   "source": [
    "import tensorflow as tf\n",
    "import scipy.io as sio\n",
    "import matplotlib.pyplot as plt\n",
    "sess = tf.InteractiveSession()\n",
    "import os\n",
    "import numpy as np"
   ]
  },
  {
   "cell_type": "code",
   "execution_count": 2,
   "metadata": {
    "collapsed": true
   },
   "outputs": [],
   "source": [
    "# Define functions\n",
    "\n",
    "def conv2d(x, W, dy ,dx):\n",
    "  return tf.nn.conv2d(x, W, strides=[1, dx, dy, 1], padding='SAME')\n",
    "\n",
    "def max_pool_axb(x,a,b):\n",
    "  return tf.nn.max_pool(x, ksize=[1, a, b, 1],\n",
    "                        strides=[1, a, b, 1], padding='SAME')\n",
    "\n",
    "def weight_variable(shape):\n",
    "  initial = tf.truncated_normal(shape, stddev=0.1)\n",
    "  return tf.Variable(initial)\n",
    "\n",
    "def bias_variable(shape):\n",
    "  initial = tf.constant(0.1, shape=shape)\n",
    "  return tf.Variable(initial)"
   ]
  },
  {
   "cell_type": "code",
   "execution_count": null,
   "metadata": {
    "collapsed": true
   },
   "outputs": [],
   "source": []
  },
  {
   "cell_type": "code",
   "execution_count": 3,
   "metadata": {},
   "outputs": [
    {
     "name": "stdout",
     "output_type": "stream",
     "text": [
      "1024\n"
     ]
    }
   ],
   "source": [
    "# Define the parameters of the network\n",
    "\n",
    "#-----------ACC 0.774 *** score 81----------------\n",
    "nx_conv1=16      # filter_width (frequency)\n",
    "my_conv1=4   # filter_height (time)\n",
    "dnx_conv1=4    # stride_width\n",
    "dmy_conv1=1    # stride_height\n",
    "\n",
    "nx_pool1=4      # pooling width\n",
    "my_pool1=1      # pooling height\n",
    "\n",
    "channels_conv1=32    # channels num\n",
    "\n",
    "nx_conv2=2\n",
    "my_conv2=16\n",
    "dnx_conv2=1\n",
    "dmy_conv2=8\n",
    "\n",
    "nx_pool2=2\n",
    "my_pool2=1\n",
    "\n",
    "\n",
    "channels_conv2=16\n",
    "\n",
    "size_input_fc1=int(128*128*channels_conv2/dnx_conv1/dmy_conv1/dnx_conv2/dmy_conv2/nx_pool1/my_pool1/nx_pool2/my_pool2)\n",
    "num_neurons_fc1=64\n",
    "\n",
    "print(size_input_fc1)"
   ]
  },
  {
   "cell_type": "code",
   "execution_count": 4,
   "metadata": {
    "collapsed": true
   },
   "outputs": [],
   "source": [
    "# Define the parameters of the network\n",
    "\n",
    "\n",
    "\n",
    "#-----------ACC 0.774 *** score 81----------------\n",
    "# nx_conv1=16      # filter_width (frequency)\n",
    "# my_conv1=4   # filter_height (time)\n",
    "# dnx_conv1=4    # stride_width\n",
    "# dmy_conv1=1    # stride_height\n",
    "\n",
    "# nx_pool1=4      # pooling width\n",
    "# my_pool1=1      # pooling height\n",
    "\n",
    "# channels_conv1=32    # channels num\n",
    "\n",
    "# nx_conv2=2\n",
    "# my_conv2=16\n",
    "# dnx_conv2=1\n",
    "# dmy_conv2=8\n",
    "\n",
    "# nx_pool2=2\n",
    "# my_pool2=1\n",
    "\n",
    "\n",
    "# channels_conv2=16\n",
    "\n",
    "# size_input_fc1=int(128*128*channels_conv2/dnx_conv1/dmy_conv1/dnx_conv2/dmy_conv2/nx_pool1/my_pool1/nx_pool2/my_pool2)\n",
    "# num_neurons_fc1=64\n",
    "\n",
    "# print(size_input_fc1)\n",
    "\n",
    "#-----------ACC 0.65 *** score 74----------------\n",
    "# nx_conv1=16      # filter_width\n",
    "# my_conv1=4   # filter_height\n",
    "# dnx_conv1=4    # stride_width\n",
    "# dmy_conv1=1    # stride_height\n",
    "\n",
    "# nx_pool1=4      # pooling width\n",
    "# my_pool1=4      # pooling height\n",
    "\n",
    "# channels_conv1=32    # channels num\n",
    "\n",
    "# nx_conv2=2\n",
    "# my_conv2=16\n",
    "# dnx_conv2=1\n",
    "# dmy_conv2=8\n",
    "\n",
    "# nx_pool2=2\n",
    "# my_pool2=2\n",
    "\n",
    "\n",
    "# channels_conv2=4\n",
    "\n",
    "# size_input_fc1=int(128*128*channels_conv2/dnx_conv1/dmy_conv1/dnx_conv2/dmy_conv2/nx_pool1/my_pool1/nx_pool2/my_pool2)\n",
    "# num_neurons_fc1=32\n",
    "\n",
    "# print(size_input_fc1)\n",
    "\n",
    "#--------------ACC 0.64  acore 69--------------\n",
    "# nx_conv1=8      # filter_width\n",
    "# my_conv1=8  # filter_height\n",
    "# dnx_conv1=2    # stride_width\n",
    "# dmy_conv1=2    # stride_height\n",
    "\n",
    "# nx_pool1=2      # pooling width\n",
    "# my_pool1=2      # pooling height\n",
    "\n",
    "# channels_conv1=32    # channels num\n",
    "\n",
    "# nx_conv2=4\n",
    "# my_conv2=4\n",
    "# dnx_conv2=2\n",
    "# dmy_conv2=2\n",
    "\n",
    "# nx_pool2=2\n",
    "# my_pool2=2\n",
    "\n",
    "\n",
    "# channels_conv2=4\n",
    "\n",
    "# size_input_fc1=int(128*128*channels_conv2/dnx_conv1/dmy_conv1/dnx_conv2/dmy_conv2/nx_pool1/my_pool1/nx_pool2/my_pool2)\n",
    "# num_neurons_fc1=32\n",
    "\n",
    "# print(size_input_fc1)\n",
    "\n"
   ]
  },
  {
   "cell_type": "code",
   "execution_count": null,
   "metadata": {
    "collapsed": true
   },
   "outputs": [],
   "source": []
  },
  {
   "cell_type": "code",
   "execution_count": null,
   "metadata": {
    "collapsed": true,
    "scrolled": true
   },
   "outputs": [],
   "source": []
  },
  {
   "cell_type": "code",
   "execution_count": null,
   "metadata": {
    "collapsed": true
   },
   "outputs": [],
   "source": []
  },
  {
   "cell_type": "code",
   "execution_count": null,
   "metadata": {
    "collapsed": true
   },
   "outputs": [],
   "source": []
  },
  {
   "cell_type": "code",
   "execution_count": 5,
   "metadata": {
    "collapsed": true
   },
   "outputs": [],
   "source": [
    "x = tf.placeholder(\"float\", shape=[None, 128*128])\n",
    "y_ = tf.placeholder(\"float\", shape=[None, 2])\n",
    "\n",
    "\n",
    "x_image = tf.reshape(x, [-1,128,128,1])\n",
    "\n",
    "W_conv1 = weight_variable([nx_conv1,my_conv1,1,channels_conv1])\n",
    "b_conv1 = bias_variable([channels_conv1])\n",
    "\n",
    "\n",
    "h_conv1 = tf.nn.relu(conv2d(x_image, W_conv1, dnx_conv1, dmy_conv1 ) + b_conv1)\n",
    "h_pool1 = max_pool_axb(h_conv1, nx_pool1, my_pool1)\n",
    "\n",
    "\n",
    "W_conv2 = weight_variable([nx_conv2, my_conv2, channels_conv1, channels_conv2])\n",
    "b_conv2 = bias_variable([channels_conv2])\n",
    "\n",
    "h_conv2 = tf.nn.relu(conv2d(h_pool1, W_conv2, dnx_conv2, dmy_conv2 ) + b_conv2)\n",
    "h_pool2 = max_pool_axb(h_conv2, nx_pool2, my_pool2)\n",
    "\n",
    "\n",
    "\n",
    "W_fc1 = weight_variable([size_input_fc1, num_neurons_fc1])\n",
    "b_fc1 = bias_variable([num_neurons_fc1])\n",
    "\n",
    "h_pool2_flat = tf.reshape(h_pool2, [-1, size_input_fc1])\n",
    "h_fc1 = tf.nn.relu(tf.matmul(h_pool2_flat, W_fc1) + b_fc1)\n",
    "\n",
    "\n",
    "W_fc2 = weight_variable([num_neurons_fc1, 2])\n",
    "b_fc2 = bias_variable([2])\n",
    "\n",
    "\n",
    "\n",
    "keep_prob = tf.placeholder(\"float\")\n",
    "h_fc1_drop = tf.nn.dropout(h_fc1, keep_prob)\n",
    "\n",
    "y_conv=tf.nn.softmax(tf.matmul(h_fc1_drop, W_fc2) + b_fc2)\n",
    "\n",
    "\n",
    "\n",
    "cross_entropy = -tf.reduce_sum(y_*tf.log(y_conv))\n",
    "train_step = tf.train.AdamOptimizer(3e-5).minimize(cross_entropy)\n",
    "correct_prediction = tf.equal(tf.argmax(y_conv,1), tf.argmax(y_,1))\n",
    "accuracy = tf.reduce_mean(tf.cast(correct_prediction, \"float\"))\n"
   ]
  },
  {
   "cell_type": "code",
   "execution_count": null,
   "metadata": {
    "collapsed": true
   },
   "outputs": [],
   "source": []
  },
  {
   "cell_type": "code",
   "execution_count": null,
   "metadata": {
    "collapsed": true
   },
   "outputs": [],
   "source": []
  },
  {
   "cell_type": "code",
   "execution_count": null,
   "metadata": {
    "collapsed": true
   },
   "outputs": [],
   "source": []
  },
  {
   "cell_type": "code",
   "execution_count": null,
   "metadata": {
    "collapsed": true
   },
   "outputs": [],
   "source": []
  },
  {
   "cell_type": "code",
   "execution_count": null,
   "metadata": {
    "collapsed": true
   },
   "outputs": [],
   "source": []
  },
  {
   "cell_type": "code",
   "execution_count": null,
   "metadata": {
    "collapsed": true
   },
   "outputs": [],
   "source": []
  },
  {
   "cell_type": "code",
   "execution_count": 6,
   "metadata": {
    "collapsed": true
   },
   "outputs": [],
   "source": [
    "#sess.run(tf.initialize_all_variables())  \n"
   ]
  },
  {
   "cell_type": "code",
   "execution_count": 7,
   "metadata": {
    "collapsed": true
   },
   "outputs": [],
   "source": [
    "\n",
    "\n",
    "# merged = tf.summary.merge_all()\n",
    "# train_writer = tf.summary.FileWriter('/train',sess.graph)\n",
    "# test_writer = tf.summary.FileWriter('/test')\n",
    "# tf.global_variables_initializer().run()\n",
    "\n",
    "sess.run(tf.global_variables_initializer())\n"
   ]
  },
  {
   "cell_type": "code",
   "execution_count": 8,
   "metadata": {
    "collapsed": true,
    "scrolled": false
   },
   "outputs": [],
   "source": [
    "saver = tf.train.Saver()\n"
   ]
  },
  {
   "cell_type": "code",
   "execution_count": 9,
   "metadata": {
    "scrolled": true
   },
   "outputs": [
    {
     "name": "stdout",
     "output_type": "stream",
     "text": [
      "25742\n",
      "test accuracy 0.538\n",
      "[[ 0.46516681  0.53483325]\n",
      " [ 0.41985855  0.58014143]\n",
      " [ 0.46549046  0.53450948]\n",
      " [ 0.45879862  0.54120141]\n",
      " [ 0.45064983  0.54935008]\n",
      " [ 0.46373224  0.53626776]\n",
      " [ 0.44861829  0.55138171]\n",
      " [ 0.4350369   0.5649631 ]\n",
      " [ 0.43798897  0.56201112]\n",
      " [ 0.46423569  0.53576434]]\n",
      "27986\n",
      "test accuracy 0.584\n",
      "[[ 0.60535336  0.39464658]\n",
      " [ 0.50095713  0.49904293]\n",
      " [ 0.53938818  0.46061176]\n",
      " [ 0.53048933  0.46951061]\n",
      " [ 0.5612613   0.43873867]\n",
      " [ 0.55776131  0.44223869]\n",
      " [ 0.60576111  0.39423892]\n",
      " [ 0.55067295  0.44932708]\n",
      " [ 0.5783428   0.42165715]\n",
      " [ 0.55218649  0.44781354]]\n",
      "29354\n",
      "test accuracy 0.682\n",
      "[[ 0.42184013  0.57815987]\n",
      " [ 0.37674102  0.62325895]\n",
      " [ 0.41151893  0.58848113]\n",
      " [ 0.45786485  0.54213506]\n",
      " [ 0.42429134  0.57570863]\n",
      " [ 0.36040133  0.63959867]\n",
      " [ 0.43251303  0.56748694]\n",
      " [ 0.34172711  0.65827292]\n",
      " [ 0.38628402  0.61371595]\n",
      " [ 0.29735762  0.70264232]]\n",
      "29076\n",
      "test accuracy 0.594\n",
      "[[ 0.45683652  0.54316354]\n",
      " [ 0.63488591  0.36511406]\n",
      " [ 0.42732617  0.57267386]\n",
      " [ 0.64061517  0.35938483]\n",
      " [ 0.3414416   0.65855843]\n",
      " [ 0.59878838  0.40121159]\n",
      " [ 0.37238005  0.62761992]\n",
      " [ 0.58209735  0.41790274]\n",
      " [ 0.29366666  0.7063334 ]\n",
      " [ 0.56568062  0.43431935]]\n",
      "28432\n",
      "test accuracy 0.584\n",
      "[[ 0.43287537  0.56712461]\n",
      " [ 0.62285513  0.3771449 ]\n",
      " [ 0.51239747  0.48760244]\n",
      " [ 0.5723052   0.42769474]\n",
      " [ 0.44279155  0.55720842]\n",
      " [ 0.65222299  0.34777695]\n",
      " [ 0.44905517  0.55094475]\n",
      " [ 0.60479808  0.39520192]\n",
      " [ 0.41539633  0.58460367]\n",
      " [ 0.61221498  0.38778493]]\n",
      "28104\n",
      "test accuracy 0.496\n",
      "[[ 0.69825578  0.30174428]\n",
      " [ 0.4352521   0.56474793]\n",
      " [ 0.68065572  0.31934431]\n",
      " [ 0.32364219  0.67635787]\n",
      " [ 0.70546877  0.29453123]\n",
      " [ 0.72333306  0.27666694]\n",
      " [ 0.7104857   0.28951427]\n",
      " [ 0.62602335  0.37397668]\n",
      " [ 0.75225741  0.24774264]\n",
      " [ 0.41996673  0.58003324]]\n",
      "27836\n",
      "test accuracy 0.702\n",
      "[[ 0.51932657  0.48067349]\n",
      " [ 0.50361425  0.49638578]\n",
      " [ 0.63304824  0.36695173]\n",
      " [ 0.53533101  0.46466899]\n",
      " [ 0.62678552  0.37321442]\n",
      " [ 0.57165223  0.42834774]\n",
      " [ 0.57603407  0.42396587]\n",
      " [ 0.50248313  0.49751687]\n",
      " [ 0.49740258  0.50259745]\n",
      " [ 0.55085492  0.44914508]]\n",
      "28570\n",
      "test accuracy 0.66\n",
      "[[ 0.3042773   0.6957227 ]\n",
      " [ 0.80017966  0.19982034]\n",
      " [ 0.28168383  0.71831614]\n",
      " [ 0.79938364  0.20061636]\n",
      " [ 0.26459032  0.73540968]\n",
      " [ 0.79448885  0.20551114]\n",
      " [ 0.33869284  0.6613071 ]\n",
      " [ 0.79079115  0.20920886]\n",
      " [ 0.31326374  0.68673623]\n",
      " [ 0.76547647  0.23452353]]\n",
      "26352\n",
      "test accuracy 0.81\n",
      "[[ 0.66802573  0.33197427]\n",
      " [ 0.50296283  0.49703714]\n",
      " [ 0.4910014   0.50899863]\n",
      " [ 0.65211135  0.34788859]\n",
      " [ 0.48044011  0.51955992]\n",
      " [ 0.6855551   0.3144449 ]\n",
      " [ 0.47726849  0.52273154]\n",
      " [ 0.71008837  0.28991157]\n",
      " [ 0.50997472  0.49002528]\n",
      " [ 0.66933709  0.33066294]]\n",
      "26223\n",
      "test accuracy 0.578\n",
      "[[ 0.34657595  0.65342402]\n",
      " [ 0.38386142  0.61613852]\n",
      " [ 0.39534634  0.60465366]\n",
      " [ 0.432881    0.567119  ]\n",
      " [ 0.37972686  0.62027311]\n",
      " [ 0.38262823  0.61737174]\n",
      " [ 0.39685333  0.60314673]\n",
      " [ 0.38811746  0.61188251]\n",
      " [ 0.39388776  0.60611224]\n",
      " [ 0.415084    0.58491594]]\n",
      "23890\n",
      "test accuracy 0.45\n",
      "[[ 0.20211314  0.79788685]\n",
      " [ 0.23100609  0.76899385]\n",
      " [ 0.23021938  0.76978064]\n",
      " [ 0.22993836  0.77006167]\n",
      " [ 0.18550214  0.81449789]\n",
      " [ 0.28082594  0.71917403]\n",
      " [ 0.21052568  0.78947431]\n",
      " [ 0.23297077  0.76702929]\n",
      " [ 0.18366125  0.81633878]\n",
      " [ 0.24914367  0.7508564 ]]\n",
      "22111\n",
      "test accuracy 0.886\n",
      "[[ 0.33545926  0.66454071]\n",
      " [ 0.34825322  0.65174675]\n",
      " [ 0.5582121   0.44178796]\n",
      " [ 0.4970485   0.5029515 ]\n",
      " [ 0.40184054  0.59815949]\n",
      " [ 0.52971101  0.47028902]\n",
      " [ 0.37683386  0.62316614]\n",
      " [ 0.34482339  0.65517664]\n",
      " [ 0.54608297  0.45391703]\n",
      " [ 0.39187643  0.6081236 ]]\n",
      "23865\n",
      "test accuracy 0.638\n",
      "[[ 0.52484727  0.47515273]\n",
      " [ 0.53707993  0.46292013]\n",
      " [ 0.59158325  0.40841669]\n",
      " [ 0.55053848  0.44946155]\n",
      " [ 0.53572363  0.46427637]\n",
      " [ 0.56947261  0.43052742]\n",
      " [ 0.54777783  0.45222214]\n",
      " [ 0.5654884   0.43451151]\n",
      " [ 0.5461728   0.45382723]\n",
      " [ 0.5872128   0.4127872 ]]\n",
      "21085\n",
      "test accuracy 0.84\n",
      "[[ 0.3379195   0.66208047]\n",
      " [ 0.75987297  0.24012703]\n",
      " [ 0.33985308  0.66014689]\n",
      " [ 0.78062153  0.21937849]\n",
      " [ 0.43342015  0.56657988]\n",
      " [ 0.73190135  0.26809871]\n",
      " [ 0.29603976  0.70396018]\n",
      " [ 0.78215307  0.21784694]\n",
      " [ 0.24307424  0.75692576]\n",
      " [ 0.82049185  0.17950816]]\n",
      "21396\n",
      "test accuracy 0.924\n",
      "[[ 0.62636703  0.37363297]\n",
      " [ 0.46799538  0.53200465]\n",
      " [ 0.6713568   0.3286432 ]\n",
      " [ 0.49397224  0.50602776]\n",
      " [ 0.60076743  0.3992326 ]\n",
      " [ 0.44909731  0.55090266]\n",
      " [ 0.5980652   0.4019348 ]\n",
      " [ 0.53275341  0.46724668]\n",
      " [ 0.67299944  0.32700056]\n",
      " [ 0.65042955  0.34957042]]\n"
     ]
    }
   ],
   "source": [
    "step_size=200\n",
    " \n",
    "dataList=os.listdir('D:/OSU/SongMat/Train/')\n",
    "\n",
    "for n in range(int(np.size(dataList)/1)-15):\n",
    "    inputOsu=np.empty([0,128*128]);\n",
    "    outputOsu=np.empty([0,4]);\n",
    "    for k in range(n,n+15):\n",
    "        \n",
    "        data=sio.loadmat('D:/OSU/SongMat/Train/'+dataList[k])\n",
    "        inputOsu=np.append(inputOsu,data['input1'].reshape(-1,128*128),axis=0)\n",
    "        outputOsu=np.append(outputOsu,data['target1'].reshape(-1,4),axis=0)\n",
    "               \n",
    "        outputOsu2=np.zeros([outputOsu.shape[0],2]);\n",
    "        outputOsu2[:,0]=outputOsu[:,0]+outputOsu[:,1]+outputOsu[:,2]\n",
    "        outputOsu2[:,1]=outputOsu[:,3]\n",
    "        \n",
    "    N=inputOsu.shape[0]\n",
    "    print(N)\n",
    "    #shuffle the order\n",
    "    order = np.arange(N-3000)\n",
    "    np.random.shuffle(order)\n",
    "    \n",
    "    for i in range(N-3000):\n",
    "        if i%step_size == 0:\n",
    "            \n",
    "            train_accuracy = accuracy.eval(feed_dict={x: inputOsu[order[i:i+step_size],:], y_: outputOsu2[order[i:i+step_size],:], keep_prob: 1.0})\n",
    "#             print(\"step %d, training accuracy %g\" %(i, train_accuracy))\n",
    "            train_step.run(feed_dict={x: inputOsu[order[i:i+step_size],:], y_: outputOsu2[order[i:i+step_size],:], keep_prob: 0.7})\n",
    "    \n",
    "    accTest=accuracy.eval(feed_dict={x: inputOsu[-500:,:], y_: outputOsu2[-500:,:], keep_prob: 1.0});\n",
    "    print(\"test accuracy %g\"%accTest)\n",
    "    print(y_conv.eval(feed_dict={x: inputOsu[200:210:1,:], keep_prob: 1.0}))\n",
    "    if accTest>0.9:\n",
    "        break\n"
   ]
  },
  {
   "cell_type": "code",
   "execution_count": 10,
   "metadata": {
    "collapsed": true
   },
   "outputs": [],
   "source": [
    "save_path = saver.save(sess, \"D:/OSU/results/save/\",global_step=n)"
   ]
  },
  {
   "cell_type": "code",
   "execution_count": null,
   "metadata": {
    "collapsed": true
   },
   "outputs": [],
   "source": []
  },
  {
   "cell_type": "code",
   "execution_count": 13,
   "metadata": {
    "scrolled": false
   },
   "outputs": [
    {
     "name": "stdout",
     "output_type": "stream",
     "text": [
      "[[ 0.62636703  0.37363297]\n",
      " [ 0.46799538  0.53200465]\n",
      " [ 0.6713568   0.3286432 ]\n",
      " [ 0.49397224  0.50602776]\n",
      " [ 0.60076743  0.3992326 ]\n",
      " [ 0.44909731  0.55090266]\n",
      " [ 0.5980652   0.4019348 ]\n",
      " [ 0.53275341  0.46724668]\n",
      " [ 0.67299944  0.32700056]\n",
      " [ 0.65042955  0.34957042]]\n",
      "test accuracy 0.924\n"
     ]
    }
   ],
   "source": [
    "print(y_conv.eval(feed_dict={x: inputOsu[200:210:1,:], keep_prob: 1.0}))\n",
    "print (\"test accuracy %g\"%accuracy.eval(feed_dict={\n",
    "  x: inputOsu[-500:,:], y_: outputOsu2[-500:,:], keep_prob: 1.0}))"
   ]
  },
  {
   "cell_type": "code",
   "execution_count": 14,
   "metadata": {
    "scrolled": false
   },
   "outputs": [
    {
     "name": "stdout",
     "output_type": "stream",
     "text": [
      "[ 'D:\\\\Program Files (x86)\\\\osu!\\\\Songs\\\\342826 Maon Kurosaki - Setsuna no Kajitsu\\\\']\n",
      "test accuracy 0.61\n",
      "[ 'D:\\\\Program Files (x86)\\\\osu!\\\\Songs\\\\342884 Kajiura Yuki - Sis puella magica!\\\\']\n",
      "test accuracy 0.656863\n",
      "['D:\\\\Program Files (x86)\\\\osu!\\\\Songs\\\\342893 SisterS - Hidamari Days\\\\']\n",
      "test accuracy 0.776\n",
      "[ 'D:\\\\Program Files (x86)\\\\osu!\\\\Songs\\\\342896 supercell - Kimi no Shiranai Monogatari -TV Edit-\\\\']\n",
      "test accuracy 0.702\n",
      "['D:\\\\Program Files (x86)\\\\osu!\\\\Songs\\\\342899 SisterS - Hidamari Days\\\\']\n",
      "test accuracy 0.898\n",
      "['D:\\\\Program Files (x86)\\\\osu!\\\\Songs\\\\343020 fhana - Wonder Stella\\\\']\n",
      "test accuracy 0.876\n",
      "['D:\\\\Program Files (x86)\\\\osu!\\\\Songs\\\\343258 KOTOKO - INFINITE SKY\\\\']\n",
      "test accuracy 0.82\n",
      "['D:\\\\Program Files (x86)\\\\osu!\\\\Songs\\\\343365 Hanatan - Ai no Scenario\\\\']\n",
      "test accuracy 0.724\n",
      "['D:\\\\Program Files (x86)\\\\osu!\\\\Songs\\\\343440 Gain - Bloom\\\\']\n",
      "test accuracy 0.726\n",
      "[ 'D:\\\\Program Files (x86)\\\\osu!\\\\Songs\\\\343454 Trevor Something - Summer Love\\\\']\n",
      "test accuracy 0.74\n",
      "[ 'D:\\\\Program Files (x86)\\\\osu!\\\\Songs\\\\343628 Naru Sekiya - Shining glow\\\\']\n",
      "test accuracy 0.846\n",
      "['D:\\\\Program Files (x86)\\\\osu!\\\\Songs\\\\343672 Reol - No title\\\\']\n",
      "test accuracy 0.64\n",
      "[ 'D:\\\\Program Files (x86)\\\\osu!\\\\Songs\\\\343728 Various Artists - Anime Songs Compilation\\\\']\n",
      "test accuracy 0.628\n",
      "[ 'D:\\\\Program Files (x86)\\\\osu!\\\\Songs\\\\540631 Kanon Wakeshima - Sakura Meikyuu\\\\']\n",
      "test accuracy 0.718\n",
      "[ 'D:\\\\Program Files (x86)\\\\osu!\\\\Songs\\\\540674 Suara - Fuantei na Kamisama\\\\']\n",
      "test accuracy 0.804\n",
      "[ 'D:\\\\Program Files (x86)\\\\osu!\\\\Songs\\\\540793 Yukinoshita Yukino (CVHayami Saori) & Yuigahama Yui (CVTouyama Nao) - Everyday World\\\\']\n",
      "test accuracy 0.476\n",
      "[ 'D:\\\\Program Files (x86)\\\\osu!\\\\Songs\\\\540867 Noriko Mitose - EXEC_SPHILIA_\\\\']\n",
      "test accuracy 0.816\n",
      "['D:\\\\Program Files (x86)\\\\osu!\\\\Songs\\\\541619 3R2 - Get On With It\\\\']\n",
      "test accuracy 0.826\n",
      "[ 'D:\\\\Program Files (x86)\\\\osu!\\\\Songs\\\\541856 SawanoHiroyuki[nZk]_mizuki - e of s (game edit)\\\\']\n",
      "test accuracy 0.543933\n",
      "[ \"D:\\\\Program Files (x86)\\\\osu!\\\\Songs\\\\541880 Kana Nishino - Distance (TANUKI's Christmas Remix)\\\\\"]\n",
      "test accuracy 0.872\n",
      "[ 'D:\\\\Program Files (x86)\\\\osu!\\\\Songs\\\\542186 Chata - Precious Wing (Movie ver)\\\\']\n",
      "test accuracy 0.726\n",
      "['D:\\\\Program Files (x86)\\\\osu!\\\\Songs\\\\542755 soraru - Yurayura\\\\']\n",
      "test accuracy 0.72\n",
      "[ 'D:\\\\Program Files (x86)\\\\osu!\\\\Songs\\\\542759 Hirokazu Ando, Tadashi Ikegami, Shogo Sakai, Takuto Kitsuta - Target o Kowase!\\\\']\n",
      "test accuracy 0.667436\n",
      "[ 'D:\\\\Program Files (x86)\\\\osu!\\\\Songs\\\\542934 Laura Shigihara - Grasswalk IN-GAME\\\\']\n",
      "test accuracy 0.738\n",
      "['D:\\\\Program Files (x86)\\\\osu!\\\\Songs\\\\544324 Yasuda Rei - Let It Snow\\\\']\n",
      "test accuracy 0.908\n",
      "[ 'D:\\\\Program Files (x86)\\\\osu!\\\\Songs\\\\544724 Tsuji Ayano - Kaze ni Naru\\\\']\n",
      "test accuracy 0.89\n",
      "[ 'D:\\\\Program Files (x86)\\\\osu!\\\\Songs\\\\545331 ChouCho - Yasashisa no Riyuu\\\\']\n",
      "test accuracy 0.608\n",
      "[ 'D:\\\\Program Files (x86)\\\\osu!\\\\Songs\\\\545404 Akiyama Uni - Niiru Renka Chou ~ Ancients\\\\']\n",
      "test accuracy 0.878\n"
     ]
    }
   ],
   "source": [
    "# Save the output of new maps \n",
    "\n",
    "dataList=os.listdir('D:/OSU/SongMat/Create/')\n",
    "# inputOsuNew=np.empty([0,128*128]);\n",
    "for i in range(np.size(dataList)):\n",
    "    if not dataList[i][0]=='y':\n",
    "        data=sio.loadmat('D:/OSU/SongMat/Create/'+dataList[i])\n",
    "        print(data['osuFolder'])\n",
    "        \n",
    "        inputOsuNew=data['input'].reshape(-1,128*128)\n",
    "        outputOsuNew=data['target']\n",
    "        outputOsu2New=np.zeros([outputOsuNew.shape[0],2]);\n",
    "        outputOsu2New[:,0]=outputOsuNew[:,0]+outputOsuNew[:,1]+outputOsuNew[:,2]\n",
    "        outputOsu2New[:,1]=outputOsuNew[:,3]\n",
    "        \n",
    "        y_result=np.empty([0,2])\n",
    "        \n",
    "        step_size=500\n",
    "        cursor=0\n",
    "        print (\"test accuracy %g\"%accuracy.eval(feed_dict={x: inputOsuNew[-500:,:], y_: outputOsu2New[-500:,:], keep_prob: 1.0}))\n",
    "        while cursor<inputOsuNew.shape[0]:\n",
    "            if inputOsuNew[cursor:,:].shape[0]>step_size:\n",
    "                y_result1=y_conv.eval(feed_dict={x: inputOsuNew[cursor:(cursor+step_size):1,:], keep_prob: 1.0})\n",
    "                y_result=np.append(y_result,y_result1,axis=0)\n",
    "            else:\n",
    "                y_result1=y_conv.eval(feed_dict={x: inputOsuNew[cursor:(cursor+step_size):1,:], keep_prob: 1.0})\n",
    "                y_result=np.append(y_result,y_result1,axis=0)\n",
    "            cursor+=step_size\n",
    "            \n",
    "        data_save={'y2':y_result}\n",
    "        sio.savemat('D:/OSU/SongMat/Create/y2_'+dataList[i],data_save)\n"
   ]
  },
  {
   "cell_type": "code",
   "execution_count": null,
   "metadata": {
    "collapsed": true
   },
   "outputs": [],
   "source": []
  },
  {
   "cell_type": "code",
   "execution_count": null,
   "metadata": {
    "collapsed": true
   },
   "outputs": [],
   "source": []
  },
  {
   "cell_type": "code",
   "execution_count": null,
   "metadata": {
    "collapsed": true,
    "scrolled": false
   },
   "outputs": [],
   "source": []
  },
  {
   "cell_type": "code",
   "execution_count": null,
   "metadata": {
    "collapsed": true
   },
   "outputs": [],
   "source": [
    "data_save={'y':y_result}\n",
    "sio.savemat('D:/OSU/results/innocence/y_innocence.mat',data_save)"
   ]
  },
  {
   "cell_type": "code",
   "execution_count": null,
   "metadata": {
    "collapsed": true
   },
   "outputs": [],
   "source": []
  },
  {
   "cell_type": "code",
   "execution_count": null,
   "metadata": {
    "collapsed": true
   },
   "outputs": [],
   "source": []
  },
  {
   "cell_type": "code",
   "execution_count": null,
   "metadata": {
    "collapsed": true
   },
   "outputs": [],
   "source": []
  },
  {
   "cell_type": "code",
   "execution_count": null,
   "metadata": {
    "collapsed": true
   },
   "outputs": [],
   "source": [
    "checkpoint_dir='D:/OSU/results/innocence/save/'\n",
    "ckpt = tf.train.get_checkpoint_state(checkpoint_dir)  \n",
    "saver.restore(sess, ckpt.model_checkpoint_path)  "
   ]
  },
  {
   "cell_type": "code",
   "execution_count": null,
   "metadata": {
    "collapsed": true
   },
   "outputs": [],
   "source": [
    "saver2 = tf.train.Saver()"
   ]
  },
  {
   "cell_type": "code",
   "execution_count": null,
   "metadata": {
    "collapsed": true
   },
   "outputs": [],
   "source": [
    "checkpoint_dir='/Users/dongqihan/Desktop/FrOstNova/save/'\n",
    "ckpt = tf.train.get_checkpoint_state(checkpoint_dir)  \n",
    "saver2.restore(sess, ckpt.model_checkpoint_path)  "
   ]
  },
  {
   "cell_type": "code",
   "execution_count": null,
   "metadata": {
    "collapsed": true
   },
   "outputs": [],
   "source": []
  },
  {
   "cell_type": "code",
   "execution_count": null,
   "metadata": {
    "collapsed": true
   },
   "outputs": [],
   "source": [
    "a = tf.constant([1.0, 2.0, 3.0, 4.0, 5.0, 6.0], shape=[2, 3], name='a')\n",
    "b = tf.constant([1.0, 2.0, 3.0, 4.0, 5.0, 6.0], shape=[3, 2], name='b')\n",
    "c = tf.matmul(a, b)\n",
    "# Creates a session with log_device_placement set to True.\n",
    "sess_tmp = tf.Session(config=tf.ConfigProto(log_device_placement=True))\n",
    "# Runs the op.\n",
    "print(sess_tmp.run(c))"
   ]
  },
  {
   "cell_type": "code",
   "execution_count": null,
   "metadata": {
    "collapsed": true
   },
   "outputs": [],
   "source": [
    "data_test=sio.loadmat('/Users/dongqihan/Desktop/FrOstNova/granat.mat')\n",
    "inputOsu_test=data_test['input'].reshape(-1,128*128)\n",
    "y_result_test=y_conv.eval(feed_dict={x: inputOsu_test, keep_prob: 1.0})\n",
    "data={'y':y_result_test}\n",
    "sio.savemat('/Users/dongqihan/Desktop/FrOstNova/y_memory2granat.mat',data)"
   ]
  }
 ],
 "metadata": {
  "kernelspec": {
   "display_name": "Python 3",
   "language": "python",
   "name": "python3"
  },
  "language_info": {
   "codemirror_mode": {
    "name": "ipython",
    "version": 3
   },
   "file_extension": ".py",
   "mimetype": "text/x-python",
   "name": "python",
   "nbconvert_exporter": "python",
   "pygments_lexer": "ipython3",
   "version": "3.5.4"
  }
 },
 "nbformat": 4,
 "nbformat_minor": 2
}
